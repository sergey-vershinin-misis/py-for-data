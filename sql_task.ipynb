{
 "cells": [
  {
   "cell_type": "code",
   "execution_count": 1,
   "id": "initial_id",
   "metadata": {
    "collapsed": true,
    "ExecuteTime": {
     "end_time": "2023-10-21T11:08:50.026866800Z",
     "start_time": "2023-10-21T11:08:47.203204900Z"
    }
   },
   "outputs": [
    {
     "data": {
      "text/plain": "            staf_name  staff_age  staff_id      staff_lang  order_pk  \\\n0     Vincenzo Haynes       40.0       NaN  Haitian Creole       NaN   \n1                 NaN       35.0  49-01/80         Dhivehi    6961.0   \n2      Clarita Bonner        NaN  57-69/03      Portuguese    6255.0   \n3           Bart Noel       64.0       NaN          Danish   17602.0   \n4           Bart Noel       64.0       NaN          Danish       NaN   \n5        Monty Greene        NaN  49-01/80         Dhivehi   11155.0   \n6                 NaN       66.0  14-12/76         Bislama    8091.0   \n7        Kenia Hinton       66.0  14-12/76             NaN    8342.0   \n8  Clemente Mcconnell        NaN  60-62/61         Dhivehi    6671.0   \n9        Monty Greene       35.0       NaN         Dhivehi    8107.0   \n\n              order_address        order_country                order_company  \\\n0            561 Capp Ranch          South Sudan                  S3 Graphics   \n1  955 Saint Charles Center              Georgia                          NaN   \n2             209 Rice Lane  Hong Kong SAR China              Bank of America   \n3      1162 Glendale Street            Venezuela  Avant Garde Appraisal Group   \n4      957 Gateview Highway               Poland               Sexsi Senorita   \n5                       NaN            Indonesia       Netstars Matrix Design   \n6          277 Gorgas Court       St. Barthélemy                          NaN   \n7     777 Schofield Station              Morocco        Vocera Communications   \n8     631 Peter Yorke Manor              Hungary                          NaN   \n9         963 Crags Freeway             Honduras                    ZOMM, LLC   \n\n   order_price                    order_dt  \\\n0       702.26  2023-06-04 04:04:12.768457   \n1      1308.12  2023-12-18 04:50:21.666569   \n2          NaN  2023-08-13 19:17:16.453652   \n3      1070.27  2023-07-12 14:15:42.094733   \n4       834.80  2023-12-26 01:58:25.997691   \n5      1061.23  2023-04-01 00:40:28.879572   \n6      1499.18  2023-12-12 12:39:35.755104   \n7       587.25                         NaN   \n8      1095.21  2023-01-06 20:55:57.994451   \n9          NaN  2023-03-28 22:41:40.495446   \n\n                                          order_list        cli_name  \\\n0  ['4caa27ab-aa41-4691-b4c4-5c6606f1aed0', '0f44...     Jody Alston   \n1  ['92d74216-81fe-481a-8180-640aea187206', '3be4...   Stefan Kinney   \n2  ['6d3895d7-ed41-41bd-94ac-835af1937909', '0783...    Adrian Pratt   \n3                                                NaN  Camelia Cortez   \n4  ['dbb950f7-5a12-4de0-b0e2-bf06b4a90736', '4275...             NaN   \n5  ['01285855-3eee-4c86-9e92-3318b9a2dad6', '5abb...  Irving Summers   \n6  ['eeeefd5c-93f8-49e7-900c-772f15e4364e', 'c6eb...             NaN   \n7  ['5cc70321-ac24-408e-93eb-ede89141570a', '38d7...   Stefan Kinney   \n8  ['e23a1ae1-984d-4e0f-84fe-12fdb1d0010f', '2c02...  Kristian Kirby   \n9  ['967ea9dc-8850-400b-a34e-64814af44024', '83ce...             NaN   \n\n                 cli_email        cli_phone  cli_secret  \\\n0     half1883@example.org              NaN         bar   \n1                      NaN     +15752274014      pounds   \n2                      NaN  +1-878-532-5465      rather   \n3     cycling1810@duck.com     +19368521586         NaN   \n4    plane2036@example.org     +19180179760    blogging   \n5      stop1825@yandex.com     +18656404197         NaN   \n6  existence1860@yahoo.com     +15022733155    wireless   \n7  boundaries1896@duck.com     +15752274014         NaN   \n8     mars2034@example.com              NaN  affordable   \n9  trinity1848@example.org  +1-661-260-4552      useful   \n\n                                             c_token   c_pin           c_gen  \\\n0  199c8cd0bc793c000238dc4615ac09be9a55bb8e821f1d...  9176.0             NaN   \n1  dd91411e2271fdaf60b469f02eef7c608390161cca3ba1...  2559.0             NaN   \n2  39f03ec7f669b22c6fb585587e776ed4c6b37e877daf76...  6780.0             NaN   \n3                                                NaN  1274.0  9th Generation   \n4  43b770ae86d7c6accaae7a09381446416e420627eb86b5...     NaN  6th Generation   \n5  8472553bc5d0721e4edc27fe53daaa8593c9d798ebfae8...     NaN  5th Generation   \n6  901d46e01d0b484ee6b2719e0d8346919e9b22d23ff2e5...  1732.0  7th Generation   \n7  275f9f9f87c2080a29b1db699cdfc794137a7c2088d868...     NaN  6th Generation   \n8  b50854d9cde58df9b790fbb6b46a3a1eaf57f5553f9529...  1785.0             NaN   \n9  2c218535ee56fdc9b82e62c9fee5180c542e25f96ccb3f...  9309.0  2nd Generation   \n\n              c_type  \n0     Micron 1TB SSD  \n1   Micron 512GB HDD  \n2    Samsung 1TB SSD  \n3    Seagate 1TB SSD  \n4    Intel 512GB HDD  \n5   SanDisk 64GB SSD  \n6                NaN  \n7  Samsung 512GB SSD  \n8   Kingston 1TB SSD  \n9                NaN  ",
      "text/html": "<div>\n<style scoped>\n    .dataframe tbody tr th:only-of-type {\n        vertical-align: middle;\n    }\n\n    .dataframe tbody tr th {\n        vertical-align: top;\n    }\n\n    .dataframe thead th {\n        text-align: right;\n    }\n</style>\n<table border=\"1\" class=\"dataframe\">\n  <thead>\n    <tr style=\"text-align: right;\">\n      <th></th>\n      <th>staf_name</th>\n      <th>staff_age</th>\n      <th>staff_id</th>\n      <th>staff_lang</th>\n      <th>order_pk</th>\n      <th>order_address</th>\n      <th>order_country</th>\n      <th>order_company</th>\n      <th>order_price</th>\n      <th>order_dt</th>\n      <th>order_list</th>\n      <th>cli_name</th>\n      <th>cli_email</th>\n      <th>cli_phone</th>\n      <th>cli_secret</th>\n      <th>c_token</th>\n      <th>c_pin</th>\n      <th>c_gen</th>\n      <th>c_type</th>\n    </tr>\n  </thead>\n  <tbody>\n    <tr>\n      <th>0</th>\n      <td>Vincenzo Haynes</td>\n      <td>40.0</td>\n      <td>NaN</td>\n      <td>Haitian Creole</td>\n      <td>NaN</td>\n      <td>561 Capp Ranch</td>\n      <td>South Sudan</td>\n      <td>S3 Graphics</td>\n      <td>702.26</td>\n      <td>2023-06-04 04:04:12.768457</td>\n      <td>['4caa27ab-aa41-4691-b4c4-5c6606f1aed0', '0f44...</td>\n      <td>Jody Alston</td>\n      <td>half1883@example.org</td>\n      <td>NaN</td>\n      <td>bar</td>\n      <td>199c8cd0bc793c000238dc4615ac09be9a55bb8e821f1d...</td>\n      <td>9176.0</td>\n      <td>NaN</td>\n      <td>Micron 1TB SSD</td>\n    </tr>\n    <tr>\n      <th>1</th>\n      <td>NaN</td>\n      <td>35.0</td>\n      <td>49-01/80</td>\n      <td>Dhivehi</td>\n      <td>6961.0</td>\n      <td>955 Saint Charles Center</td>\n      <td>Georgia</td>\n      <td>NaN</td>\n      <td>1308.12</td>\n      <td>2023-12-18 04:50:21.666569</td>\n      <td>['92d74216-81fe-481a-8180-640aea187206', '3be4...</td>\n      <td>Stefan Kinney</td>\n      <td>NaN</td>\n      <td>+15752274014</td>\n      <td>pounds</td>\n      <td>dd91411e2271fdaf60b469f02eef7c608390161cca3ba1...</td>\n      <td>2559.0</td>\n      <td>NaN</td>\n      <td>Micron 512GB HDD</td>\n    </tr>\n    <tr>\n      <th>2</th>\n      <td>Clarita Bonner</td>\n      <td>NaN</td>\n      <td>57-69/03</td>\n      <td>Portuguese</td>\n      <td>6255.0</td>\n      <td>209 Rice Lane</td>\n      <td>Hong Kong SAR China</td>\n      <td>Bank of America</td>\n      <td>NaN</td>\n      <td>2023-08-13 19:17:16.453652</td>\n      <td>['6d3895d7-ed41-41bd-94ac-835af1937909', '0783...</td>\n      <td>Adrian Pratt</td>\n      <td>NaN</td>\n      <td>+1-878-532-5465</td>\n      <td>rather</td>\n      <td>39f03ec7f669b22c6fb585587e776ed4c6b37e877daf76...</td>\n      <td>6780.0</td>\n      <td>NaN</td>\n      <td>Samsung 1TB SSD</td>\n    </tr>\n    <tr>\n      <th>3</th>\n      <td>Bart Noel</td>\n      <td>64.0</td>\n      <td>NaN</td>\n      <td>Danish</td>\n      <td>17602.0</td>\n      <td>1162 Glendale Street</td>\n      <td>Venezuela</td>\n      <td>Avant Garde Appraisal Group</td>\n      <td>1070.27</td>\n      <td>2023-07-12 14:15:42.094733</td>\n      <td>NaN</td>\n      <td>Camelia Cortez</td>\n      <td>cycling1810@duck.com</td>\n      <td>+19368521586</td>\n      <td>NaN</td>\n      <td>NaN</td>\n      <td>1274.0</td>\n      <td>9th Generation</td>\n      <td>Seagate 1TB SSD</td>\n    </tr>\n    <tr>\n      <th>4</th>\n      <td>Bart Noel</td>\n      <td>64.0</td>\n      <td>NaN</td>\n      <td>Danish</td>\n      <td>NaN</td>\n      <td>957 Gateview Highway</td>\n      <td>Poland</td>\n      <td>Sexsi Senorita</td>\n      <td>834.80</td>\n      <td>2023-12-26 01:58:25.997691</td>\n      <td>['dbb950f7-5a12-4de0-b0e2-bf06b4a90736', '4275...</td>\n      <td>NaN</td>\n      <td>plane2036@example.org</td>\n      <td>+19180179760</td>\n      <td>blogging</td>\n      <td>43b770ae86d7c6accaae7a09381446416e420627eb86b5...</td>\n      <td>NaN</td>\n      <td>6th Generation</td>\n      <td>Intel 512GB HDD</td>\n    </tr>\n    <tr>\n      <th>5</th>\n      <td>Monty Greene</td>\n      <td>NaN</td>\n      <td>49-01/80</td>\n      <td>Dhivehi</td>\n      <td>11155.0</td>\n      <td>NaN</td>\n      <td>Indonesia</td>\n      <td>Netstars Matrix Design</td>\n      <td>1061.23</td>\n      <td>2023-04-01 00:40:28.879572</td>\n      <td>['01285855-3eee-4c86-9e92-3318b9a2dad6', '5abb...</td>\n      <td>Irving Summers</td>\n      <td>stop1825@yandex.com</td>\n      <td>+18656404197</td>\n      <td>NaN</td>\n      <td>8472553bc5d0721e4edc27fe53daaa8593c9d798ebfae8...</td>\n      <td>NaN</td>\n      <td>5th Generation</td>\n      <td>SanDisk 64GB SSD</td>\n    </tr>\n    <tr>\n      <th>6</th>\n      <td>NaN</td>\n      <td>66.0</td>\n      <td>14-12/76</td>\n      <td>Bislama</td>\n      <td>8091.0</td>\n      <td>277 Gorgas Court</td>\n      <td>St. Barthélemy</td>\n      <td>NaN</td>\n      <td>1499.18</td>\n      <td>2023-12-12 12:39:35.755104</td>\n      <td>['eeeefd5c-93f8-49e7-900c-772f15e4364e', 'c6eb...</td>\n      <td>NaN</td>\n      <td>existence1860@yahoo.com</td>\n      <td>+15022733155</td>\n      <td>wireless</td>\n      <td>901d46e01d0b484ee6b2719e0d8346919e9b22d23ff2e5...</td>\n      <td>1732.0</td>\n      <td>7th Generation</td>\n      <td>NaN</td>\n    </tr>\n    <tr>\n      <th>7</th>\n      <td>Kenia Hinton</td>\n      <td>66.0</td>\n      <td>14-12/76</td>\n      <td>NaN</td>\n      <td>8342.0</td>\n      <td>777 Schofield Station</td>\n      <td>Morocco</td>\n      <td>Vocera Communications</td>\n      <td>587.25</td>\n      <td>NaN</td>\n      <td>['5cc70321-ac24-408e-93eb-ede89141570a', '38d7...</td>\n      <td>Stefan Kinney</td>\n      <td>boundaries1896@duck.com</td>\n      <td>+15752274014</td>\n      <td>NaN</td>\n      <td>275f9f9f87c2080a29b1db699cdfc794137a7c2088d868...</td>\n      <td>NaN</td>\n      <td>6th Generation</td>\n      <td>Samsung 512GB SSD</td>\n    </tr>\n    <tr>\n      <th>8</th>\n      <td>Clemente Mcconnell</td>\n      <td>NaN</td>\n      <td>60-62/61</td>\n      <td>Dhivehi</td>\n      <td>6671.0</td>\n      <td>631 Peter Yorke Manor</td>\n      <td>Hungary</td>\n      <td>NaN</td>\n      <td>1095.21</td>\n      <td>2023-01-06 20:55:57.994451</td>\n      <td>['e23a1ae1-984d-4e0f-84fe-12fdb1d0010f', '2c02...</td>\n      <td>Kristian Kirby</td>\n      <td>mars2034@example.com</td>\n      <td>NaN</td>\n      <td>affordable</td>\n      <td>b50854d9cde58df9b790fbb6b46a3a1eaf57f5553f9529...</td>\n      <td>1785.0</td>\n      <td>NaN</td>\n      <td>Kingston 1TB SSD</td>\n    </tr>\n    <tr>\n      <th>9</th>\n      <td>Monty Greene</td>\n      <td>35.0</td>\n      <td>NaN</td>\n      <td>Dhivehi</td>\n      <td>8107.0</td>\n      <td>963 Crags Freeway</td>\n      <td>Honduras</td>\n      <td>ZOMM, LLC</td>\n      <td>NaN</td>\n      <td>2023-03-28 22:41:40.495446</td>\n      <td>['967ea9dc-8850-400b-a34e-64814af44024', '83ce...</td>\n      <td>NaN</td>\n      <td>trinity1848@example.org</td>\n      <td>+1-661-260-4552</td>\n      <td>useful</td>\n      <td>2c218535ee56fdc9b82e62c9fee5180c542e25f96ccb3f...</td>\n      <td>9309.0</td>\n      <td>2nd Generation</td>\n      <td>NaN</td>\n    </tr>\n  </tbody>\n</table>\n</div>"
     },
     "execution_count": 1,
     "metadata": {},
     "output_type": "execute_result"
    }
   ],
   "source": [
    "from pandas import DataFrame\n",
    "import pandas as pd\n",
    "\n",
    "df = pd.read_csv('sample_0.csv')\n",
    "df.head(10)"
   ]
  },
  {
   "cell_type": "code",
   "execution_count": 35,
   "outputs": [
    {
     "data": {
      "text/plain": "(13.0, 25.0)"
     },
     "execution_count": 35,
     "metadata": {},
     "output_type": "execute_result"
    }
   ],
   "source": [
    "l = df['c_type'].str.len()\n",
    "l.min(), l.max()"
   ],
   "metadata": {
    "collapsed": false,
    "ExecuteTime": {
     "end_time": "2023-10-21T12:19:08.029375400Z",
     "start_time": "2023-10-21T12:19:07.958749800Z"
    }
   },
   "id": "26f229b770582149"
  },
  {
   "cell_type": "code",
   "execution_count": 15,
   "outputs": [
    {
     "data": {
      "text/plain": "           staff_age       order_pk    order_price          c_pin\ncount  149985.000000  171307.000000  171601.000000  149719.000000\nmean       48.493923   10031.814579    1000.246964    4988.673869\nstd        14.531944    5772.923848     288.563917    2914.684243\nmin        19.000000       1.000000     500.140000       1.000000\n25%        38.000000    5043.000000     750.040000    2450.000000\n50%        54.000000   10046.000000     999.280000    4966.000000\n75%        63.000000   15056.000000    1249.610000    7537.000000\nmax        66.000000   20000.000000    1499.980000    9999.000000",
      "text/html": "<div>\n<style scoped>\n    .dataframe tbody tr th:only-of-type {\n        vertical-align: middle;\n    }\n\n    .dataframe tbody tr th {\n        vertical-align: top;\n    }\n\n    .dataframe thead th {\n        text-align: right;\n    }\n</style>\n<table border=\"1\" class=\"dataframe\">\n  <thead>\n    <tr style=\"text-align: right;\">\n      <th></th>\n      <th>staff_age</th>\n      <th>order_pk</th>\n      <th>order_price</th>\n      <th>c_pin</th>\n    </tr>\n  </thead>\n  <tbody>\n    <tr>\n      <th>count</th>\n      <td>149985.000000</td>\n      <td>171307.000000</td>\n      <td>171601.000000</td>\n      <td>149719.000000</td>\n    </tr>\n    <tr>\n      <th>mean</th>\n      <td>48.493923</td>\n      <td>10031.814579</td>\n      <td>1000.246964</td>\n      <td>4988.673869</td>\n    </tr>\n    <tr>\n      <th>std</th>\n      <td>14.531944</td>\n      <td>5772.923848</td>\n      <td>288.563917</td>\n      <td>2914.684243</td>\n    </tr>\n    <tr>\n      <th>min</th>\n      <td>19.000000</td>\n      <td>1.000000</td>\n      <td>500.140000</td>\n      <td>1.000000</td>\n    </tr>\n    <tr>\n      <th>25%</th>\n      <td>38.000000</td>\n      <td>5043.000000</td>\n      <td>750.040000</td>\n      <td>2450.000000</td>\n    </tr>\n    <tr>\n      <th>50%</th>\n      <td>54.000000</td>\n      <td>10046.000000</td>\n      <td>999.280000</td>\n      <td>4966.000000</td>\n    </tr>\n    <tr>\n      <th>75%</th>\n      <td>63.000000</td>\n      <td>15056.000000</td>\n      <td>1249.610000</td>\n      <td>7537.000000</td>\n    </tr>\n    <tr>\n      <th>max</th>\n      <td>66.000000</td>\n      <td>20000.000000</td>\n      <td>1499.980000</td>\n      <td>9999.000000</td>\n    </tr>\n  </tbody>\n</table>\n</div>"
     },
     "execution_count": 15,
     "metadata": {},
     "output_type": "execute_result"
    }
   ],
   "source": [
    "df.describe()"
   ],
   "metadata": {
    "collapsed": false,
    "ExecuteTime": {
     "end_time": "2023-10-21T11:49:36.847776900Z",
     "start_time": "2023-10-21T11:49:36.772208700Z"
    }
   },
   "id": "d1bdf09e341ac5ed"
  },
  {
   "cell_type": "code",
   "execution_count": 28,
   "outputs": [
    {
     "data": {
      "text/plain": "36"
     },
     "execution_count": 28,
     "metadata": {},
     "output_type": "execute_result"
    }
   ],
   "source": [
    "len('4caa27ab-aa41-4691-b4c4-5c6606f1aed0')"
   ],
   "metadata": {
    "collapsed": false,
    "ExecuteTime": {
     "end_time": "2023-10-21T12:15:21.146533600Z",
     "start_time": "2023-10-21T12:15:21.134499700Z"
    }
   },
   "id": "c0f0ce71a2838e4d"
  },
  {
   "cell_type": "code",
   "execution_count": 36,
   "outputs": [
    {
     "data": {
      "text/plain": "(200000, 19)"
     },
     "execution_count": 36,
     "metadata": {},
     "output_type": "execute_result"
    }
   ],
   "source": [
    "df.shape"
   ],
   "metadata": {
    "collapsed": false,
    "ExecuteTime": {
     "end_time": "2023-10-21T16:27:31.259285700Z",
     "start_time": "2023-10-21T16:27:31.244885400Z"
    }
   },
   "id": "1b99920b6cc159ca"
  },
  {
   "cell_type": "code",
   "execution_count": null,
   "outputs": [],
   "source": [],
   "metadata": {
    "collapsed": false
   },
   "id": "c88c76cefb7ebca3"
  }
 ],
 "metadata": {
  "kernelspec": {
   "display_name": "Python 3",
   "language": "python",
   "name": "python3"
  },
  "language_info": {
   "codemirror_mode": {
    "name": "ipython",
    "version": 2
   },
   "file_extension": ".py",
   "mimetype": "text/x-python",
   "name": "python",
   "nbconvert_exporter": "python",
   "pygments_lexer": "ipython2",
   "version": "2.7.6"
  }
 },
 "nbformat": 4,
 "nbformat_minor": 5
}
