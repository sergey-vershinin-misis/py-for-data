{
 "cells": [
  {
   "cell_type": "code",
   "execution_count": 1,
   "id": "3a80d298",
   "metadata": {
    "ExecuteTime": {
     "end_time": "2023-10-23T19:00:35.369027800Z",
     "start_time": "2023-10-23T19:00:35.362616Z"
    }
   },
   "outputs": [],
   "source": [
    "from typing import Tuple\n",
    "import matplotlib.pyplot as plt\n",
    "import numpy as np\n",
    "from scipy.stats import norm, poisson\n",
    "import scipy\n",
    "\n",
    "# функции для генерации данных\n",
    "\n",
    "def generate_sample_for_statistic_calculation(size: int = 10000) -> np.ndarray:\n",
    "    rnd_mean = np.random.normal(5, 5, size=1)[0]\n",
    "    rnd_std = np.random.poisson(5, size=1)[0]\n",
    "    return norm(rnd_mean, rnd_std).rvs(size)\n",
    "\n",
    "\n",
    "def correlation_data() -> Tuple[np.ndarray, np.ndarray]:\n",
    "    sample1 = norm(0, 1).rvs(1000)\n",
    "    noise = norm(0, 1).rvs(1000)\n",
    "    sample2 = np.random.normal(0, 1, size=1)[0] * sample1 + np.random.normal(0, 1, size=1) + noise\n",
    "    return sample1, sample2\n",
    "\n",
    "\n",
    "def task3_data() -> np.ndarray:\n",
    "    if np.random.random() < 0.8:\n",
    "        return norm(0, 1).rvs(1000)\n",
    "    else:\n",
    "        return poisson(5).rvs(1000)\n",
    "    \n",
    "    \n",
    "def task4_part1() -> Tuple[np.ndarray, np.ndarray]:\n",
    "    rnd_mean1 = np.random.normal(5, 5, size=1)[0]\n",
    "    rnd_std1 = np.random.poisson(5, size=1)[0]\n",
    "    \n",
    "    rnd_mean2 = np.random.normal(5, 5, size=1)[0]\n",
    "    rnd_std2 = np.random.poisson(5, size=1)[0]\n",
    "    \n",
    "    sample1 = norm(rnd_mean1, rnd_std1).rvs(1000)\n",
    "    sample2 = norm(rnd_mean2, rnd_std2).rvs(1000)\n",
    "    \n",
    "    print(f\"sample1 mean: {sample1.mean()}\")\n",
    "    print(f\"sample2 mean: {sample2.mean()}\")\n",
    "\n",
    "    return sample1, sample2\n",
    "    "
   ]
  },
  {
   "cell_type": "code",
   "execution_count": null,
   "id": "abb283ed",
   "metadata": {},
   "outputs": [],
   "source": []
  },
  {
   "cell_type": "markdown",
   "id": "be8e7912",
   "metadata": {},
   "source": [
    "### Задание 1"
   ]
  },
  {
   "cell_type": "code",
   "execution_count": 44,
   "id": "8b81d856",
   "metadata": {
    "ExecuteTime": {
     "end_time": "2023-10-23T19:06:26.045108300Z",
     "start_time": "2023-10-23T19:06:26.029059800Z"
    }
   },
   "outputs": [],
   "source": [
    "# Функция generate_sample_for_statistic_calculation() отдает выборку значений некоторого распределения.\n",
    "# Посчитать общие статистики: \n",
    "#    минимум, максимум, медиана, среднее, дисперсия, стандратное отклонение, 0.25 и 0.75 квантили\n",
    "# Используйте numpy и его функции агрегации.\n",
    "# Для подсчета квантилей используйте функцию np.quantile(). Аргументы посмотрите в документации.\n",
    "# Выведите все статистики по очереди на каждой строчке через print. \n",
    "# Посмотрите на цифры. Сделайте выводы о том, какие значения может принимать анализируемая случайная величина. \n",
    "# Как соотносятся между собой статистики? \n",
    "# Например, сильно ли отклоняются минимальные и максимальные значения от среднего?\n",
    "\n",
    "values = generate_sample_for_statistic_calculation()"
   ]
  },
  {
   "cell_type": "code",
   "execution_count": 45,
   "outputs": [
    {
     "name": "stdout",
     "output_type": "stream",
     "text": [
      "Минимум:  -7.390319301608693\n",
      "Максимум:  14.09589239317725\n",
      "Среднее:  3.7265867250106086\n",
      "Медиана:  3.717405561131052\n",
      "Дисперсия:  8.877714441807576\n",
      "Стандартное отклонение:  2.9795493689159738\n",
      "0.25 квантиль:  1.7144080464148357\n",
      "0.75 квантиль:  5.733725507153096\n"
     ]
    },
    {
     "data": {
      "text/plain": "<Axes: ylabel='Density'>"
     },
     "execution_count": 45,
     "metadata": {},
     "output_type": "execute_result"
    },
    {
     "data": {
      "text/plain": "<Figure size 640x480 with 1 Axes>",
      "image/png": "[encoded data removed]"
     },
     "metadata": {},
     "output_type": "display_data"
    }
   ],
   "source": [
    "print('Минимум: ', np.min(values))\n",
    "print('Максимум: ', np.max(values))\n",
    "print('Среднее: ', np.mean(values))\n",
    "print('Медиана: ', np.median(values))\n",
    "print('Дисперсия: ', np.var(values))\n",
    "print('Стандартное отклонение: ', np.std(values))\n",
    "print('0.25 квантиль: ', np.quantile(values, 0.25))\n",
    "print('0.75 квантиль: ', np.quantile(values, 0.75))\n",
    "\n",
    "import seaborn as sns\n",
    "sns.kdeplot(values)"
   ],
   "metadata": {
    "collapsed": false,
    "ExecuteTime": {
     "end_time": "2023-10-23T19:06:27.047245500Z",
     "start_time": "2023-10-23T19:06:26.760606600Z"
    }
   },
   "id": "400dd16b"
  },
  {
   "cell_type": "markdown",
   "id": "7141c344",
   "metadata": {},
   "source": [
    "### Задание 2"
   ]
  },
  {
   "cell_type": "code",
   "execution_count": null,
   "id": "55f385ee",
   "metadata": {},
   "outputs": [],
   "source": [
    "# Корреляция\n",
    "# Корреляция показывает линейную зависимость между величинами и может принимать значения от -1 до 1.\n",
    "# 1 и -1 показывают сильную корреляцию. Значение близкое к нулю показывает то, что корреляции почти нет.\n",
    "# Напишите функцию корреляции с помощью модуля numpy.\n",
    "# Функция принимает 2 выборки. И возвращает одно число.\n",
    "# Сравните по времени (функция %%timeit) работу вашей функции и функции np.corrcoef() модуля numpy\n",
    "\n",
    "# Формула для расчет корреляции ниже:"
   ]
  },
  {
   "cell_type": "markdown",
   "id": "b5520a84",
   "metadata": {},
   "source": [
    "## $corr(x,y) = \\frac{\\sum_i^N{(x_i-\\bar{x}) (y_i-\\bar{y})}}{N * std(x) * std(y)}$\n",
    "\n",
    "#### $\\sum - знак \\, суммирования \\, по \\, членам \\, вектора$\n",
    "#### $std - стандартное \\, отклонение$\n",
    "#### $\\bar{x} - среднее \\, вектора$"
   ]
  },
  {
   "cell_type": "code",
   "execution_count": 9,
   "id": "22f0ad65",
   "metadata": {
    "ExecuteTime": {
     "end_time": "2023-10-23T16:26:01.914263500Z",
     "start_time": "2023-10-23T16:26:01.882665300Z"
    }
   },
   "outputs": [
    {
     "data": {
      "text/plain": "True"
     },
     "execution_count": 9,
     "metadata": {},
     "output_type": "execute_result"
    }
   ],
   "source": [
    "sample1, sample2 = correlation_data()\n",
    "\n",
    "def correlation(x,y):\n",
    "    return  sum((x - np.mean(x))*(y - np.mean(y))) / (len(x) * np.std(x) * np.std(y))\n",
    "\n",
    "correlation(sample1, sample2) - np.corrcoef(sample1, sample2)[0,1] < 0.00001"
   ]
  },
  {
   "cell_type": "code",
   "execution_count": 10,
   "id": "f520a07b",
   "metadata": {
    "ExecuteTime": {
     "end_time": "2023-10-23T16:26:33.097373Z",
     "start_time": "2023-10-23T16:26:33.059161900Z"
    }
   },
   "outputs": [
    {
     "data": {
      "text/plain": "-0.4076026950967568"
     },
     "execution_count": 10,
     "metadata": {},
     "output_type": "execute_result"
    }
   ],
   "source": [
    "sample1, sample2 = correlation_data()\n",
    "correlation(sample1,sample2)"
   ]
  },
  {
   "cell_type": "code",
   "execution_count": 13,
   "outputs": [
    {
     "data": {
      "text/plain": "array([[ 1.        , -0.90321654],\n       [-0.90321654,  1.        ]])"
     },
     "execution_count": 13,
     "metadata": {},
     "output_type": "execute_result"
    }
   ],
   "source": [
    "sample1, sample2 = correlation_data()\n",
    "np.corrcoef(sample1,sample2)"
   ],
   "metadata": {
    "collapsed": false,
    "ExecuteTime": {
     "end_time": "2023-10-23T16:26:52.289271700Z",
     "start_time": "2023-10-23T16:26:52.260494600Z"
    }
   },
   "id": "e81de8bd022e1c28"
  },
  {
   "cell_type": "markdown",
   "id": "6014c1ff",
   "metadata": {
    "ExecuteTime": {
     "end_time": "2023-10-23T16:21:43.054597500Z",
     "start_time": "2023-10-23T16:21:35.925393100Z"
    }
   },
   "source": [
    "### Задание 3"
   ]
  },
  {
   "cell_type": "code",
   "execution_count": null,
   "id": "1167aa9a",
   "metadata": {},
   "outputs": [],
   "source": [
    "# Код генерирует данные, которые вы должны проверить на нормальность распределения.\n",
    "# Напишите код, который это выполняет.\n",
    "# Определите нулевую гипотезу и альтернативную.\n",
    "# Задайте уровень значимости.\n",
    "# проведите тест и сделайте выводы на его основе.\n",
    "# выведи вс нужные для принятия решения результаты на экран"
   ]
  },
  {
   "cell_type": "code",
   "execution_count": 53,
   "id": "73564c2d",
   "metadata": {
    "ExecuteTime": {
     "end_time": "2023-10-23T19:07:50.135551900Z",
     "start_time": "2023-10-23T19:07:50.131230900Z"
    }
   },
   "outputs": [
    {
     "name": "stdout",
     "output_type": "stream",
     "text": [
      "p_value: 0.784990668296814\n"
     ]
    }
   ],
   "source": [
    "values = task3_data()\n",
    "\n",
    "# Исходя из материала лекции, для проверки распределения величины на нормальность можно использовать критерий Шапиро-Уилк. В этом случае гипотезы выглядят следущим образом:\n",
    "# H0 - величина имеет нормальное распределение\n",
    "# H1 - величина не имеет нормального распределения\n",
    "# alpha = 0.05\n",
    "\n",
    "from scipy.stats import shapiro\n",
    "import seaborn as sns\n",
    "\n",
    "stat, p_value = shapiro(values)\n",
    "print(\"p_value:\", p_value)"
   ]
  },
  {
   "cell_type": "code",
   "execution_count": 47,
   "id": "64e95073",
   "metadata": {
    "ExecuteTime": {
     "end_time": "2023-10-23T19:06:45.295927700Z",
     "start_time": "2023-10-23T19:06:45.295420900Z"
    }
   },
   "outputs": [],
   "source": [
    "# При многократном запуске кода в предыдущей ячейке значение p_value получается > alpha, а это означает, что мы не отвергаем\n",
    "# нулевую гипотезу (т.к. отвергаем мы ее при p_value < alpha). Значит, можно сделать вывод, Что величина имеет нормальное распределение"
   ]
  },
  {
   "cell_type": "markdown",
   "id": "f3e50c3b",
   "metadata": {
    "ExecuteTime": {
     "end_time": "2023-10-23T19:07:51.809733900Z",
     "start_time": "2023-10-23T19:07:51.672342Z"
    }
   },
   "source": [
    "### Задание 4"
   ]
  },
  {
   "cell_type": "markdown",
   "id": "4681751e",
   "metadata": {},
   "source": [
    "#### Подзадание 1"
   ]
  },
  {
   "cell_type": "code",
   "execution_count": null,
   "id": "fd83f001",
   "metadata": {},
   "outputs": [],
   "source": [
    "# проведите ttest на двух множествах (используйте ttest_ind метод из scipy.stats)\n",
    "# выберите уровень значимости.\n",
    "# определите нулевую и и альтернативную гипотезы.\n",
    "# получите p_value. Определите прокрасился ли тест или нет.\n",
    "# сделайте выводы.\n",
    "# выводите все нужные для анализа результаты на экран"
   ]
  },
  {
   "cell_type": "code",
   "execution_count": null,
   "id": "2bec2c0e",
   "metadata": {},
   "outputs": [],
   "source": [
    "sample1, sample2 = task4_part1()"
   ]
  },
  {
   "cell_type": "code",
   "execution_count": null,
   "id": "0a649a59",
   "metadata": {},
   "outputs": [],
   "source": []
  },
  {
   "cell_type": "markdown",
   "id": "1c008436",
   "metadata": {},
   "source": [
    "#### подзадание 2"
   ]
  },
  {
   "cell_type": "code",
   "execution_count": null,
   "id": "9e02199e",
   "metadata": {},
   "outputs": [],
   "source": [
    "# Подбрасывали игральную кость. Делали это 1000 раз. Получили следующие показания.\n",
    "# Вопрос: является ли кость симметричной? То есть любая грань может выпасть одинаковое кол-во раз?\n",
    "# возьмите функцию chisquare из scipy.stats и проведи проверку.\n",
    "# выберите уровень значимости.\n",
    "# определите нулевую и и альтернативную гипотезы.\n",
    "# получите p_value. Определите прокрасился ли тест или нет.\n",
    "# сделайте выводы.\n",
    "\n",
    "# После выводов проделайте следующее:\n",
    "# Как должны были выпасть грани, чтобы тест показал противоположный результат? Запишите получившийся вариант"
   ]
  },
  {
   "cell_type": "markdown",
   "id": "54f555b3",
   "metadata": {},
   "source": [
    "$$\n",
    "\\begin{aligned}\n",
    "&\\begin{array}{cccc}\n",
    "\\hline Ребро & 1 & 2 & 3 & 4 & 5 & 6 \\\\\n",
    "\\hline Кол-во \\, выпаданий & 150 & 153 & 166 & 170 & 183 & 178 \\\\\n",
    "\\hline\n",
    "\\end{array}\n",
    "\\end{aligned}\n",
    "$$"
   ]
  },
  {
   "cell_type": "code",
   "execution_count": null,
   "id": "30e69f8f",
   "metadata": {},
   "outputs": [],
   "source": [
    "... # Ваш код тут"
   ]
  },
  {
   "cell_type": "markdown",
   "id": "a44430b2",
   "metadata": {},
   "source": [
    "### Задание 5"
   ]
  },
  {
   "cell_type": "code",
   "execution_count": null,
   "id": "d0bca82f",
   "metadata": {},
   "outputs": [],
   "source": [
    "# Интегрирование. \n",
    "# Напишите функцию, которая определена на интервале от -10 до 10. \n",
    "# Функция на ваше усмотрение.\n",
    "# Посчитайте интеграл (площадь под кривой) вашей функции.\n",
    "# Проверьте себя либо аналитическим расчетом интеграла, либо воспользовавшись сервисом \n",
    "# https://www.integral-calculator.ru/"
   ]
  },
  {
   "cell_type": "code",
   "execution_count": null,
   "id": "0d2cbd18",
   "metadata": {},
   "outputs": [],
   "source": [
    "from scipy import integrate\n",
    "import matplotlib.pyplot as plt"
   ]
  },
  {
   "cell_type": "code",
   "execution_count": 8,
   "id": "046700b9",
   "metadata": {
    "ExecuteTime": {
     "end_time": "2023-10-23T16:33:51.853357400Z",
     "start_time": "2023-10-23T16:33:51.696980100Z"
    }
   },
   "outputs": [
    {
     "name": "stdout",
     "output_type": "stream",
     "text": [
      "Интеграл функции y = x^3 + 1 на интервале (-10, 10) равен: 20.00000000000057\n"
     ]
    },
    {
     "data": {
      "text/plain": "<Figure size 640x480 with 1 Axes>",
      "image/png": "[encoded data removed]"
     },
     "metadata": {},
     "output_type": "display_data"
    }
   ],
   "source": [
    "x = np.linspace(-10, 10, 100)\n",
    "y = x ** 3 + 1\n",
    "\n",
    "plt.plot(x, y)\n",
    "\n",
    "#расчет интеграла\n",
    "s = 0\n",
    "for i in range(1, len(x)): \n",
    "    s+= (x[i] - x[i-1])*((y[i-1]+y[i])/2)\n",
    "\n",
    "print ('Интеграл функции y = x^3 + 1 на интервале (-10, 10) равен:', s)"
   ]
  },
  {
   "cell_type": "markdown",
   "source": [
    "## $\\int_{-10}^{10} x^3 + 1$ =  $\\frac{x^4}{4} + х  |_{-10}^{10} $ = $\\frac{1000}{4} + 10 - \\frac{1000}{4} + 10$ = $20$"
   ],
   "metadata": {
    "collapsed": false
   },
   "id": "eea2f07bd66e430a"
  },
  {
   "cell_type": "markdown",
   "id": "fdf6a27d",
   "metadata": {},
   "source": [
    "### Задание 6"
   ]
  },
  {
   "cell_type": "code",
   "execution_count": null,
   "id": "beb3428b",
   "metadata": {},
   "outputs": [],
   "source": [
    "# Решите задачу интерполирования.\n",
    "# У вас есть конечное число точек. Постройте на них функцию, которую хочется.\n",
    "# Проведите на ней процедуру интерполяции. \n",
    "# Проверьте либо руками, либо с помощью питона результат работы вашей интерполяции \n",
    "# результат и выводы выведи на экран."
   ]
  },
  {
   "cell_type": "code",
   "execution_count": 1,
   "id": "dbacfe81",
   "metadata": {
    "ExecuteTime": {
     "end_time": "2023-10-23T16:50:19.699060200Z",
     "start_time": "2023-10-23T16:50:19.694511400Z"
    }
   },
   "outputs": [],
   "source": [
    "from scipy import interpolate"
   ]
  },
  {
   "cell_type": "code",
   "execution_count": 3,
   "id": "13d8fa88",
   "metadata": {
    "ExecuteTime": {
     "end_time": "2023-10-23T16:50:33.169825400Z",
     "start_time": "2023-10-23T16:50:32.979092400Z"
    }
   },
   "outputs": [
    {
     "data": {
      "text/plain": "[<matplotlib.lines.Line2D at 0x148861a3f10>]"
     },
     "execution_count": 3,
     "metadata": {},
     "output_type": "execute_result"
    },
    {
     "data": {
      "text/plain": "<Figure size 640x480 with 1 Axes>",
      "image/png": "[encoded data removed]"
     },
     "metadata": {},
     "output_type": "display_data"
    }
   ],
   "source": [
    "# на заданном наборе x строим значения y и рисуем в виде точек (подсмотрел в ноутбуке с лекции)\n",
    "x = np.arange(-20, 20, 3)\n",
    "y = x**4 + x \n",
    "\n",
    "plt.plot(x, y, 'o')\n",
    "\n",
    "# выполняем интерполяцию и получаем функцию f\n",
    "f = interpolate.interp1d(x, y)\n",
    "\n",
    "# задаем другой набор точек и получаем значения интерполированной функции на них, после чего рисуем на графике в виде отрезков\n",
    "x1 = np.arange(-18.5, 15, 0.5)\n",
    "y1 = f(x1)\n",
    "plt.plot(x1, y1, '-')\n"
   ]
  },
  {
   "cell_type": "code",
   "execution_count": null,
   "outputs": [],
   "source": [],
   "metadata": {
    "collapsed": false
   },
   "id": "7dc165001d2bd37b"
  }
 ],
 "metadata": {
  "kernelspec": {
   "name": "python3",
   "language": "python",
   "display_name": "Python 3 (ipykernel)"
  },
  "language_info": {
   "codemirror_mode": {
    "name": "ipython",
    "version": 3
   },
   "file_extension": ".py",
   "mimetype": "text/x-python",
   "name": "python",
   "nbconvert_exporter": "python",
   "pygments_lexer": "ipython3",
   "version": "3.10.12"
  }
 },
 "nbformat": 4,
 "nbformat_minor": 5
}
