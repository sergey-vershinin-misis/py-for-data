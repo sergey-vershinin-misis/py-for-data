{
 "cells": [
  {
   "cell_type": "markdown",
   "id": "aee0d75e",
   "metadata": {},
   "source": [
    "**SciPy** - это библиотека, которая содержит набор математических алгоритмов и функций, построенных на основе библиотеки NumPy. Она предоставляет пользователю готовые функции и классы для математических вычислений и манипулирования данными. \n",
    "\n",
    "Обычно SciPy используют с библиотеками Matplotlib, NumPy, Pandas. Так вот. Язык Python в связке с этими библиотеками вполне может конкурировать со специальными математическими пакетами и системами такими как **MATLAB, Octave, SciLab, Maple** и прочими. Некоторые из которых даже платные."
   ]
  },
  {
   "cell_type": "code",
   "execution_count": null,
   "id": "760b8889",
   "metadata": {
    "tags": []
   },
   "outputs": [],
   "source": [
    "import numpy as np\n",
    "import matplotlib.pyplot as plt"
   ]
  },
  {
   "cell_type": "markdown",
   "id": "37a1a960",
   "metadata": {},
   "source": [
    "## Структура SciPy"
   ]
  },
  {
   "cell_type": "markdown",
   "id": "3f608ccc",
   "metadata": {},
   "source": [
    "Организация подпакетов:"
   ]
  },
  {
   "cell_type": "markdown",
   "id": "b39ccd0d",
   "metadata": {},
   "source": [
    "Название|\tОписание|\n",
    "--------|-----------|\n",
    "cluster|\tАлгоритмы кластерного анализа|\n",
    "constants|\tФизические и математические константы|\n",
    "fftpack|\tБыстрое преобразование Фурье|\n",
    "integrate|\tРешения интегральных и обычных дифференциальных уравнений|\n",
    "interpolate|\tИнтерполяция и сглаживание сплайнов|\n",
    "io|\tВвод и вывод|\n",
    "linalg|\tЛинейная алгебра|\n",
    "ndimage|\tN-размерная обработка изображений|\n",
    "odr|\tМетод ортогональных расстояний|\n",
    "optimize|\tОптимизация и численное решение уравнений|\n",
    "signal|\tОбработка сигналов|\n",
    "sparse|\tРазреженные матрицы|\n",
    "spatial|\tРазреженные структуры данных и алгоритмы|\n",
    "special|\tСпециальные функции|\n",
    "stats|\tСтатистические распределения и функции|"
   ]
  },
  {
   "cell_type": "markdown",
   "id": "d7fd524e",
   "metadata": {},
   "source": [
    "Чтобы пользоваться функциями из подпакета его надо импортировать отдельно:"
   ]
  },
  {
   "cell_type": "code",
   "execution_count": 1,
   "id": "2ad36011",
   "metadata": {
    "tags": []
   },
   "outputs": [],
   "source": [
    "from scipy import linalg"
   ]
  },
  {
   "cell_type": "markdown",
   "id": "a4fb0c72",
   "metadata": {},
   "source": [
    "Для того, чтобы постоянно не смотреть в документацию есть несколько специальных справочных функций, которые можно вызывать прямо в коде: **help** и **source**."
   ]
  },
  {
   "cell_type": "markdown",
   "id": "fab2e742",
   "metadata": {},
   "source": [
    "**help()** - позволяет получить информацию о любой функции из пакета или информацю о подпакете:"
   ]
  },
  {
   "cell_type": "code",
   "execution_count": 3,
   "id": "48231255",
   "metadata": {
    "tags": []
   },
   "outputs": [],
   "source": [
    "# help(linalg) # информация о подпакете linalg"
   ]
  },
  {
   "cell_type": "code",
   "execution_count": 6,
   "id": "3c2f904d",
   "metadata": {
    "tags": []
   },
   "outputs": [],
   "source": [
    "# help(linalg.inv) # информация о функции, которое вычисляет обратную матрицу"
   ]
  },
  {
   "cell_type": "markdown",
   "id": "0488716e",
   "metadata": {},
   "source": [
    "Функция **source** позволяет посмотреть исходный код функции:"
   ]
  },
  {
   "cell_type": "code",
   "execution_count": 8,
   "id": "4ae5ed30",
   "metadata": {
    "tags": []
   },
   "outputs": [],
   "source": [
    "from scipy import source\n",
    "# source(linalg.inv) # посмотрия на исходный код функции inv"
   ]
  },
  {
   "cell_type": "markdown",
   "id": "e4a1cd43",
   "metadata": {},
   "source": [
    "Теперь пройдёмся по основным подпакетам и их функциям."
   ]
  },
  {
   "cell_type": "markdown",
   "id": "efa27df1",
   "metadata": {},
   "source": [
    "## Специальные функции (scipy.special)"
   ]
  },
  {
   "cell_type": "markdown",
   "id": "cbe1d03f",
   "metadata": {},
   "source": [
    "Подпакет **scipy.special** содержит набор  специальных функций математической физики: тригонометрические функции, обратные тригонометрические функции, логарифмические функции и экспоненциальные функци, эллиптические функции, гамма, бета, Бесселя, Струви, Келвина, гипергеометрические и т.д. "
   ]
  },
  {
   "cell_type": "code",
   "execution_count": 9,
   "id": "4f68b645",
   "metadata": {
    "tags": []
   },
   "outputs": [
    {
     "name": "stdout",
     "output_type": "stream",
     "text": [
      "1.0\n"
     ]
    }
   ],
   "source": [
    "from scipy import special\n",
    " \n",
    "sin_of_90_degrees = special.sindg(90)\n",
    "print(sin_of_90_degrees)"
   ]
  },
  {
   "cell_type": "markdown",
   "id": "6b6a408a",
   "metadata": {},
   "source": [
    "## Интегральные функции (scipy.integrate)"
   ]
  },
  {
   "cell_type": "markdown",
   "id": "c64eab76",
   "metadata": {},
   "source": [
    "**scipy.integrate** —  это про численное интегрирование (методы трапеции, Симпсона, Ромберга и др.), решение обыкновенных дифференциальных уравнений (ОДУ); функции для решения интегралов."
   ]
  },
  {
   "cell_type": "markdown",
   "id": "51daf586",
   "metadata": {},
   "source": [
    "В модуле **scipy.integrate** есть несколько функций для вычисления определённых интегралов. Наиболее простой является\n",
    "функция **quad()**, которая вычисляет обычный интеграл от одной переменной и имеет следующий синтаксис:\n",
    "```quad (func, a, b, …)```, где:\n",
    "* func — имя подынтегральной функции\n",
    "* a — нижний предел интегрирования \n",
    "* b — верхний предел интегрирования"
   ]
  },
  {
   "cell_type": "markdown",
   "id": "bc1af93b",
   "metadata": {},
   "source": [
    "Например посчитаем интеграл: $$\\int_{0}^{4}3{x}^{2}dx$$"
   ]
  },
  {
   "cell_type": "code",
   "execution_count": 10,
   "id": "1c7504de",
   "metadata": {
    "tags": []
   },
   "outputs": [
    {
     "name": "stdout",
     "output_type": "stream",
     "text": [
      "(64.00000000000001, 7.105427357601004e-13)\n"
     ]
    }
   ],
   "source": [
    "from scipy import integrate\n",
    "\n",
    "def target_function_f(x):\n",
    "    return 3.0 * x ** 2\n",
    "\n",
    "result = integrate.quad(target_function_f, 0.0, 4.0)\n",
    "print(result)"
   ]
  },
  {
   "cell_type": "markdown",
   "id": "de83c1c8",
   "metadata": {},
   "source": [
    "Функция **quad()** возвращает кортеж из двух элементов, первый — значение интеграла, второй — точность вычисления. В данном случае  получен с точностью до 13-го знака после запятой. Есть и другие методы нахождения интегралов: **trapz() (метод трапеций), sims() (метод Симпсона), romb() (метод Ромберга)** и т.д."
   ]
  },
  {
   "cell_type": "markdown",
   "id": "39e37370",
   "metadata": {},
   "source": [
    "Также давайте посмотрим как решить простенькое **ОДУ**: $$\\frac{dx}{dy}=-2y$$"
   ]
  },
  {
   "cell_type": "markdown",
   "id": "34a65539",
   "metadata": {},
   "source": [
    "Для этого есть функция **odeint()** следующего вида: ```odeint(func, y0, x, …)```, где:\n",
    "* func — список функций правых частей уравнений;\n",
    "* y0 — список начальных условий;\n",
    "* x — массив точек, в которых необходимо найти значение искомой функции $\\bar{y}(x)$;\n",
    "* многоточием обозначены необязательные аргументы."
   ]
  },
  {
   "cell_type": "markdown",
   "id": "f776215f",
   "metadata": {},
   "source": [
    "Функция **odeint()** возвращает двумерный массив типа **ndarray** значений функции $y$ во всех заданных точках $x$. Начальное значение y0 хранится в первой строке. Массив решения имеет следующую форму (shape): (len(x), len(y0)). То есть число строк равно количеству точек интегрирования, число столбцов — количеству уравнений. \n",
    "\n",
    "Например, в случае интегрирования одного уравнения результатом работы функции **odeint()** будет **двумерный массив**, содержащий один столбец, в котором хранятся значения искомой функции, начиная с y0."
   ]
  },
  {
   "cell_type": "code",
   "execution_count": 13,
   "id": "655fb98b-d97a-4c78-9c44-a556c5942c90",
   "metadata": {
    "tags": []
   },
   "outputs": [],
   "source": [
    "import matplotlib.pyplot as plt"
   ]
  },
  {
   "cell_type": "code",
   "execution_count": 14,
   "id": "37c5e825",
   "metadata": {
    "tags": []
   },
   "outputs": [
    {
     "name": "stdout",
     "output_type": "stream",
     "text": [
      "[[1.        ]\n",
      " [0.80073742]\n",
      " [0.64118042]\n",
      " [0.51341714]\n",
      " [0.41111231]\n",
      " [0.329193  ]\n",
      " [0.26359714]\n",
      " [0.21107209]\n",
      " [0.16901331]\n",
      " [0.13533527]]\n"
     ]
    }
   ],
   "source": [
    "from scipy import integrate\n",
    "import numpy as np\n",
    "\n",
    "def target_function(y, x):\n",
    "    return -2.0 * y\n",
    "\n",
    "xi = np.linspace(0, 1, 10)\n",
    "y0 = 1.0\n",
    "result = integrate.odeint(target_function, y0, xi)\n",
    "print(result)"
   ]
  },
  {
   "cell_type": "code",
   "execution_count": 15,
   "id": "80bd4faf-fdce-4cdb-9848-a658eec4bf65",
   "metadata": {
    "tags": []
   },
   "outputs": [
    {
     "data": {
      "text/plain": [
       "[<matplotlib.lines.Line2D at 0x11f0faa50>]"
      ]
     },
     "execution_count": 15,
     "metadata": {},
     "output_type": "execute_result"
    },
    {
     "data": {
      "image/png": "[encoded data removed]",
      "text/plain": [
       "<Figure size 640x480 with 1 Axes>"
      ]
     },
     "metadata": {},
     "output_type": "display_data"
    }
   ],
   "source": [
    "plt.plot(result[:,0])"
   ]
  },
  {
   "cell_type": "markdown",
   "id": "6d25264f",
   "metadata": {},
   "source": [
    "### Уравнение гармонических колебаний: $\\frac{d^2x}{dt^2}+\\omega^2x=0$ c начальными условиями $x(0) = {x}_{0} = –5$, $\\frac{dx}{dt(0)} = {v}_{0} = 0$ при $\\omega=1.5$. \n",
    "\n",
    "### Сведем данное уравнение второго порядка к системе двух уравнений первого порядка с помощью замены: $\\frac{dx}{dt}=v, \\frac{dv}{dt}=\\frac{d^2x}{dt^2}$. \n",
    "\n",
    "### Тогда получим: $\\frac{dv}{dt}=-\\omega^2x, \\frac{dx}{dt}=v$ c начальными условиями $x(0) = {x}_{0}, v(0) = {v}_{0}$."
   ]
  },
  {
   "cell_type": "code",
   "execution_count": 16,
   "id": "052632a4",
   "metadata": {
    "tags": []
   },
   "outputs": [
    {
     "data": {
      "image/png": "[encoded data removed]",
      "text/plain": [
       "<Figure size 640x480 with 2 Axes>"
      ]
     },
     "metadata": {},
     "output_type": "display_data"
    }
   ],
   "source": [
    "from scipy import integrate\n",
    "import numpy as np\n",
    "from matplotlib import pyplot as plt\n",
    "\n",
    "# частота гармонического осциллятора\n",
    "w = 1.5\n",
    "# вектор-функция правых частей уравнений:\n",
    "# f = [f0, f1], где f0 = -w^2*x, f1 = v.\n",
    "# полагается, что f зависит от (y, t), причём y - это\n",
    "# список из двух чисел:\n",
    "# y = [v, x]\n",
    "def f(y, t):\n",
    "    v = y[0]\n",
    "    x = y[1]\n",
    "    f0 = -w ** 2 * x\n",
    "    f1 = v\n",
    "    return [f0, f1]\n",
    "\n",
    "# массив точек интегрирования\n",
    "ti = np.linspace(0, 10, 50)\n",
    "\n",
    "# начальная координата\n",
    "x0 = -5.0\n",
    "\n",
    "# начальная скорость\n",
    "v0 = 0.0\n",
    "# список начальных условий\n",
    "y0 = [x0, v0]\n",
    "\n",
    "# решение ОДУ\n",
    "sol = integrate.odeint(f, y0, ti)\n",
    "\n",
    "# рисунок для построения графиков функций x(t) и v(t)\n",
    "fig = plt.figure()\n",
    "\n",
    "# панель для рисования графика координаты\n",
    "ax1 = fig.add_subplot(121)\n",
    "\n",
    "# панель для рисования графика скорости\n",
    "ax2 = fig.add_subplot(122)\n",
    "ax1.set_xlabel(r'$t$')\n",
    "ax1.set_ylabel(r'$x$')\n",
    "ax1.set_title('координата')\n",
    "\n",
    "# график x(t) - зависимость нулевого столбца вектора\n",
    "# решения sol от ti\n",
    "ax1.plot(ti, sol[:, 0])\n",
    "ax2.set_xlabel(r'$t$')\n",
    "ax2.set_ylabel(r'$v$')\n",
    "ax2.set_title('скорость')\n",
    "\n",
    "# график v(t) - зависимость первого столбца вектора\n",
    "# решения sol от ti\n",
    "ax2.plot(ti, sol[:, 1])\n",
    "\n",
    "# настройка оптимального расположения панелей\n",
    "plt.tight_layout()"
   ]
  },
  {
   "cell_type": "markdown",
   "id": "81285eb9",
   "metadata": {},
   "source": [
    "## Интерполяция (scipy.interpolate)"
   ]
  },
  {
   "cell_type": "markdown",
   "id": "dbf3d5f3",
   "metadata": {},
   "source": [
    "Если по простому,то **интерполяция** — это построение новых точек на основе известных. **scipy.interpolate** содержится набор функций для интерполяции одномерных и многомерных данных. Интерполяции одномерного набора данных возможна с помощью функции **interp1d()**. Синтаксис: ```fi = interp1d(x, f0, 'method', …)```. Функция **interp1d()** принимает в качестве первых двух аргументов одномерные массивы координат $x$ и соответствующих значений некоторой величины f0. \n",
    "\n",
    "Реализовано несколько способов интерполяции: \n",
    "* линейная ('method'='linear');\n",
    "* квадратичная('method'='qudratic');\n",
    "* кубическая ('method'='cubic') и т.д.\n",
    "\n",
    "По умолчанию, когда параметр **'method'** не указан, используется линейная интерполяция. См. документацию. "
   ]
  },
  {
   "cell_type": "code",
   "execution_count": 17,
   "id": "d0f43448",
   "metadata": {
    "tags": []
   },
   "outputs": [
    {
     "data": {
      "image/png": "[encoded data removed]",
      "text/plain": [
       "<Figure size 640x480 with 1 Axes>"
      ]
     },
     "metadata": {},
     "output_type": "display_data"
    }
   ],
   "source": [
    "# пример попроще\n",
    "import matplotlib.pyplot as plt\n",
    "from scipy import interpolate\n",
    "\n",
    "x = np.arange(5, 20)\n",
    "y = np.exp(x/3.0)\n",
    "\n",
    "f = interpolate.interp1d(x, y)\n",
    "\n",
    "x1 = np.arange(6, 12)\n",
    "y1 = f(x1)   # использовать функцию интерполяции, возвращаемую `interp1d`\n",
    "\n",
    "plt.plot(x, y, 'o', x1, y1, '--') # o - исходня функция, -- - то, что мы наинтерполировали\n",
    "plt.show()"
   ]
  },
  {
   "cell_type": "code",
   "execution_count": 18,
   "id": "7b3fa9e7",
   "metadata": {
    "tags": []
   },
   "outputs": [
    {
     "data": {
      "image/png": "[encoded data removed]",
      "text/plain": [
       "<Figure size 640x480 with 1 Axes>"
      ]
     },
     "metadata": {},
     "output_type": "display_data"
    }
   ],
   "source": [
    "# пример посложнее \n",
    "import matplotlib.pyplot as plt\n",
    "import numpy as np\n",
    "from scipy.interpolate import interp1d\n",
    "\n",
    "# функция для генерации данных,\n",
    "# по которым будет строиться интерполяция\n",
    "def f_exact(x):\n",
    "    return np.sin(x)**2\n",
    "\n",
    "# массив координат, по которым будет делаться интерполяция\n",
    "x = np.linspace(0, 2.0 * np.pi, 10)\n",
    "\n",
    "# массив значений, по которым будет делаться интерполяция\n",
    "y = f_exact(x)\n",
    "\n",
    "# интерполяция данных методом по умолчанию\n",
    "# (линейная интерполяция)\n",
    "fi_1 = interp1d(x, y, 'linear')\n",
    "\n",
    "# кубическая интерполяция\n",
    "fi_2 = interp1d(x, y, 'cubic')\n",
    "\n",
    "# массив координат для построения\n",
    "# графика интерполированных функций\n",
    "xi = np.linspace(0, 2.0 * np.pi, 25)\n",
    "\n",
    "# массивы значений интерполированых функций\n",
    "# для построения графиков\n",
    "yi_1 = fi_1(xi)\n",
    "yi_2 = fi_2(xi)\n",
    "\n",
    "# настройки осей\n",
    "plt.xlabel('x')\n",
    "plt.ylabel('y')\n",
    "plt.ylim(0.0, 1.5)\n",
    "\n",
    "# рисование графиков\n",
    "plt.plot(x, y, 'o', label='исходные данные')\n",
    "plt.plot(xi, f_exact(xi), '-', color='grey', linewidth=2.5, label='точная функция')\n",
    "plt.plot(xi, yi_1, '--', label='линейная интерполяция')\n",
    "plt.plot(xi, yi_2, 'k:', label='кубическая интерполяция')\n",
    "\n",
    "# легенда, располагающаяся сверху по центру панели\n",
    "plt.legend(loc='upper center')\n",
    "plt.show()"
   ]
  },
  {
   "cell_type": "markdown",
   "id": "cde1b335",
   "metadata": {},
   "source": [
    "## Оптимизация (scipy.optimize)"
   ]
  },
  {
   "cell_type": "markdown",
   "id": "1e65e220",
   "metadata": {},
   "source": [
    "**scipy.optimize** представляет набор функций, которые реализуют популярные алгоритмы оптимизаци: максимизация, минимизация функции, подбор кривой, поиск корня и т.д.\n",
    "\n",
    "Чуть подробнее:\n",
    "* Неограниченная и ограниченная минимизация многомерных скалярных функций, то есть minimize (например, Алгоритм Бройдена — Флетчера — Гольдфарба — Шанно, метод сопряженных градиентов, метод Нелдера — Мида и так далее);\n",
    "* Глобальная оптимизация (дифференциальная эволюция, двойной отжиг и т. д.);\n",
    "* Минимизация наименьших квадратов и подбор кривой (метод наименьших квадратов, приближение с помощью кривых и т. д.);\n",
    "* Минимизаторы скалярных одномерных функций и численное решение уравнений (минимизация скаляра и скаляр корня);\n",
    "* \"Решатели\" систем многомерных уравнений с помощью таких алгоритмов, как Пауэлла, Левендберга — Марквардта и ещё куча всего."
   ]
  },
  {
   "cell_type": "markdown",
   "id": "ee1ea079",
   "metadata": {},
   "source": [
    "Пусть у нас есть какая-то функция $f(x)=x^2+10sin(x)$. Найдём её **минимум**:"
   ]
  },
  {
   "cell_type": "code",
   "execution_count": 19,
   "id": "ed2f68e7",
   "metadata": {
    "tags": []
   },
   "outputs": [
    {
     "data": {
      "image/png": "[encoded data removed]",
      "text/plain": [
       "<Figure size 1000x500 with 1 Axes>"
      ]
     },
     "metadata": {},
     "output_type": "display_data"
    }
   ],
   "source": [
    "from scipy import optimize\n",
    "import numpy as np\n",
    "import matplotlib.pyplot as plt\n",
    " \n",
    "def target_function(x):\n",
    "    return x ** 2+10*np.sin(x)\n",
    " \n",
    "# график целевой функции\n",
    "plt.figure(figsize=(10,5))\n",
    "x = np.arange(-10, 10, 0.1)\n",
    "plt.xlabel('x')\n",
    "plt.ylabel('y')\n",
    "plt.title('optimize')\n",
    "plt.plot(x, target_function(x), 'r-', label='$f(x)=x^2+10sin(x)$')\n",
    "\n",
    " # Наименьшее значение функции точки на изображении\n",
    "a = target_function(-1.3)\n",
    "\n",
    "plt.annotate('min',xy=(-1.3,a),xytext=(3,40),arrowprops=dict(facecolor='black',shrink=0.05))\n",
    "plt.legend()\n",
    "plt.show()"
   ]
  },
  {
   "cell_type": "markdown",
   "id": "2273a87f",
   "metadata": {},
   "source": [
    "Можно использовать алгоритм поиска **методом перебора**, который будет оценивать каждую точку в сетке диапазонов."
   ]
  },
  {
   "cell_type": "code",
   "execution_count": 20,
   "id": "ac8a74d4",
   "metadata": {
    "tags": []
   },
   "outputs": [
    {
     "name": "stdout",
     "output_type": "stream",
     "text": [
      "[-1.30641113]\n"
     ]
    }
   ],
   "source": [
    "grid = (-10, 10, 0.1)\n",
    "xmin_global = optimize.brute(target_function, (grid,))\n",
    "print(xmin_global) # наша точка минимума"
   ]
  },
  {
   "cell_type": "markdown",
   "id": "4a6237ce",
   "metadata": {},
   "source": [
    "Если область определения функции достаточно большая, то **brute()** становится очень медленным. Можно взять функцию **scipy.optimize.anneal() -  алгоритм имитации отжига**:"
   ]
  },
  {
   "cell_type": "code",
   "execution_count": 21,
   "id": "d69936b7",
   "metadata": {
    "tags": []
   },
   "outputs": [
    {
     "name": "stdout",
     "output_type": "stream",
     "text": [
      " message: ['Maximum number of iteration reached']\n",
      " success: True\n",
      "  status: 0\n",
      "     fun: -7.945823375615271\n",
      "       x: [-1.306e+00]\n",
      "     nit: 1000\n",
      "    nfev: 2017\n",
      "    njev: 8\n",
      "    nhev: 0\n"
     ]
    }
   ],
   "source": [
    "xmin_global = optimize.dual_annealing(target_function, (grid,))\n",
    "print(xmin_global) # наша точка минимума"
   ]
  },
  {
   "cell_type": "markdown",
   "id": "68b2a558",
   "metadata": {},
   "source": [
    "Далее классический пример минимум функции Розенброка **методом наименьших квадратов**:"
   ]
  },
  {
   "cell_type": "code",
   "execution_count": 22,
   "id": "dd121a03",
   "metadata": {
    "tags": []
   },
   "outputs": [
    {
     "name": "stdout",
     "output_type": "stream",
     "text": [
      "     message: `gtol` termination condition is satisfied.\n",
      "     success: True\n",
      "      status: 1\n",
      "         fun: [-6.661e-15 -2.220e-16]\n",
      "           x: [ 1.000e+00  1.000e+00]\n",
      "        cost: 2.2211364862629114e-29\n",
      "         jac: [[-2.000e+01  1.000e+01]\n",
      "               [-1.000e+00  0.000e+00]]\n",
      "        grad: [ 1.334e-13 -6.661e-14]\n",
      "  optimality: 1.3344880855256055e-13\n",
      " active_mask: [ 0.000e+00  0.000e+00]\n",
      "        nfev: 3\n",
      "        njev: 3\n"
     ]
    }
   ],
   "source": [
    "# функция Розенброка\n",
    "def fun_rosenbrock(x):\n",
    "    return np.array([10 * (x[1] - x[0] ** 2), (1 - x[0])])\n",
    "   \n",
    "from scipy.optimize import least_squares\n",
    "\n",
    "input_data = np.array([2, 2])\n",
    "result = least_squares(fun_rosenbrock, input_data)\n",
    "\n",
    "print(result)"
   ]
  },
  {
   "cell_type": "markdown",
   "id": "7ab1fb79",
   "metadata": {},
   "source": [
    "## Функции преобразования Фурье (scipy.fft)"
   ]
  },
  {
   "cell_type": "markdown",
   "id": "6c035b97",
   "metadata": {},
   "source": [
    "**Преобразование Фурье** вычисляется на сигнале временной области, чтобы проверить его поведение в частотной области. Применяется при обработке сигналов и шумов, обработка изображений, обработка аудиосигналов и т.д. \n",
    "\n",
    "SciPy предлагает модуль **fftpack**, который позволяет пользователю быстро вычислять преобразования Фурье. Функции **fft** используются для получения дискретной трансформации Фурье реальной или комплексной последовательности.\n",
    "\n",
    "**scipy.fftpack** использует:\n",
    "* scipy.fftpack.fftfreq (): создать последовательность выборки;\n",
    "* scipy.fftpack.fft (): вычислить быстрое преобразование Фурье."
   ]
  },
  {
   "attachments": {
    "image.png": {
     "image/png": "[encoded data removed]"
    }
   },
   "cell_type": "markdown",
   "id": "72ac6465",
   "metadata": {},
   "source": [
    "![image.png](attachment:image.png)"
   ]
  },
  {
   "cell_type": "markdown",
   "id": "277bfa2b",
   "metadata": {},
   "source": [
    "## Обработка сигналов (scipy.signal)"
   ]
  },
  {
   "cell_type": "markdown",
   "id": "3a06ad2e",
   "metadata": {},
   "source": [
    "**scipy.signal** - функции обработки сигналов и некоторые функции фильтрации,инструменты проектирования фильтров и несколько алгоритмов интерполяции B-сплайнов для одномерных и двумерных данных. \n",
    "\n",
    "**Обработка сигналов** — это область анализа, модификации и синтеза сигналов: звуков, изображений и т. д. "
   ]
  },
  {
   "cell_type": "markdown",
   "id": "ad731f18",
   "metadata": {},
   "source": [
    "**Сигналы**\n",
    "\n",
    "Подпакет **scipy.signal** также состоит из функций, с помощью которых можно генерировать сигналы. Одна из таких — **chirp**. Она является генератором частотно-модулированного сигнала: ```chirp(t, f0, t1, f1, method='linear', phi=0, vertex_zero=True)```:"
   ]
  },
  {
   "cell_type": "markdown",
   "id": "a8f22b59",
   "metadata": {},
   "source": [
    "## Константы (scipy.constants)"
   ]
  },
  {
   "cell_type": "markdown",
   "id": "84ee0bd7",
   "metadata": {},
   "source": [
    "Пакет **scipy.constants** предоставляет различные математические и физические константы."
   ]
  },
  {
   "cell_type": "code",
   "execution_count": 24,
   "id": "83baf986",
   "metadata": {
    "tags": []
   },
   "outputs": [
    {
     "name": "stdout",
     "output_type": "stream",
     "text": [
      "sciPy - pi = 3.1415926535897931\n"
     ]
    }
   ],
   "source": [
    "from scipy import constants\n",
    "\n",
    "print(\"sciPy - pi = %.16f\" % constants.pi)"
   ]
  },
  {
   "cell_type": "markdown",
   "id": "fdcdd744",
   "metadata": {},
   "source": [
    "Доступны такие константы как **Пи, золотое сечение, скорость света, гравитационная постоянная G(постоянная Ньютона), e, масса протона** и т.д."
   ]
  },
  {
   "cell_type": "code",
   "execution_count": 25,
   "id": "a0da6712",
   "metadata": {
    "tags": []
   },
   "outputs": [
    {
     "name": "stdout",
     "output_type": "stream",
     "text": [
      "P = m * g\n",
      "G:  9.80665\n",
      "Мой вес: 666.8521999999999 H\n"
     ]
    }
   ],
   "source": [
    "# решим простую задачу за 7 класс физики. Масса человека 68 кг. Нужно найти его вес.\n",
    "# ускорение свободного падения считать стандартным\n",
    "\n",
    "mass = 68\n",
    "print('P = m * g')\n",
    "print('G: ', constants.g)\n",
    "print('Мой вес:', mass * constants.g, 'H')"
   ]
  },
  {
   "cell_type": "markdown",
   "id": "6290f226",
   "metadata": {},
   "source": [
    "## Линейная алгебра (scipy.linalg)"
   ]
  },
  {
   "cell_type": "markdown",
   "id": "d94882ff",
   "metadata": {},
   "source": [
    "**Линейная алгебра** - это про уравнения, их представление с помощью векторных пространств и матриц. Функции из области линейной алгебры есть и в **numpy.linalg**, но **scipy.linalg** будет пожирнее. "
   ]
  },
  {
   "cell_type": "markdown",
   "id": "e1a0f79d",
   "metadata": {},
   "source": [
    "Так функция **scipy.linalg.solve** решает **линейное уравнение** вида $ax+by=Z$ для неизвестных значений $x$, $y$. Рассмотрим на примере. **Решим следующую систему уравнений**: \\begin{matrix}\n",
    " &  & \\\\ x+3y+5z=10\n",
    " &  & \\\\ 2x+5y+z=8\n",
    " &  & \\\\ 2x+3y+8z=3\n",
    "\\end{matrix}."
   ]
  },
  {
   "cell_type": "code",
   "execution_count": 26,
   "id": "52003404",
   "metadata": {
    "tags": []
   },
   "outputs": [
    {
     "name": "stdout",
     "output_type": "stream",
     "text": [
      "[-9.28  5.16  0.76]\n"
     ]
    }
   ],
   "source": [
    "from scipy import linalg\n",
    "import numpy as np\n",
    "\n",
    "# записываем коэффиценты левой части\n",
    "a = np.array([[1, 3, 5],\n",
    "              [2, 5, 1], \n",
    "              [2, 3, 8]])\n",
    "\n",
    "# записываем ответы из правой части\n",
    "b = np.array([10,\n",
    "              8,\n",
    "              3])\n",
    "\n",
    "result = linalg.solve(a, b)\n",
    "print(result)"
   ]
  },
  {
   "cell_type": "markdown",
   "id": "3ad335a8",
   "metadata": {},
   "source": [
    "Соответственно, x=-9.28, y=5.16, z=0.76."
   ]
  },
  {
   "cell_type": "markdown",
   "id": "b09b8234",
   "metadata": {},
   "source": [
    "Теперь попробуем вычислить **определитель матрицы**: $ A=\\begin{pmatrix}\n",
    " 1 & 2 \\\\ \n",
    " 3 & 4\n",
    "\\end{pmatrix}$"
   ]
  },
  {
   "cell_type": "code",
   "execution_count": null,
   "id": "9378d99f",
   "metadata": {
    "tags": []
   },
   "outputs": [],
   "source": [
    "from scipy import linalg\n",
    "import numpy as np\n",
    "\n",
    "# матрица\n",
    "A = np.array([[1,2],\n",
    "              [3,4]])\n",
    "\n",
    "deter = linalg.det(A)\n",
    "print(deter)"
   ]
  },
  {
   "cell_type": "markdown",
   "id": "5086a547",
   "metadata": {},
   "source": [
    "Функция **scipy.linalg.eig** возвращает **собственные значения и собственные векторы** матрицы. Например, найдём их для $ A=\\begin{pmatrix}\n",
    " 1 & 2 \\\\ \n",
    " 3 & 4\n",
    "\\end{pmatrix}$"
   ]
  },
  {
   "cell_type": "code",
   "execution_count": null,
   "id": "d9b40aaf",
   "metadata": {
    "tags": []
   },
   "outputs": [],
   "source": [
    "A = np.array([[1,2],\n",
    "              [3,4]])\n",
    "\n",
    "l, v = linalg.eig(A)\n",
    "\n",
    "# собственные значения\n",
    "print(l)\n",
    "print()\n",
    "# векторы\n",
    "print(v)"
   ]
  },
  {
   "cell_type": "markdown",
   "id": "cd40ef0f",
   "metadata": {},
   "source": [
    "Функция **scipy.linalg.svd** отвечает за **сингулярное разложение матрицы** на две унитарные матрицы $U$ и $V$ и одномерный массив $s$ сингулярных значений."
   ]
  },
  {
   "cell_type": "code",
   "execution_count": 27,
   "id": "f65963e7",
   "metadata": {
    "tags": []
   },
   "outputs": [
    {
     "name": "stdout",
     "output_type": "stream",
     "text": [
      "[[ 0.31556976+0.65543359j -1.36094501-0.42556752j]\n",
      " [ 0.880399  -0.21369956j  0.18952168+1.92885849j]\n",
      " [-1.13365941-0.59739829j -0.86329586+0.43292281j]]\n",
      "\n",
      "[[ 0.03427195-0.57478821j  0.23429829+0.09413502j  0.64902741-0.42831096j]\n",
      " [-0.76564378+0.19659593j  0.13035196-0.02510798j  0.43901246+0.405938j  ]\n",
      " [-0.05617396-0.20106733j -0.80102134-0.52629429j  0.19431999+0.00594029j]]\n",
      "\n",
      "[[-0.3334519 +0.j          0.14609008-0.93137936j]\n",
      " [ 0.94276711+0.j          0.05167131-0.32942411j]]\n",
      "\n",
      "[2.69365799 1.56799773]\n"
     ]
    }
   ],
   "source": [
    "from scipy import linalg\n",
    "import numpy as np\n",
    "\n",
    "# создадим случайную матрицу\n",
    "a = np.random.randn(3, 2) + 1.j*np.random.randn(3, 2)\n",
    "print(a)\n",
    "print()\n",
    "# применяем svd\n",
    "U, s, Vh = linalg.svd(a)\n",
    "\n",
    "print (U, Vh, s, sep='\\n\\n')"
   ]
  },
  {
   "cell_type": "markdown",
   "id": "bc23e28b",
   "metadata": {},
   "source": [
    "Функция **linalg.inv** позволяет найти **обратную матрицу**:"
   ]
  },
  {
   "cell_type": "code",
   "execution_count": 28,
   "id": "3abfe385",
   "metadata": {
    "tags": []
   },
   "outputs": [
    {
     "name": "stdout",
     "output_type": "stream",
     "text": [
      "Первоначальная матрица A:\n",
      "[[1 2]\n",
      " [4 3]]\n",
      "\n",
      "Обратная А матрица:\n",
      "[[-0.6  0.4]\n",
      " [ 0.8 -0.2]]\n"
     ]
    }
   ],
   "source": [
    "A = np.array([[1,2], \n",
    "              [4,3]])\n",
    "print('Первоначальная матрица A:')\n",
    "print(A)\n",
    "\n",
    "B = linalg.inv(A)\n",
    "\n",
    "print('\\nОбратная А матрица:')\n",
    "print(B)"
   ]
  },
  {
   "cell_type": "markdown",
   "id": "9821dbe7",
   "metadata": {},
   "source": [
    "## Алгоритмы кластерного анализа (scipy.cluster)"
   ]
  },
  {
   "cell_type": "markdown",
   "id": "e117b199",
   "metadata": {},
   "source": [
    "**scipy.cluster** содержит набор алгоритмов кластеризации, например, **K-means**. Кластеризация K-средних – это метод поиска кластеров и центров кластеров в наборе немаркированных данных. Интуитивно, мы можем думать о кластере как о состоящем из группы точек данных, чьи расстояния между точками малы по сравнению с расстояниями до точек вне кластера. "
   ]
  },
  {
   "cell_type": "code",
   "execution_count": 29,
   "id": "c2774815",
   "metadata": {
    "tags": []
   },
   "outputs": [
    {
     "name": "stdout",
     "output_type": "stream",
     "text": [
      "[[0.57792945 1.16704386 1.07205159]\n",
      " [1.33809119 1.36243959 0.59491546]\n",
      " [0.633685   1.17362525 0.52694268]\n",
      " [0.66978958 0.73538854 1.40896427]\n",
      " [1.49808946 0.55257263 1.2135903 ]] \n",
      "\n",
      "[[3.00649358 2.63795815 2.93274234]\n",
      " [1.00352514 0.93698202 1.09327483]\n",
      " [2.14216617 1.71547586 1.82592041]] \n",
      "\n",
      "[0 0 2 0 0 0 2 2 0 0 0 2 0 0 0 0 2 0 2 2 0 0 0 2 0 2 2 2 2 0 0 0 0 0 0 2 0\n",
      " 2 0 0 0 0 2 2 1 0 2 0 0 2 2 2 2 0 2 0 0 0 0 0 2 0 0 0 0 0 0 2 0 0 0 0 0 0\n",
      " 0 2 0 0 0 0 0 0 0 2 0 0 0 0 0 0 0 0 0 2 0 2 0 2 0 0 1 2 2 2 1 1 2 1 2 1 1\n",
      " 1 1 2 1 1 1 2 2 2 1 1 2 2 1 1 1 1 2 2 2 1 2 1 2 2 1 2 1 2 1 2 2 1 1 1 1 2\n",
      " 2 2 2 1 1 1 2 2 1 2 2 2 1 1 2 1 1 2 1 1 1 2 1 1 2 1 1 1 2 1 1 2 2 1 2 2 2\n",
      " 2 1 1 1 1 1 2 1 1 1 1 1 1 2 1]\n"
     ]
    }
   ],
   "source": [
    "from scipy.cluster.vq import kmeans, vq, whiten\n",
    "from numpy import vstack,array\n",
    "from numpy.random import rand\n",
    "\n",
    "# сгенерируем сдучайные данные\n",
    "data = vstack((rand(100,3) + array([.5,.5,.5]),rand(100,3)))\n",
    "print(data[:5], '\\n')\n",
    "\n",
    "# почистим данные\n",
    "data = whiten(data)\n",
    "\n",
    "# вычисляем K-Means с 3 кластерами\n",
    "centroids, _ = kmeans(data, 3)\n",
    "print(centroids, '\\n')\n",
    "\n",
    "# разделим значения по пренадлежности к кластеру\n",
    "clx, _ = vq(data, centroids)\n",
    "print(clx)"
   ]
  }
 ],
 "metadata": {
  "kernelspec": {
   "display_name": "Python 3 (ipykernel)",
   "language": "python",
   "name": "python3"
  },
  "language_info": {
   "codemirror_mode": {
    "name": "ipython",
    "version": 3
   },
   "file_extension": ".py",
   "mimetype": "text/x-python",
   "name": "python",
   "nbconvert_exporter": "python",
   "pygments_lexer": "ipython3",
   "version": "3.11.4"
  }
 },
 "nbformat": 4,
 "nbformat_minor": 5
}
