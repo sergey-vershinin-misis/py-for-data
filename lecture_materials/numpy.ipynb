{
 "cells": [
  {
   "cell_type": "code",
   "execution_count": 2,
   "id": "07b9f578-a7b9-4f6b-96ac-dd81f138cef6",
   "metadata": {},
   "outputs": [],
   "source": [
    "import numpy as np"
   ]
  },
  {
   "cell_type": "markdown",
   "id": "427eea78-404d-417d-85db-eff259d48342",
   "metadata": {},
   "source": [
    "# Базовые штуки обращения и создания numpy массива"
   ]
  },
  {
   "cell_type": "code",
   "execution_count": 4,
   "id": "fda45ffe-5234-41cc-88b4-ef2b7047d7de",
   "metadata": {
    "tags": []
   },
   "outputs": [
    {
     "data": {
      "text/plain": [
       "([1, 2, 3], array([1, 2, 3]))"
      ]
     },
     "execution_count": 4,
     "metadata": {},
     "output_type": "execute_result"
    }
   ],
   "source": [
    "lst = [1, 2, 3]\n",
    "values = np.array(lst)\n",
    "lst, values"
   ]
  },
  {
   "cell_type": "code",
   "execution_count": 6,
   "id": "328503c5-a921-4ff2-b8b8-b43de82124f5",
   "metadata": {
    "tags": []
   },
   "outputs": [
    {
     "data": {
      "text/plain": [
       "(numpy.ndarray, list)"
      ]
     },
     "execution_count": 6,
     "metadata": {},
     "output_type": "execute_result"
    }
   ],
   "source": [
    "type(values), type(lst)"
   ]
  },
  {
   "cell_type": "code",
   "execution_count": 7,
   "id": "13827c73-7145-4df9-986d-d435a2508e30",
   "metadata": {
    "tags": []
   },
   "outputs": [
    {
     "data": {
      "text/plain": [
       "dtype('int64')"
      ]
     },
     "execution_count": 7,
     "metadata": {},
     "output_type": "execute_result"
    }
   ],
   "source": [
    "values.dtype"
   ]
  },
  {
   "cell_type": "code",
   "execution_count": 18,
   "id": "dc9588ca-f9d7-4e0c-9e25-bbb97ec2fd6c",
   "metadata": {
    "tags": []
   },
   "outputs": [
    {
     "data": {
      "text/plain": [
       "array(['1', '2', '3', 'True'], dtype='<U21')"
      ]
     },
     "execution_count": 18,
     "metadata": {},
     "output_type": "execute_result"
    }
   ],
   "source": [
    "values = np.array([1, 2, \"3\", True])\n",
    "values"
   ]
  },
  {
   "cell_type": "code",
   "execution_count": 9,
   "id": "cc8bd4f0-a47a-405a-b13a-834a4c8e9411",
   "metadata": {
    "tags": []
   },
   "outputs": [
    {
     "data": {
      "text/plain": [
       "'1'"
      ]
     },
     "execution_count": 9,
     "metadata": {},
     "output_type": "execute_result"
    }
   ],
   "source": [
    "values[0]"
   ]
  },
  {
   "cell_type": "code",
   "execution_count": 10,
   "id": "6f4d07b9-9847-4ff7-89c4-c4b3a43f875f",
   "metadata": {
    "tags": []
   },
   "outputs": [
    {
     "data": {
      "text/plain": [
       "array(['1', '2'], dtype='<U21')"
      ]
     },
     "execution_count": 10,
     "metadata": {},
     "output_type": "execute_result"
    }
   ],
   "source": [
    "values[:2]"
   ]
  },
  {
   "cell_type": "code",
   "execution_count": 11,
   "id": "bb1f9cb7-3095-4c23-be52-4d23f78b86ac",
   "metadata": {
    "tags": []
   },
   "outputs": [
    {
     "data": {
      "text/plain": [
       "array(['3', 'True'], dtype='<U21')"
      ]
     },
     "execution_count": 11,
     "metadata": {},
     "output_type": "execute_result"
    }
   ],
   "source": [
    "values[2:4]"
   ]
  },
  {
   "cell_type": "code",
   "execution_count": 12,
   "id": "7c3867b9-dbe2-4e89-a622-20eb44c3cb24",
   "metadata": {
    "tags": []
   },
   "outputs": [
    {
     "data": {
      "text/plain": [
       "array(['2', '3'], dtype='<U21')"
      ]
     },
     "execution_count": 12,
     "metadata": {},
     "output_type": "execute_result"
    }
   ],
   "source": [
    "values[1:-1]"
   ]
  },
  {
   "cell_type": "code",
   "execution_count": 13,
   "id": "4baee31d-7389-4266-bf92-050588ae6cad",
   "metadata": {
    "tags": []
   },
   "outputs": [
    {
     "data": {
      "text/plain": [
       "array(['1', '2', '123', 'True'], dtype='<U21')"
      ]
     },
     "execution_count": 13,
     "metadata": {},
     "output_type": "execute_result"
    }
   ],
   "source": [
    "values[2] = \"123\"\n",
    "\n",
    "values"
   ]
  },
  {
   "cell_type": "code",
   "execution_count": 14,
   "id": "21b45e11-0b21-4f98-9d59-f32e17cd21ed",
   "metadata": {
    "tags": []
   },
   "outputs": [
    {
     "data": {
      "text/plain": [
       "array(['321', '2', '123', 'True'], dtype='<U21')"
      ]
     },
     "execution_count": 14,
     "metadata": {},
     "output_type": "execute_result"
    }
   ],
   "source": [
    "values[0] = 321\n",
    "values"
   ]
  },
  {
   "cell_type": "code",
   "execution_count": 19,
   "id": "2d7ce096-14c3-4a40-8576-5e952a7bba4b",
   "metadata": {
    "tags": []
   },
   "outputs": [
    {
     "data": {
      "text/plain": [
       "array([1, 2, 3, 4, 5, 6, 7, 8, 9])"
      ]
     },
     "execution_count": 19,
     "metadata": {},
     "output_type": "execute_result"
    }
   ],
   "source": [
    "values = np.array([1, 2, 3, 4, 5, 6, 7, 8, 9])\n",
    "values"
   ]
  },
  {
   "cell_type": "code",
   "execution_count": 20,
   "id": "346e987b-a428-4d34-8d8a-83522bfce355",
   "metadata": {
    "tags": []
   },
   "outputs": [
    {
     "data": {
      "text/plain": [
       "3"
      ]
     },
     "execution_count": 20,
     "metadata": {},
     "output_type": "execute_result"
    }
   ],
   "source": [
    "values[2]"
   ]
  },
  {
   "cell_type": "code",
   "execution_count": 22,
   "id": "6398f877-2fdd-4456-8848-ff6b34afebae",
   "metadata": {
    "tags": []
   },
   "outputs": [
    {
     "data": {
      "text/plain": [
       "array([3, 3, 3, 2])"
      ]
     },
     "execution_count": 22,
     "metadata": {},
     "output_type": "execute_result"
    }
   ],
   "source": [
    "values[[2,2,2, 1]]"
   ]
  },
  {
   "cell_type": "code",
   "execution_count": 23,
   "id": "c7895c62-673c-411e-9939-34ff6e2a1cf9",
   "metadata": {
    "tags": []
   },
   "outputs": [
    {
     "data": {
      "text/plain": [
       "array([1, 4, 9])"
      ]
     },
     "execution_count": 23,
     "metadata": {},
     "output_type": "execute_result"
    }
   ],
   "source": [
    "values[[True, False, False, True, False, False, False, False,True]]"
   ]
  },
  {
   "cell_type": "code",
   "execution_count": 24,
   "id": "ac004b3c-21ab-4f63-803f-03cd9eb69da9",
   "metadata": {
    "tags": []
   },
   "outputs": [
    {
     "data": {
      "text/plain": [
       "((9,), (3, 3))"
      ]
     },
     "execution_count": 24,
     "metadata": {},
     "output_type": "execute_result"
    }
   ],
   "source": [
    "values = np.array([1,2,3,4,5,6,7,8,9])\n",
    "\n",
    "d2_values = values.reshape(3, 3)\n",
    "\n",
    "values.shape, d2_values.shape"
   ]
  },
  {
   "cell_type": "code",
   "execution_count": 25,
   "id": "6ae88f7a-5f8d-457f-a6ba-24675423f9d9",
   "metadata": {
    "tags": []
   },
   "outputs": [
    {
     "data": {
      "text/plain": [
       "array([1, 2, 3, 4, 5, 6, 7, 8, 9])"
      ]
     },
     "execution_count": 25,
     "metadata": {},
     "output_type": "execute_result"
    }
   ],
   "source": [
    "values"
   ]
  },
  {
   "cell_type": "code",
   "execution_count": 26,
   "id": "6b21a15a-2636-45b3-a89a-5d31efbc2cb4",
   "metadata": {
    "tags": []
   },
   "outputs": [
    {
     "data": {
      "text/plain": [
       "array([[1, 2, 3],\n",
       "       [4, 5, 6],\n",
       "       [7, 8, 9]])"
      ]
     },
     "execution_count": 26,
     "metadata": {},
     "output_type": "execute_result"
    }
   ],
   "source": [
    "d2_values"
   ]
  },
  {
   "cell_type": "code",
   "execution_count": null,
   "id": "3beb3287-2a49-4770-8c95-900d25f2911f",
   "metadata": {},
   "outputs": [],
   "source": []
  },
  {
   "cell_type": "code",
   "execution_count": 28,
   "id": "ed39290d-694f-4939-83f9-1fdf92b91fc0",
   "metadata": {
    "tags": []
   },
   "outputs": [
    {
     "data": {
      "text/plain": [
       "[[1, 2, 3], [4, 5, 6], [7, 8, 9]]"
      ]
     },
     "execution_count": 28,
     "metadata": {},
     "output_type": "execute_result"
    }
   ],
   "source": [
    "d2_values_list = [[1,2,3],[4,5,6], [7,8,9]]\n",
    "d2_values_list"
   ]
  },
  {
   "cell_type": "code",
   "execution_count": 29,
   "id": "bbfc1b16-5bdb-4993-bf62-545cdaa87e45",
   "metadata": {
    "tags": []
   },
   "outputs": [
    {
     "data": {
      "text/plain": [
       "array([1, 2, 3])"
      ]
     },
     "execution_count": 29,
     "metadata": {},
     "output_type": "execute_result"
    }
   ],
   "source": [
    "d2_values[0]"
   ]
  },
  {
   "cell_type": "code",
   "execution_count": 30,
   "id": "f961f18e-35e2-41aa-b9c5-9bccf2bc729e",
   "metadata": {
    "tags": []
   },
   "outputs": [
    {
     "data": {
      "text/plain": [
       "2"
      ]
     },
     "execution_count": 30,
     "metadata": {},
     "output_type": "execute_result"
    }
   ],
   "source": [
    "d2_values[0][1]"
   ]
  },
  {
   "cell_type": "code",
   "execution_count": 31,
   "id": "594504a2-d657-44f6-8b64-eb8561e29ea3",
   "metadata": {
    "tags": []
   },
   "outputs": [
    {
     "data": {
      "text/plain": [
       "2"
      ]
     },
     "execution_count": 31,
     "metadata": {},
     "output_type": "execute_result"
    }
   ],
   "source": [
    "d2_values_list[0][1]"
   ]
  },
  {
   "cell_type": "code",
   "execution_count": 32,
   "id": "85b54bd2-b321-46c7-ab47-2bd8b09f86f9",
   "metadata": {
    "tags": []
   },
   "outputs": [
    {
     "data": {
      "text/plain": [
       "2"
      ]
     },
     "execution_count": 32,
     "metadata": {},
     "output_type": "execute_result"
    }
   ],
   "source": [
    "d2_values[0, 1]"
   ]
  },
  {
   "cell_type": "code",
   "execution_count": 34,
   "id": "adf8651e-b8bc-429b-b51c-f820aa7fc057",
   "metadata": {
    "tags": []
   },
   "outputs": [],
   "source": [
    "# d2_values_list[0, 1]"
   ]
  },
  {
   "cell_type": "code",
   "execution_count": 36,
   "id": "391499cf-8652-424a-b9f4-1e25cb59d633",
   "metadata": {
    "tags": []
   },
   "outputs": [
    {
     "data": {
      "text/plain": [
       "array([1, 4, 7])"
      ]
     },
     "execution_count": 36,
     "metadata": {},
     "output_type": "execute_result"
    }
   ],
   "source": [
    "d2_values[:, 0]"
   ]
  },
  {
   "cell_type": "code",
   "execution_count": 37,
   "id": "2fcab456-5499-4899-9975-4d56b78c3355",
   "metadata": {
    "tags": []
   },
   "outputs": [
    {
     "data": {
      "text/plain": [
       "array([4, 5, 6])"
      ]
     },
     "execution_count": 37,
     "metadata": {},
     "output_type": "execute_result"
    }
   ],
   "source": [
    "d2_values[1]"
   ]
  },
  {
   "cell_type": "code",
   "execution_count": null,
   "id": "b4eeaed3-0cb1-472c-8245-6f392586f4d8",
   "metadata": {},
   "outputs": [],
   "source": []
  },
  {
   "cell_type": "markdown",
   "id": "c599e151-89bb-4e02-81ce-f38aa28af8d6",
   "metadata": {},
   "source": [
    "# Типы"
   ]
  },
  {
   "cell_type": "code",
   "execution_count": 38,
   "id": "f8dc6b40-67dd-40a5-9619-af5a3587ab38",
   "metadata": {
    "tags": []
   },
   "outputs": [
    {
     "data": {
      "text/plain": [
       "array([1, 2, 3, 4])"
      ]
     },
     "execution_count": 38,
     "metadata": {},
     "output_type": "execute_result"
    }
   ],
   "source": [
    "values = np.array([1, 2, 3, 4])\n",
    "values"
   ]
  },
  {
   "cell_type": "code",
   "execution_count": 39,
   "id": "cf6ee5d1-ac06-4ddd-bc0f-bd4c1194078f",
   "metadata": {
    "tags": []
   },
   "outputs": [
    {
     "data": {
      "text/plain": [
       "dtype('int64')"
      ]
     },
     "execution_count": 39,
     "metadata": {},
     "output_type": "execute_result"
    }
   ],
   "source": [
    "values.dtype"
   ]
  },
  {
   "cell_type": "code",
   "execution_count": 40,
   "id": "ba13f599-1003-4bdd-a785-375faa6898c6",
   "metadata": {
    "tags": []
   },
   "outputs": [
    {
     "data": {
      "text/plain": [
       "array([1., 2., 3., 4.], dtype=float32)"
      ]
     },
     "execution_count": 40,
     "metadata": {},
     "output_type": "execute_result"
    }
   ],
   "source": [
    "values = np.array([1, 2, 3, 4], dtype='float32')\n",
    "values"
   ]
  },
  {
   "cell_type": "code",
   "execution_count": 44,
   "id": "bc70ccf9-c891-442e-a623-69bfd77253e2",
   "metadata": {
    "tags": []
   },
   "outputs": [
    {
     "data": {
      "text/plain": [
       "array([1., 2., 3., 4.], dtype=float16)"
      ]
     },
     "execution_count": 44,
     "metadata": {},
     "output_type": "execute_result"
    }
   ],
   "source": [
    "values = np.array([1, 2, 3, 4], dtype=np.float16)\n",
    "values"
   ]
  },
  {
   "cell_type": "code",
   "execution_count": 42,
   "id": "b0876b50-a2e8-4bb0-98f4-dffb1c9e6bb5",
   "metadata": {
    "tags": []
   },
   "outputs": [
    {
     "data": {
      "text/plain": [
       "array(['1', '2', '3', '4'], dtype='<U1')"
      ]
     },
     "execution_count": 42,
     "metadata": {},
     "output_type": "execute_result"
    }
   ],
   "source": [
    "values = np.array([1, 2, 3, 4], dtype='str_')\n",
    "values"
   ]
  },
  {
   "cell_type": "code",
   "execution_count": 46,
   "id": "2c0696b5-eba5-4ad6-ba9d-209c18473ff3",
   "metadata": {
    "tags": []
   },
   "outputs": [],
   "source": [
    "# np.sctypeDict"
   ]
  },
  {
   "cell_type": "code",
   "execution_count": 47,
   "id": "c11d7d99-b9a6-49a1-8a70-684d0da38baa",
   "metadata": {
    "tags": []
   },
   "outputs": [
    {
     "data": {
      "text/plain": [
       "3.0"
      ]
     },
     "execution_count": 47,
     "metadata": {},
     "output_type": "execute_result"
    }
   ],
   "source": [
    "np.float16(3)"
   ]
  },
  {
   "cell_type": "code",
   "execution_count": 48,
   "id": "c41b8769-7d96-4b20-868c-1137d2485686",
   "metadata": {
    "tags": []
   },
   "outputs": [
    {
     "data": {
      "text/plain": [
       "(10+0j)"
      ]
     },
     "execution_count": 48,
     "metadata": {},
     "output_type": "execute_result"
    }
   ],
   "source": [
    "np.complex64(10)"
   ]
  },
  {
   "cell_type": "code",
   "execution_count": 52,
   "id": "4757cfa4-2d39-4c56-a11a-2b61daa11988",
   "metadata": {
    "tags": []
   },
   "outputs": [
    {
     "data": {
      "text/plain": [
       "15"
      ]
     },
     "execution_count": 52,
     "metadata": {},
     "output_type": "execute_result"
    }
   ],
   "source": [
    "np.int32(15.5)"
   ]
  },
  {
   "cell_type": "code",
   "execution_count": null,
   "id": "8f0c767b-13da-4086-9882-9dec05fcb89f",
   "metadata": {
    "tags": []
   },
   "outputs": [],
   "source": [
    "# values = np.array([1, 2, 500], dtype='int8')\n",
    "# values"
   ]
  },
  {
   "cell_type": "code",
   "execution_count": null,
   "id": "31b001f5-0201-40fc-93ac-c8073734c99f",
   "metadata": {
    "tags": []
   },
   "outputs": [],
   "source": [
    "np.complex64(values)"
   ]
  },
  {
   "cell_type": "code",
   "execution_count": null,
   "id": "1d3e0a14-92a7-42a5-a96b-c8fd50c23108",
   "metadata": {
    "tags": []
   },
   "outputs": [],
   "source": [
    "b = np.complex64(values)"
   ]
  },
  {
   "cell_type": "code",
   "execution_count": null,
   "id": "d2855358-1c88-40bf-9b11-0c7741be3193",
   "metadata": {
    "tags": []
   },
   "outputs": [],
   "source": [
    "np.int32(b)"
   ]
  },
  {
   "cell_type": "code",
   "execution_count": 53,
   "id": "ed0cf427-24d6-4619-9d03-5ca109e22617",
   "metadata": {
    "tags": []
   },
   "outputs": [
    {
     "data": {
      "text/plain": [
       "array([1, 2, 3])"
      ]
     },
     "execution_count": 53,
     "metadata": {},
     "output_type": "execute_result"
    }
   ],
   "source": [
    "values = np.array((1, 2, 3))\n",
    "values"
   ]
  },
  {
   "cell_type": "code",
   "execution_count": 54,
   "id": "1f85ebfa-9a40-4e91-a805-41346b0ab452",
   "metadata": {
    "tags": []
   },
   "outputs": [
    {
     "data": {
      "text/plain": [
       "array('Hello there', dtype='<U11')"
      ]
     },
     "execution_count": 54,
     "metadata": {},
     "output_type": "execute_result"
    }
   ],
   "source": [
    "values = np.array(\"Hello there\")\n",
    "values"
   ]
  },
  {
   "cell_type": "code",
   "execution_count": 55,
   "id": "63d3fd33-d588-4d6f-93d5-e16dbc3163ac",
   "metadata": {
    "tags": []
   },
   "outputs": [
    {
     "data": {
      "text/plain": [
       "array([[1, 2],\n",
       "       [3, 4],\n",
       "       [5, 6]])"
      ]
     },
     "execution_count": 55,
     "metadata": {},
     "output_type": "execute_result"
    }
   ],
   "source": [
    "values = np.array([[1, 2], [3, 4], [5, 6]])\n",
    "values"
   ]
  },
  {
   "cell_type": "code",
   "execution_count": 56,
   "id": "3f9515aa-eb21-4272-88a8-765e968e93db",
   "metadata": {
    "tags": []
   },
   "outputs": [
    {
     "data": {
      "text/plain": [
       "(3, 2)"
      ]
     },
     "execution_count": 56,
     "metadata": {},
     "output_type": "execute_result"
    }
   ],
   "source": [
    "values.shape"
   ]
  },
  {
   "cell_type": "code",
   "execution_count": 58,
   "id": "e15dac41-4f72-4784-baa7-1d48522e2e57",
   "metadata": {
    "tags": []
   },
   "outputs": [
    {
     "ename": "ValueError",
     "evalue": "setting an array element with a sequence. The requested array has an inhomogeneous shape after 1 dimensions. The detected shape was (3,) + inhomogeneous part.",
     "output_type": "error",
     "traceback": [
      "\u001B[0;31m---------------------------------------------------------------------------\u001B[0m",
      "\u001B[0;31mValueError\u001B[0m                                Traceback (most recent call last)",
      "Cell \u001B[0;32mIn[58], line 1\u001B[0m\n\u001B[0;32m----> 1\u001B[0m values \u001B[38;5;241m=\u001B[39m \u001B[43mnp\u001B[49m\u001B[38;5;241;43m.\u001B[39;49m\u001B[43marray\u001B[49m\u001B[43m(\u001B[49m\u001B[43m[\u001B[49m\u001B[43m[\u001B[49m\u001B[38;5;241;43m1\u001B[39;49m\u001B[43m,\u001B[49m\u001B[43m \u001B[49m\u001B[38;5;241;43m2\u001B[39;49m\u001B[43m]\u001B[49m\u001B[43m,\u001B[49m\u001B[43m \u001B[49m\u001B[43m[\u001B[49m\u001B[38;5;241;43m3\u001B[39;49m\u001B[43m,\u001B[49m\u001B[43m \u001B[49m\u001B[38;5;241;43m4\u001B[39;49m\u001B[43m]\u001B[49m\u001B[43m,\u001B[49m\u001B[43m \u001B[49m\u001B[43m[\u001B[49m\u001B[38;5;241;43m5\u001B[39;49m\u001B[43m,\u001B[49m\u001B[43m \u001B[49m\u001B[38;5;241;43m6\u001B[39;49m\u001B[43m,\u001B[49m\u001B[43m \u001B[49m\u001B[38;5;241;43m7\u001B[39;49m\u001B[43m]\u001B[49m\u001B[43m]\u001B[49m\u001B[43m)\u001B[49m\n\u001B[1;32m      2\u001B[0m values\n",
      "\u001B[0;31mValueError\u001B[0m: setting an array element with a sequence. The requested array has an inhomogeneous shape after 1 dimensions. The detected shape was (3,) + inhomogeneous part."
     ]
    }
   ],
   "source": [
    "values = np.array([[1, 2], [3, 4], [5, 6, 7]])\n",
    "values"
   ]
  },
  {
   "cell_type": "code",
   "execution_count": null,
   "id": "eb8b43c1-d10c-4566-bb8d-48eadcfcf21a",
   "metadata": {},
   "outputs": [],
   "source": []
  },
  {
   "cell_type": "code",
   "execution_count": 60,
   "id": "64aff763-9cd7-4d7e-833e-1ccd024983e9",
   "metadata": {
    "tags": []
   },
   "outputs": [
    {
     "data": {
      "text/plain": [
       "array([[[ 1,  2],\n",
       "        [ 3,  4]],\n",
       "\n",
       "       [[ 5,  6],\n",
       "        [ 7,  8]],\n",
       "\n",
       "       [[ 9, 10],\n",
       "        [11, 12]]])"
      ]
     },
     "execution_count": 60,
     "metadata": {},
     "output_type": "execute_result"
    }
   ],
   "source": [
    "values = np.array([[[1, 2], [3, 4]], [[5, 6], [7, 8]], [[9, 10], [11, 12]]])\n",
    "values"
   ]
  },
  {
   "cell_type": "code",
   "execution_count": 61,
   "id": "e88217ea-c242-46ce-b293-8bc0650c97ac",
   "metadata": {
    "tags": []
   },
   "outputs": [
    {
     "data": {
      "text/plain": [
       "(3, 2, 2)"
      ]
     },
     "execution_count": 61,
     "metadata": {},
     "output_type": "execute_result"
    }
   ],
   "source": [
    "values.shape"
   ]
  },
  {
   "cell_type": "code",
   "execution_count": 62,
   "id": "d6cc3933-aca5-46f2-a669-17f16e8c9e99",
   "metadata": {
    "tags": []
   },
   "outputs": [
    {
     "data": {
      "text/plain": [
       "array([[1, 2],\n",
       "       [3, 4]])"
      ]
     },
     "execution_count": 62,
     "metadata": {},
     "output_type": "execute_result"
    }
   ],
   "source": [
    "values[0]"
   ]
  },
  {
   "cell_type": "code",
   "execution_count": 63,
   "id": "b1fbec8d-8e91-44bc-9027-97287c2bf80d",
   "metadata": {
    "tags": []
   },
   "outputs": [
    {
     "data": {
      "text/plain": [
       "(2, 2)"
      ]
     },
     "execution_count": 63,
     "metadata": {},
     "output_type": "execute_result"
    }
   ],
   "source": [
    "values[0].shape"
   ]
  },
  {
   "cell_type": "code",
   "execution_count": 64,
   "id": "2e753fe9-3b4e-4f75-bfb5-1b73f58552a3",
   "metadata": {
    "tags": []
   },
   "outputs": [
    {
     "data": {
      "text/plain": [
       "3"
      ]
     },
     "execution_count": 64,
     "metadata": {},
     "output_type": "execute_result"
    }
   ],
   "source": [
    "values[0][1][0]"
   ]
  },
  {
   "cell_type": "code",
   "execution_count": 65,
   "id": "4902c99a-c3eb-480d-9d89-9d9745930278",
   "metadata": {
    "tags": []
   },
   "outputs": [
    {
     "data": {
      "text/plain": [
       "3"
      ]
     },
     "execution_count": 65,
     "metadata": {},
     "output_type": "execute_result"
    }
   ],
   "source": [
    "values[0, 1, 0]"
   ]
  },
  {
   "cell_type": "markdown",
   "id": "e532c0e2-26d9-4822-8e0e-1c12127056db",
   "metadata": {},
   "source": [
    "# Создание типовых тензоров"
   ]
  },
  {
   "cell_type": "code",
   "execution_count": 66,
   "id": "3a83d2d2-b39b-462d-8688-439bebc07514",
   "metadata": {
    "tags": []
   },
   "outputs": [
    {
     "data": {
      "text/plain": [
       "array([0, 0, 0, 0, 0, 0, 0, 0, 0, 0])"
      ]
     },
     "execution_count": 66,
     "metadata": {},
     "output_type": "execute_result"
    }
   ],
   "source": [
    "values = np.array([0] * 10)\n",
    "values"
   ]
  },
  {
   "cell_type": "code",
   "execution_count": 69,
   "id": "03be1cb8-9d60-4668-b66f-5b3f5316f3b3",
   "metadata": {
    "tags": []
   },
   "outputs": [
    {
     "data": {
      "text/plain": [
       "[0, 1, 2, 3, 4, 5, 6, 7, 8, 9]"
      ]
     },
     "execution_count": 69,
     "metadata": {},
     "output_type": "execute_result"
    }
   ],
   "source": [
    "list(range(10))"
   ]
  },
  {
   "cell_type": "code",
   "execution_count": 70,
   "id": "d084563c-10b1-44cb-aa0e-2395d873bd37",
   "metadata": {
    "tags": []
   },
   "outputs": [
    {
     "data": {
      "text/plain": [
       "array([0, 1, 2, 3, 4, 5, 6, 7, 8, 9])"
      ]
     },
     "execution_count": 70,
     "metadata": {},
     "output_type": "execute_result"
    }
   ],
   "source": [
    "values = np.array(range(10))\n",
    "values"
   ]
  },
  {
   "cell_type": "code",
   "execution_count": 72,
   "id": "c0762e96-5448-4957-a489-641da5b2ee18",
   "metadata": {
    "tags": []
   },
   "outputs": [
    {
     "data": {
      "text/plain": [
       "[2, 4, 6, 8, 10, 12, 14, 16, 18, 20]"
      ]
     },
     "execution_count": 72,
     "metadata": {},
     "output_type": "execute_result"
    }
   ],
   "source": [
    "[el for el in range(1, 21) if el % 2 == 0]"
   ]
  },
  {
   "cell_type": "code",
   "execution_count": 71,
   "id": "da6bb2a4-0a9b-4ce1-b103-5c6428152a27",
   "metadata": {
    "tags": []
   },
   "outputs": [
    {
     "data": {
      "text/plain": [
       "array([ 2,  4,  6,  8, 10, 12, 14, 16, 18, 20])"
      ]
     },
     "execution_count": 71,
     "metadata": {},
     "output_type": "execute_result"
    }
   ],
   "source": [
    "values = np.array([el for el in range(1, 21) if el % 2 == 0])\n",
    "values"
   ]
  },
  {
   "cell_type": "code",
   "execution_count": null,
   "id": "0a73e40e-375e-4997-b14b-a99c5f55a3a1",
   "metadata": {},
   "outputs": [],
   "source": []
  },
  {
   "cell_type": "code",
   "execution_count": 75,
   "id": "3ca17540-14c3-4aed-b3c7-8921723f19ba",
   "metadata": {
    "tags": []
   },
   "outputs": [
    {
     "data": {
      "text/plain": [
       "array([0., 0., 0.])"
      ]
     },
     "execution_count": 75,
     "metadata": {},
     "output_type": "execute_result"
    }
   ],
   "source": [
    "values = np.empty(shape=(3,))\n",
    "values"
   ]
  },
  {
   "cell_type": "code",
   "execution_count": 77,
   "id": "4763a88c-ba62-4828-b58c-82c0caf36b6d",
   "metadata": {
    "tags": []
   },
   "outputs": [
    {
     "data": {
      "text/plain": [
       "dtype('float64')"
      ]
     },
     "execution_count": 77,
     "metadata": {},
     "output_type": "execute_result"
    }
   ],
   "source": [
    "values.dtype"
   ]
  },
  {
   "cell_type": "code",
   "execution_count": 74,
   "id": "0cfd5914-b92c-4d5b-867a-c2974f8222be",
   "metadata": {
    "tags": []
   },
   "outputs": [
    {
     "data": {
      "text/plain": [
       "array([[0, 0, 0],\n",
       "       [0, 0, 0],\n",
       "       [0, 0, 0]], dtype=int16)"
      ]
     },
     "execution_count": 74,
     "metadata": {},
     "output_type": "execute_result"
    }
   ],
   "source": [
    "values = np.empty(shape=(3, 3), dtype=np.int16)\n",
    "values"
   ]
  },
  {
   "cell_type": "code",
   "execution_count": 78,
   "id": "7636ace0-adf5-4365-a610-12f7675e08ee",
   "metadata": {
    "tags": []
   },
   "outputs": [
    {
     "data": {
      "text/plain": [
       "array([[0., 0., 0.],\n",
       "       [0., 0., 0.],\n",
       "       [0., 0., 0.]], dtype=float16)"
      ]
     },
     "execution_count": 78,
     "metadata": {},
     "output_type": "execute_result"
    }
   ],
   "source": [
    "values = np.empty(shape=(3,3), dtype=np.float16)\n",
    "values"
   ]
  },
  {
   "cell_type": "code",
   "execution_count": 79,
   "id": "edc16eb1-5e7a-4e67-b1f9-6cc4f25e4d23",
   "metadata": {
    "tags": []
   },
   "outputs": [
    {
     "data": {
      "text/plain": [
       "array([[0.+0.j, 0.+0.j, 0.+0.j],\n",
       "       [0.+0.j, 0.+0.j, 0.+0.j],\n",
       "       [0.+0.j, 0.+0.j, 0.+0.j]], dtype=complex64)"
      ]
     },
     "execution_count": 79,
     "metadata": {},
     "output_type": "execute_result"
    }
   ],
   "source": [
    "values = np.empty(shape=(3,3), dtype=np.complex64)\n",
    "values"
   ]
  },
  {
   "cell_type": "code",
   "execution_count": null,
   "id": "65675131-ae11-4571-bb07-ec845d6ea4fd",
   "metadata": {},
   "outputs": [],
   "source": []
  },
  {
   "cell_type": "code",
   "execution_count": 80,
   "id": "2be3f546-6ab1-42f2-b44e-2ba22c8580d1",
   "metadata": {
    "tags": []
   },
   "outputs": [
    {
     "data": {
      "text/plain": [
       "array([[1., 0., 0., 0.],\n",
       "       [0., 1., 0., 0.],\n",
       "       [0., 0., 1., 0.],\n",
       "       [0., 0., 0., 1.]])"
      ]
     },
     "execution_count": 80,
     "metadata": {},
     "output_type": "execute_result"
    }
   ],
   "source": [
    "np.eye(4)"
   ]
  },
  {
   "cell_type": "code",
   "execution_count": 81,
   "id": "727044df-5420-4397-a51a-1c46a344da5e",
   "metadata": {
    "tags": []
   },
   "outputs": [
    {
     "data": {
      "text/plain": [
       "array([[1., 0., 0.],\n",
       "       [0., 1., 0.],\n",
       "       [0., 0., 1.],\n",
       "       [0., 0., 0.]])"
      ]
     },
     "execution_count": 81,
     "metadata": {},
     "output_type": "execute_result"
    }
   ],
   "source": [
    "np.eye(N=4, M=3)"
   ]
  },
  {
   "cell_type": "code",
   "execution_count": 82,
   "id": "a3d04f1a-d678-426a-b438-887cd75d6828",
   "metadata": {
    "tags": []
   },
   "outputs": [
    {
     "data": {
      "text/plain": [
       "array([[1., 0., 0., 0., 0.],\n",
       "       [0., 1., 0., 0., 0.],\n",
       "       [0., 0., 1., 0., 0.],\n",
       "       [0., 0., 0., 1., 0.],\n",
       "       [0., 0., 0., 0., 1.]])"
      ]
     },
     "execution_count": 82,
     "metadata": {},
     "output_type": "execute_result"
    }
   ],
   "source": [
    "np.identity(5)"
   ]
  },
  {
   "cell_type": "code",
   "execution_count": 83,
   "id": "80886752-1a7f-496b-9b25-a3340a26e734",
   "metadata": {
    "tags": []
   },
   "outputs": [
    {
     "data": {
      "text/plain": [
       "array([[1, 0, 0, 0, 0],\n",
       "       [0, 1, 0, 0, 0],\n",
       "       [0, 0, 1, 0, 0],\n",
       "       [0, 0, 0, 1, 0],\n",
       "       [0, 0, 0, 0, 1]], dtype=int8)"
      ]
     },
     "execution_count": 83,
     "metadata": {},
     "output_type": "execute_result"
    }
   ],
   "source": [
    "np.identity(5, dtype=np.int8)"
   ]
  },
  {
   "cell_type": "code",
   "execution_count": 84,
   "id": "09851e4d-f393-4008-a879-6116ed9a3628",
   "metadata": {
    "tags": []
   },
   "outputs": [
    {
     "data": {
      "text/plain": [
       "array([0., 0., 0.])"
      ]
     },
     "execution_count": 84,
     "metadata": {},
     "output_type": "execute_result"
    }
   ],
   "source": [
    "np.zeros((3,))"
   ]
  },
  {
   "cell_type": "code",
   "execution_count": 85,
   "id": "e5c7dfe0-08d0-43d3-a3dd-f1fb9d2cfad2",
   "metadata": {
    "tags": []
   },
   "outputs": [
    {
     "data": {
      "text/plain": [
       "array([1., 1., 1.])"
      ]
     },
     "execution_count": 85,
     "metadata": {},
     "output_type": "execute_result"
    }
   ],
   "source": [
    "np.ones((3,))"
   ]
  },
  {
   "cell_type": "code",
   "execution_count": 89,
   "id": "d9297cb4-dac9-4d95-9b31-25e0b571c534",
   "metadata": {
    "tags": []
   },
   "outputs": [
    {
     "data": {
      "text/plain": [
       "array([-3, -3, -3, -3])"
      ]
     },
     "execution_count": 89,
     "metadata": {},
     "output_type": "execute_result"
    }
   ],
   "source": [
    "np.full(4, -3)"
   ]
  },
  {
   "cell_type": "code",
   "execution_count": 88,
   "id": "e551fbcf-f270-428c-bf29-67a160cc12ac",
   "metadata": {
    "tags": []
   },
   "outputs": [
    {
     "data": {
      "text/plain": [
       "array([-1., -1., -1.])"
      ]
     },
     "execution_count": 88,
     "metadata": {},
     "output_type": "execute_result"
    }
   ],
   "source": [
    "np.ones((3,)) * -1"
   ]
  },
  {
   "cell_type": "code",
   "execution_count": 90,
   "id": "20dc1f1f-53cc-443e-956e-13c106801144",
   "metadata": {
    "tags": []
   },
   "outputs": [
    {
     "name": "stdout",
     "output_type": "stream",
     "text": [
      "259 µs ± 927 ns per loop (mean ± std. dev. of 7 runs, 1,000 loops each)\n"
     ]
    }
   ],
   "source": [
    "%%timeit\n",
    "values = np.array([0] * 10000)"
   ]
  },
  {
   "cell_type": "code",
   "execution_count": 91,
   "id": "c64896bc-37a3-4155-ba70-1bd150681b5d",
   "metadata": {
    "tags": []
   },
   "outputs": [
    {
     "name": "stdout",
     "output_type": "stream",
     "text": [
      "1.18 µs ± 3.43 ns per loop (mean ± std. dev. of 7 runs, 1,000,000 loops each)\n"
     ]
    }
   ],
   "source": [
    "%%timeit\n",
    "values = np.zeros(10000)"
   ]
  },
  {
   "cell_type": "code",
   "execution_count": null,
   "id": "322d104e-0b17-46f9-ac4a-3b0f8488c5b8",
   "metadata": {},
   "outputs": [],
   "source": []
  },
  {
   "cell_type": "code",
   "execution_count": 93,
   "id": "575728ad-6a3a-49e2-a269-0bbd79ddd485",
   "metadata": {
    "tags": []
   },
   "outputs": [
    {
     "data": {
      "text/plain": [
       "matrix([[1, 2, 3, 4]])"
      ]
     },
     "execution_count": 93,
     "metadata": {},
     "output_type": "execute_result"
    }
   ],
   "source": [
    "values = np.mat(\"1 2 3 4\")\n",
    "values"
   ]
  },
  {
   "cell_type": "code",
   "execution_count": 94,
   "id": "96cd958e-46ae-4ceb-b44b-c3bbc636df39",
   "metadata": {
    "tags": []
   },
   "outputs": [
    {
     "data": {
      "text/plain": [
       "(1, 4)"
      ]
     },
     "execution_count": 94,
     "metadata": {},
     "output_type": "execute_result"
    }
   ],
   "source": [
    "values.shape"
   ]
  },
  {
   "cell_type": "code",
   "execution_count": 95,
   "id": "ecbeecbc-c99d-4395-a4bd-396c87874779",
   "metadata": {
    "tags": []
   },
   "outputs": [
    {
     "data": {
      "text/plain": [
       "matrix([[1, 2],\n",
       "        [3, 4]])"
      ]
     },
     "execution_count": 95,
     "metadata": {},
     "output_type": "execute_result"
    }
   ],
   "source": [
    "values = np.mat(\"1 2; 3 4\")\n",
    "values"
   ]
  },
  {
   "cell_type": "code",
   "execution_count": 97,
   "id": "c1deb112-953a-4840-92ed-90064ddafe4e",
   "metadata": {
    "tags": []
   },
   "outputs": [
    {
     "data": {
      "text/plain": [
       "(2, 2)"
      ]
     },
     "execution_count": 97,
     "metadata": {},
     "output_type": "execute_result"
    }
   ],
   "source": [
    "values.shape"
   ]
  },
  {
   "cell_type": "code",
   "execution_count": 98,
   "id": "a88a7acd-e482-4b9f-a572-babf8ef0f73f",
   "metadata": {
    "tags": []
   },
   "outputs": [
    {
     "data": {
      "text/plain": [
       "numpy.matrix"
      ]
     },
     "execution_count": 98,
     "metadata": {},
     "output_type": "execute_result"
    }
   ],
   "source": [
    "type(values)"
   ]
  },
  {
   "cell_type": "code",
   "execution_count": 99,
   "id": "7b4de949-be6a-4424-a740-b83870f45c80",
   "metadata": {
    "tags": []
   },
   "outputs": [
    {
     "data": {
      "text/plain": [
       "True"
      ]
     },
     "execution_count": 99,
     "metadata": {},
     "output_type": "execute_result"
    }
   ],
   "source": [
    "isinstance(values, np.ndarray)"
   ]
  },
  {
   "cell_type": "code",
   "execution_count": 100,
   "id": "9abbf294-278f-4e10-b866-ca0d7534c10a",
   "metadata": {
    "tags": []
   },
   "outputs": [
    {
     "data": {
      "text/plain": [
       "matrix([[1, 2],\n",
       "        [3, 4]])"
      ]
     },
     "execution_count": 100,
     "metadata": {},
     "output_type": "execute_result"
    }
   ],
   "source": [
    "values = np.matrix(\"1 2; 3 4\")\n",
    "values"
   ]
  },
  {
   "cell_type": "code",
   "execution_count": 104,
   "id": "65a00b6b-a8df-45f3-9e60-da64fda8f8dd",
   "metadata": {
    "tags": []
   },
   "outputs": [
    {
     "name": "stdout",
     "output_type": "stream",
     "text": [
      "<class 'numpy.matrix'>\n",
      "<class 'numpy.ndarray'>\n"
     ]
    },
    {
     "data": {
      "text/plain": [
       "array([[1, 2],\n",
       "       [3, 4]])"
      ]
     },
     "execution_count": 104,
     "metadata": {},
     "output_type": "execute_result"
    }
   ],
   "source": [
    "values = np.matrix(\"1 2; 3 4\")\n",
    "print(type(values))\n",
    "values = np.array(values)\n",
    "print(type(values))\n",
    "values"
   ]
  },
  {
   "cell_type": "code",
   "execution_count": 105,
   "id": "ae220d8e-5004-4e24-b39d-9ecadd17990b",
   "metadata": {
    "tags": []
   },
   "outputs": [
    {
     "data": {
      "text/plain": [
       "matrix([[1, 2],\n",
       "        [3, 4]], dtype=object)"
      ]
     },
     "execution_count": 105,
     "metadata": {},
     "output_type": "execute_result"
    }
   ],
   "source": [
    "values = np.matrix(\"1 2; 3 4\").astype(np.ndarray)\n",
    "values"
   ]
  },
  {
   "cell_type": "code",
   "execution_count": 106,
   "id": "bd0a7225-e578-46e3-9f47-a5d237210e5c",
   "metadata": {
    "tags": []
   },
   "outputs": [
    {
     "data": {
      "text/plain": [
       "array([[1, 0, 0],\n",
       "       [0, 2, 0],\n",
       "       [0, 0, 3]])"
      ]
     },
     "execution_count": 106,
     "metadata": {},
     "output_type": "execute_result"
    }
   ],
   "source": [
    "np.diag([1, 2, 3])"
   ]
  },
  {
   "cell_type": "code",
   "execution_count": 107,
   "id": "fdca3227-55d5-4857-a905-587d1f6cb8b6",
   "metadata": {
    "tags": []
   },
   "outputs": [
    {
     "data": {
      "text/plain": [
       "array([1, 5, 9])"
      ]
     },
     "execution_count": 107,
     "metadata": {},
     "output_type": "execute_result"
    }
   ],
   "source": [
    "np.diag([[1, 2, 3], [4, 5, 6], [7, 8, 9]])"
   ]
  },
  {
   "cell_type": "code",
   "execution_count": 108,
   "id": "7e176803-af4b-42e3-83f8-ea2c9f52b8d7",
   "metadata": {
    "tags": []
   },
   "outputs": [
    {
     "data": {
      "text/plain": [
       "array([[1., 0., 0., 0.],\n",
       "       [1., 1., 0., 0.],\n",
       "       [1., 1., 1., 0.],\n",
       "       [1., 1., 1., 1.]])"
      ]
     },
     "execution_count": 108,
     "metadata": {},
     "output_type": "execute_result"
    }
   ],
   "source": [
    "np.tri(4)"
   ]
  },
  {
   "cell_type": "code",
   "execution_count": 109,
   "id": "6dc684ae-0a24-485a-b4d9-ea1acbf5bd9b",
   "metadata": {
    "tags": []
   },
   "outputs": [
    {
     "data": {
      "text/plain": [
       "array([[1., 0.],\n",
       "       [1., 1.],\n",
       "       [1., 1.],\n",
       "       [1., 1.]])"
      ]
     },
     "execution_count": 109,
     "metadata": {},
     "output_type": "execute_result"
    }
   ],
   "source": [
    "np.tri(4, 2)"
   ]
  },
  {
   "cell_type": "code",
   "execution_count": 110,
   "id": "99b30077-b097-41d2-830c-f0c46216e97d",
   "metadata": {
    "tags": []
   },
   "outputs": [
    {
     "data": {
      "text/plain": [
       "array([[1., 0., 0., 0.],\n",
       "       [1., 1., 0., 0.],\n",
       "       [1., 1., 1., 0.]])"
      ]
     },
     "execution_count": 110,
     "metadata": {},
     "output_type": "execute_result"
    }
   ],
   "source": [
    "np.tri(3, 4)"
   ]
  },
  {
   "cell_type": "code",
   "execution_count": 111,
   "id": "3ff74544-ad5d-4593-9574-a462e2d0d244",
   "metadata": {
    "tags": []
   },
   "outputs": [
    {
     "data": {
      "text/plain": [
       "array([[1., 0., 0., 0.],\n",
       "       [1., 1., 0., 0.],\n",
       "       [1., 1., 1., 0.],\n",
       "       [1., 1., 1., 1.]])"
      ]
     },
     "execution_count": 111,
     "metadata": {},
     "output_type": "execute_result"
    }
   ],
   "source": [
    "np.tri(4)"
   ]
  },
  {
   "cell_type": "code",
   "execution_count": 112,
   "id": "0a4d1cdd-16fc-4464-ba1f-e43b79c22825",
   "metadata": {
    "tags": []
   },
   "outputs": [
    {
     "data": {
      "text/plain": [
       "array([[1., 1., 1., 1.],\n",
       "       [0., 1., 1., 1.],\n",
       "       [0., 0., 1., 1.],\n",
       "       [0., 0., 0., 1.]])"
      ]
     },
     "execution_count": 112,
     "metadata": {},
     "output_type": "execute_result"
    }
   ],
   "source": [
    "np.tri(4).T"
   ]
  },
  {
   "cell_type": "code",
   "execution_count": 113,
   "id": "c9600f44-c687-4ec9-9d98-ba0712c4e393",
   "metadata": {
    "tags": []
   },
   "outputs": [
    {
     "data": {
      "text/plain": [
       "array([[1, 2, 3],\n",
       "       [4, 5, 6],\n",
       "       [7, 8, 9]])"
      ]
     },
     "execution_count": 113,
     "metadata": {},
     "output_type": "execute_result"
    }
   ],
   "source": [
    "values = np.array([[1,2,3], [4,5,6], [7,8,9]])\n",
    "values"
   ]
  },
  {
   "cell_type": "code",
   "execution_count": 114,
   "id": "c682b9a7-d108-48f0-b950-e63bb6d7c263",
   "metadata": {
    "tags": []
   },
   "outputs": [
    {
     "data": {
      "text/plain": [
       "array([[1, 0, 0],\n",
       "       [4, 5, 0],\n",
       "       [7, 8, 9]])"
      ]
     },
     "execution_count": 114,
     "metadata": {},
     "output_type": "execute_result"
    }
   ],
   "source": [
    "np.tril(values)"
   ]
  },
  {
   "cell_type": "code",
   "execution_count": 115,
   "id": "144c7b82-fe23-42b8-90e3-0bc5b12de5d8",
   "metadata": {
    "tags": []
   },
   "outputs": [
    {
     "data": {
      "text/plain": [
       "array([[1, 2, 3],\n",
       "       [0, 5, 6],\n",
       "       [0, 0, 9]])"
      ]
     },
     "execution_count": 115,
     "metadata": {},
     "output_type": "execute_result"
    }
   ],
   "source": [
    "np.triu(values)"
   ]
  },
  {
   "cell_type": "code",
   "execution_count": 116,
   "id": "9ab7ff90-beaa-4535-acfe-b6755bf7dddc",
   "metadata": {
    "tags": []
   },
   "outputs": [
    {
     "data": {
      "text/plain": [
       "array([[1, 0, 0, 0],\n",
       "       [1, 2, 0, 0],\n",
       "       [1, 2, 3, 0],\n",
       "       [1, 2, 3, 4]])"
      ]
     },
     "execution_count": 116,
     "metadata": {},
     "output_type": "execute_result"
    }
   ],
   "source": [
    "np.tril([1, 2, 3, 4])"
   ]
  },
  {
   "cell_type": "code",
   "execution_count": null,
   "id": "3c88bbe0-e351-4a8b-a532-0a9824438ddb",
   "metadata": {},
   "outputs": [],
   "source": []
  },
  {
   "cell_type": "code",
   "execution_count": 117,
   "id": "6bd71bdf-c8b5-4f18-a8b0-741925151192",
   "metadata": {
    "tags": []
   },
   "outputs": [
    {
     "data": {
      "text/plain": [
       "array([0, 1, 2, 3, 4, 5, 6, 7, 8, 9])"
      ]
     },
     "execution_count": 117,
     "metadata": {},
     "output_type": "execute_result"
    }
   ],
   "source": [
    "np.arange(10)"
   ]
  },
  {
   "cell_type": "code",
   "execution_count": 118,
   "id": "6116a144-0eb7-4636-a3ec-6dbd636f6a91",
   "metadata": {
    "tags": []
   },
   "outputs": [
    {
     "data": {
      "text/plain": [
       "array([1, 2, 3, 4, 5, 6, 7, 8, 9])"
      ]
     },
     "execution_count": 118,
     "metadata": {},
     "output_type": "execute_result"
    }
   ],
   "source": [
    "np.arange(1, 10)"
   ]
  },
  {
   "cell_type": "code",
   "execution_count": 119,
   "id": "aee608ba-7977-4efa-a46b-bd731aa2e955",
   "metadata": {
    "tags": []
   },
   "outputs": [
    {
     "data": {
      "text/plain": [
       "array([1, 3, 5, 7, 9])"
      ]
     },
     "execution_count": 119,
     "metadata": {},
     "output_type": "execute_result"
    }
   ],
   "source": [
    "np.arange(1, 10, 2)"
   ]
  },
  {
   "cell_type": "code",
   "execution_count": 120,
   "id": "c6048e63-d379-4538-88a2-dbb37d0aab4e",
   "metadata": {
    "tags": []
   },
   "outputs": [
    {
     "data": {
      "text/plain": [
       "array([1. , 1.2, 1.4, 1.6, 1.8, 2. , 2.2, 2.4, 2.6, 2.8, 3. , 3.2, 3.4,\n",
       "       3.6, 3.8, 4. , 4.2, 4.4, 4.6, 4.8, 5. , 5.2, 5.4, 5.6, 5.8, 6. ,\n",
       "       6.2, 6.4, 6.6, 6.8, 7. , 7.2, 7.4, 7.6, 7.8, 8. , 8.2, 8.4, 8.6,\n",
       "       8.8, 9. , 9.2, 9.4, 9.6, 9.8])"
      ]
     },
     "execution_count": 120,
     "metadata": {},
     "output_type": "execute_result"
    }
   ],
   "source": [
    "np.arange(1, 10, .2)"
   ]
  },
  {
   "cell_type": "code",
   "execution_count": 121,
   "id": "0dc92a84-1478-4feb-8e0b-2cec365df8a8",
   "metadata": {
    "tags": []
   },
   "outputs": [
    {
     "data": {
      "text/plain": [
       "array([0. , 0.1, 0.2, 0.3, 0.4, 0.5, 0.6, 0.7, 0.8, 0.9, 1. , 1.1, 1.2,\n",
       "       1.3, 1.4, 1.5, 1.6, 1.7, 1.8, 1.9, 2. , 2.1, 2.2, 2.3, 2.4, 2.5,\n",
       "       2.6, 2.7, 2.8, 2.9, 3. , 3.1])"
      ]
     },
     "execution_count": 121,
     "metadata": {},
     "output_type": "execute_result"
    }
   ],
   "source": [
    "np.arange(0, np.pi, 0.1)"
   ]
  },
  {
   "cell_type": "code",
   "execution_count": 122,
   "id": "b02592c6-374f-4962-affd-a4486e733931",
   "metadata": {
    "tags": []
   },
   "outputs": [
    {
     "data": {
      "text/plain": [
       "array([ 1.        ,  0.99500417,  0.98006658,  0.95533649,  0.92106099,\n",
       "        0.87758256,  0.82533561,  0.76484219,  0.69670671,  0.62160997,\n",
       "        0.54030231,  0.45359612,  0.36235775,  0.26749883,  0.16996714,\n",
       "        0.0707372 , -0.02919952, -0.12884449, -0.22720209, -0.32328957,\n",
       "       -0.41614684, -0.5048461 , -0.58850112, -0.66627602, -0.73739372,\n",
       "       -0.80114362, -0.85688875, -0.90407214, -0.94222234, -0.97095817,\n",
       "       -0.9899925 , -0.99913515])"
      ]
     },
     "execution_count": 122,
     "metadata": {},
     "output_type": "execute_result"
    }
   ],
   "source": [
    "np.cos(np.arange(0, np.pi, 0.1))"
   ]
  },
  {
   "cell_type": "code",
   "execution_count": 123,
   "id": "2db7c5e3-0fa7-408a-bbf8-e2ccd2717fdf",
   "metadata": {
    "tags": []
   },
   "outputs": [
    {
     "name": "stdout",
     "output_type": "stream",
     "text": [
      "638 ns ± 6.05 ns per loop (mean ± std. dev. of 7 runs, 1,000,000 loops each)\n"
     ]
    }
   ],
   "source": [
    "%%timeit\n",
    "\n",
    "np.cos(np.arange(0, np.pi, 0.1))"
   ]
  },
  {
   "cell_type": "code",
   "execution_count": 124,
   "id": "cf6959ac-a995-4491-b3bf-2f8165ff33bd",
   "metadata": {
    "tags": []
   },
   "outputs": [
    {
     "name": "stdout",
     "output_type": "stream",
     "text": [
      "13 µs ± 61.5 ns per loop (mean ± std. dev. of 7 runs, 100,000 loops each)\n"
     ]
    }
   ],
   "source": [
    "%%timeit\n",
    " \n",
    "result = []\n",
    "for el in np.arange(0, np.pi, 0.1):\n",
    "    result.append(np.cos(el))"
   ]
  },
  {
   "cell_type": "code",
   "execution_count": null,
   "id": "048461dc-fccd-4d1d-b296-8c44d45e18ee",
   "metadata": {},
   "outputs": [],
   "source": []
  },
  {
   "cell_type": "code",
   "execution_count": 125,
   "id": "34a02531-d0a7-424c-b35b-d7834df2cfb1",
   "metadata": {
    "tags": []
   },
   "outputs": [
    {
     "data": {
      "text/plain": [
       "array([], dtype=float64)"
      ]
     },
     "execution_count": 125,
     "metadata": {},
     "output_type": "execute_result"
    }
   ],
   "source": [
    "np.linspace(0, np.pi, 0)"
   ]
  },
  {
   "cell_type": "code",
   "execution_count": 126,
   "id": "8a749079-a9b8-4d49-9d15-77af7a7b6665",
   "metadata": {
    "tags": []
   },
   "outputs": [
    {
     "data": {
      "text/plain": [
       "array([0.])"
      ]
     },
     "execution_count": 126,
     "metadata": {},
     "output_type": "execute_result"
    }
   ],
   "source": [
    "np.linspace(0, np.pi, 1)"
   ]
  },
  {
   "cell_type": "code",
   "execution_count": 127,
   "id": "c5eadb12-5ddd-4aa6-9a6c-3e7f1a8120c3",
   "metadata": {
    "tags": []
   },
   "outputs": [
    {
     "data": {
      "text/plain": [
       "array([0.        , 3.14159265])"
      ]
     },
     "execution_count": 127,
     "metadata": {},
     "output_type": "execute_result"
    }
   ],
   "source": [
    "np.linspace(0, np.pi, 2)"
   ]
  },
  {
   "cell_type": "code",
   "execution_count": 128,
   "id": "d7107367-1e08-42d2-a94e-437be8c711dc",
   "metadata": {
    "tags": []
   },
   "outputs": [
    {
     "data": {
      "text/plain": [
       "array([0.        , 1.57079633, 3.14159265])"
      ]
     },
     "execution_count": 128,
     "metadata": {},
     "output_type": "execute_result"
    }
   ],
   "source": [
    "np.linspace(0, np.pi, 3)"
   ]
  },
  {
   "cell_type": "code",
   "execution_count": 129,
   "id": "ba038259-0824-44c5-99a6-09ceb3831ff8",
   "metadata": {
    "tags": []
   },
   "outputs": [
    {
     "data": {
      "text/plain": [
       "array([0.        , 0.34906585, 0.6981317 , 1.04719755, 1.3962634 ,\n",
       "       1.74532925, 2.0943951 , 2.44346095, 2.7925268 , 3.14159265])"
      ]
     },
     "execution_count": 129,
     "metadata": {},
     "output_type": "execute_result"
    }
   ],
   "source": [
    "np.linspace(0, np.pi, 10)"
   ]
  },
  {
   "cell_type": "code",
   "execution_count": 130,
   "id": "45edd36e-561a-431a-b598-859609263ac4",
   "metadata": {
    "tags": []
   },
   "outputs": [
    {
     "data": {
      "text/plain": [
       "array([1.00000000e+00, 2.23391092e+00, 4.99035798e+00, 1.11480152e+01,\n",
       "       2.49036728e+01, 5.56325865e+01, 1.24278242e+02, 2.77626522e+02,\n",
       "       6.20192919e+02, 1.38545573e+03])"
      ]
     },
     "execution_count": 130,
     "metadata": {},
     "output_type": "execute_result"
    }
   ],
   "source": [
    "np.logspace(0, np.pi, 10)"
   ]
  },
  {
   "cell_type": "code",
   "execution_count": 131,
   "id": "723bb0b8-7fc8-4e19-9821-e16c4138c79b",
   "metadata": {
    "tags": []
   },
   "outputs": [
    {
     "data": {
      "text/plain": [
       "array([1., 2., 4.])"
      ]
     },
     "execution_count": 131,
     "metadata": {},
     "output_type": "execute_result"
    }
   ],
   "source": [
    "np.geomspace(1, 4, 3)"
   ]
  },
  {
   "cell_type": "code",
   "execution_count": 132,
   "id": "e224d030-494c-442c-8e20-7832cb327935",
   "metadata": {
    "tags": []
   },
   "outputs": [
    {
     "data": {
      "text/plain": [
       "array([1.        , 1.16652904, 1.36079   , 1.58740105, 1.85174942,\n",
       "       2.16011948, 2.5198421 , 2.93946898, 3.42897593, 4.        ])"
      ]
     },
     "execution_count": 132,
     "metadata": {},
     "output_type": "execute_result"
    }
   ],
   "source": [
    "values = np.geomspace(1, 4, 10)\n",
    "values"
   ]
  },
  {
   "cell_type": "code",
   "execution_count": 133,
   "id": "0bc97bfa-ac9a-439e-bad4-062c3f08c409",
   "metadata": {
    "tags": []
   },
   "outputs": [
    {
     "data": {
      "text/plain": [
       "1.360790000174377"
      ]
     },
     "execution_count": 133,
     "metadata": {},
     "output_type": "execute_result"
    }
   ],
   "source": [
    "values[1] * values[1]"
   ]
  },
  {
   "cell_type": "code",
   "execution_count": 134,
   "id": "9b1ddfdb-ff49-434e-a228-4a99736cd97d",
   "metadata": {
    "tags": []
   },
   "outputs": [
    {
     "data": {
      "text/plain": [
       "1.5874010519681994"
      ]
     },
     "execution_count": 134,
     "metadata": {},
     "output_type": "execute_result"
    }
   ],
   "source": [
    "values[1] * values[1] * values[1]"
   ]
  },
  {
   "cell_type": "code",
   "execution_count": null,
   "id": "7a433d5e-dccd-462a-a1d7-b08e24b666a3",
   "metadata": {},
   "outputs": [],
   "source": []
  },
  {
   "cell_type": "code",
   "execution_count": 135,
   "id": "a386183f-95b0-42e2-abda-d18bcd8953a6",
   "metadata": {
    "tags": []
   },
   "outputs": [
    {
     "data": {
      "text/plain": [
       "array([1.        , 1.16652904, 1.36079   , 1.58740105, 1.85174942,\n",
       "       2.16011948, 2.5198421 , 2.93946898, 3.42897593, 4.        ])"
      ]
     },
     "execution_count": 135,
     "metadata": {},
     "output_type": "execute_result"
    }
   ],
   "source": [
    "values = np.geomspace(1, 4, 10)\n",
    "values"
   ]
  },
  {
   "cell_type": "code",
   "execution_count": 136,
   "id": "6458f066-4c20-44fe-bb33-beafaa07684d",
   "metadata": {
    "tags": []
   },
   "outputs": [],
   "source": [
    "b = values"
   ]
  },
  {
   "cell_type": "code",
   "execution_count": 138,
   "id": "22e3f8c9-f522-4f53-a2a8-21b179236960",
   "metadata": {
    "tags": []
   },
   "outputs": [
    {
     "name": "stdout",
     "output_type": "stream",
     "text": [
      "[-10.           1.16652904   1.36079      1.58740105   1.85174942\n",
      "   2.16011948   2.5198421    2.93946898   3.42897593   4.        ]\n",
      "[-10.           1.16652904   1.36079      1.58740105   1.85174942\n",
      "   2.16011948   2.5198421    2.93946898   3.42897593   4.        ]\n"
     ]
    }
   ],
   "source": [
    "b[0] = -10\n",
    "print(b)\n",
    "print(values)"
   ]
  },
  {
   "cell_type": "code",
   "execution_count": 139,
   "id": "eee87344-937e-4ff8-81e2-b8d43f86e415",
   "metadata": {
    "tags": []
   },
   "outputs": [],
   "source": [
    "values = np.geomspace(1, 4, 10)\n",
    "\n",
    "b = np.copy(values)"
   ]
  },
  {
   "cell_type": "code",
   "execution_count": 140,
   "id": "b3f0c28a-5ad1-4f51-ad56-e38f84597be7",
   "metadata": {
    "tags": []
   },
   "outputs": [
    {
     "name": "stdout",
     "output_type": "stream",
     "text": [
      "[-10.           1.16652904   1.36079      1.58740105   1.85174942\n",
      "   2.16011948   2.5198421    2.93946898   3.42897593   4.        ]\n",
      "[1.         1.16652904 1.36079    1.58740105 1.85174942 2.16011948\n",
      " 2.5198421  2.93946898 3.42897593 4.        ]\n"
     ]
    }
   ],
   "source": [
    "b[0] = -10\n",
    "print(b)\n",
    "print(values)"
   ]
  },
  {
   "cell_type": "code",
   "execution_count": null,
   "id": "8511a166-ce14-40a4-8160-15f40a69ef1b",
   "metadata": {},
   "outputs": [],
   "source": []
  },
  {
   "cell_type": "code",
   "execution_count": 141,
   "id": "ae056c94-359c-48d0-901d-125763587d95",
   "metadata": {
    "tags": []
   },
   "outputs": [
    {
     "data": {
      "text/plain": [
       "array([[  0.,   1.,   2.],\n",
       "       [100., 101., 102.],\n",
       "       [200., 201., 202.]])"
      ]
     },
     "execution_count": 141,
     "metadata": {},
     "output_type": "execute_result"
    }
   ],
   "source": [
    "def get_range(x_index, y_index):\n",
    "    return 100 * x_index + y_index\n",
    "\n",
    "np.fromfunction(get_range, (3, 3))"
   ]
  },
  {
   "cell_type": "code",
   "execution_count": 142,
   "id": "0a72f9cf-c868-4f27-85c9-044926046254",
   "metadata": {
    "tags": []
   },
   "outputs": [
    {
     "data": {
      "text/plain": [
       "array([[  0.,   1.,   2.],\n",
       "       [100., 101., 102.],\n",
       "       [200., 201., 202.]])"
      ]
     },
     "execution_count": 142,
     "metadata": {},
     "output_type": "execute_result"
    }
   ],
   "source": [
    "np.fromfunction(lambda x_index, y_index: 100 * x_index + y_index, (3, 3))"
   ]
  },
  {
   "cell_type": "code",
   "execution_count": 143,
   "id": "31f87c1e-8be7-45d0-8cce-9d18ca70bea2",
   "metadata": {
    "tags": []
   },
   "outputs": [
    {
     "data": {
      "text/plain": [
       "array([1, 2, 3])"
      ]
     },
     "execution_count": 143,
     "metadata": {},
     "output_type": "execute_result"
    }
   ],
   "source": [
    "np.fromiter([1,2,3], dtype='int')"
   ]
  },
  {
   "cell_type": "code",
   "execution_count": 144,
   "id": "27a9741b-8403-46da-93e5-350b52b0f2ca",
   "metadata": {
    "tags": []
   },
   "outputs": [
    {
     "data": {
      "text/plain": [
       "array([1, 2, 3])"
      ]
     },
     "execution_count": 144,
     "metadata": {},
     "output_type": "execute_result"
    }
   ],
   "source": [
    "np.fromiter((1,2,3), dtype='int')"
   ]
  },
  {
   "cell_type": "code",
   "execution_count": 145,
   "id": "5521092f-c0f4-46a1-8035-109b0ef8a535",
   "metadata": {
    "tags": []
   },
   "outputs": [
    {
     "data": {
      "text/plain": [
       "array(['H', 'e', 'l', 'l', 'o', ' ', 't', 'h', 'e', 'r', 'e'], dtype='<U1')"
      ]
     },
     "execution_count": 145,
     "metadata": {},
     "output_type": "execute_result"
    }
   ],
   "source": [
    "np.fromiter(\"Hello there\", dtype='U1')"
   ]
  },
  {
   "cell_type": "code",
   "execution_count": 146,
   "id": "b6ec48a7-92b6-4cc7-9c0a-d78c85c63aef",
   "metadata": {
    "tags": []
   },
   "outputs": [
    {
     "data": {
      "text/plain": [
       "array([0, 1, 2, 3, 4, 5, 6, 7, 8, 9], dtype=int16)"
      ]
     },
     "execution_count": 146,
     "metadata": {},
     "output_type": "execute_result"
    }
   ],
   "source": [
    "np.fromiter(range(10), dtype=np.int16)"
   ]
  },
  {
   "cell_type": "code",
   "execution_count": 147,
   "id": "5c1870ab-1bd9-48f0-bdd5-fe97e97fa179",
   "metadata": {
    "tags": []
   },
   "outputs": [
    {
     "data": {
      "text/plain": [
       "array([0, 1, 2, 3, 4, 5, 6, 7, 8, 9], dtype=int16)"
      ]
     },
     "execution_count": 147,
     "metadata": {},
     "output_type": "execute_result"
    }
   ],
   "source": [
    "def get_range_iterator(N):\n",
    "    for i in range(N):\n",
    "        yield i\n",
    "        \n",
    "np.fromiter(get_range_iterator(10), dtype=np.int16)"
   ]
  },
  {
   "cell_type": "code",
   "execution_count": 148,
   "id": "732a2da2-486f-426f-a186-89b4a83ec55f",
   "metadata": {
    "tags": []
   },
   "outputs": [
    {
     "data": {
      "text/plain": [
       "array([1, 2, 3], dtype=int8)"
      ]
     },
     "execution_count": 148,
     "metadata": {},
     "output_type": "execute_result"
    }
   ],
   "source": [
    "np.fromstring(\"1 2 3\", dtype=\"int8\", sep=\" \")"
   ]
  },
  {
   "cell_type": "code",
   "execution_count": 149,
   "id": "aa79c125-3520-4f45-8b0a-ec67c3a71808",
   "metadata": {
    "tags": []
   },
   "outputs": [
    {
     "data": {
      "text/plain": [
       "array([1, 2, 3], dtype=int8)"
      ]
     },
     "execution_count": 149,
     "metadata": {},
     "output_type": "execute_result"
    }
   ],
   "source": [
    "np.fromstring(\"1;2;3\", dtype=\"int8\", sep=\";\")"
   ]
  },
  {
   "cell_type": "code",
   "execution_count": 150,
   "id": "4955163e-1fe1-4511-b79b-3d453b68dcb3",
   "metadata": {
    "tags": []
   },
   "outputs": [
    {
     "ename": "ValueError",
     "evalue": "don't know how to read character strings with that array type",
     "output_type": "error",
     "traceback": [
      "\u001B[0;31m---------------------------------------------------------------------------\u001B[0m",
      "\u001B[0;31mValueError\u001B[0m                                Traceback (most recent call last)",
      "Cell \u001B[0;32mIn[150], line 1\u001B[0m\n\u001B[0;32m----> 1\u001B[0m \u001B[43mnp\u001B[49m\u001B[38;5;241;43m.\u001B[39;49m\u001B[43mfromstring\u001B[49m\u001B[43m(\u001B[49m\u001B[38;5;124;43m\"\u001B[39;49m\u001B[38;5;124;43m1 2 3\u001B[39;49m\u001B[38;5;124;43m\"\u001B[39;49m\u001B[43m,\u001B[49m\u001B[43m \u001B[49m\u001B[43mdtype\u001B[49m\u001B[38;5;241;43m=\u001B[39;49m\u001B[38;5;124;43m\"\u001B[39;49m\u001B[38;5;124;43mU1\u001B[39;49m\u001B[38;5;124;43m\"\u001B[39;49m\u001B[43m,\u001B[49m\u001B[43m \u001B[49m\u001B[43msep\u001B[49m\u001B[38;5;241;43m=\u001B[39;49m\u001B[38;5;124;43m\"\u001B[39;49m\u001B[38;5;124;43m \u001B[39;49m\u001B[38;5;124;43m\"\u001B[39;49m\u001B[43m)\u001B[49m\n",
      "\u001B[0;31mValueError\u001B[0m: don't know how to read character strings with that array type"
     ]
    }
   ],
   "source": [
    "np.fromstring(\"1 2 3\", dtype=\"U1\", sep=\" \")"
   ]
  },
  {
   "cell_type": "code",
   "execution_count": null,
   "id": "66d27a67-549d-4ea7-a565-90bf8afd9909",
   "metadata": {},
   "outputs": [],
   "source": []
  },
  {
   "cell_type": "code",
   "execution_count": 159,
   "id": "c0604da4-1be4-4ba4-9403-5293a2386bf2",
   "metadata": {
    "tags": []
   },
   "outputs": [],
   "source": [
    "def get_func(N):\n",
    "    for i in range(N):\n",
    "        print(\"Before\")\n",
    "        return i\n",
    "        print(\"After\")"
   ]
  },
  {
   "cell_type": "code",
   "execution_count": 183,
   "id": "e48d8603-52ef-4b3c-93e1-9678b3e3d039",
   "metadata": {
    "tags": []
   },
   "outputs": [
    {
     "name": "stdout",
     "output_type": "stream",
     "text": [
      "Before\n"
     ]
    },
    {
     "data": {
      "text/plain": [
       "0"
      ]
     },
     "execution_count": 183,
     "metadata": {},
     "output_type": "execute_result"
    }
   ],
   "source": [
    "get_func(10)"
   ]
  },
  {
   "cell_type": "code",
   "execution_count": null,
   "id": "2d8d49b6-74b9-4e2c-b5c7-a366e62752f2",
   "metadata": {},
   "outputs": [],
   "source": [
    "class FOO:\n",
    "    def __init__(self):\n",
    "        pass\n",
    "    def __iter__(self):\n",
    "        pass"
   ]
  },
  {
   "cell_type": "code",
   "execution_count": 219,
   "id": "0a33fff0-7300-4412-9af7-de7903aec8f0",
   "metadata": {
    "tags": []
   },
   "outputs": [],
   "source": [
    "def get_gen(N):\n",
    "    i = 0\n",
    "    while i < 30:\n",
    "        print(f\"{i} Before\")\n",
    "        yield i\n",
    "        print(f\"{i} after\")\n",
    "        i += 3"
   ]
  },
  {
   "cell_type": "code",
   "execution_count": 220,
   "id": "f126edb4-67e7-4878-9cd1-0f09cd89b86a",
   "metadata": {
    "tags": []
   },
   "outputs": [],
   "source": [
    "generator = get_gen(10)"
   ]
  },
  {
   "cell_type": "code",
   "execution_count": 226,
   "id": "b99285ce-11df-4617-88c9-a7a48b593ba9",
   "metadata": {
    "tags": []
   },
   "outputs": [
    {
     "name": "stdout",
     "output_type": "stream",
     "text": [
      "12 after\n",
      "15 Before\n",
      "value: 15\n"
     ]
    }
   ],
   "source": [
    "value = next(generator)\n",
    "print(f\"value: {value}\")"
   ]
  },
  {
   "cell_type": "code",
   "execution_count": 206,
   "id": "38f7dc82-7c42-445b-95de-5142dba008bc",
   "metadata": {
    "tags": []
   },
   "outputs": [
    {
     "name": "stdout",
     "output_type": "stream",
     "text": [
      "0 Before\n",
      "0\n",
      "0 after\n",
      "1 Before\n",
      "1\n",
      "1 after\n",
      "2 Before\n",
      "2\n",
      "2 after\n",
      "3 Before\n",
      "3\n",
      "3 after\n",
      "4 Before\n",
      "4\n",
      "4 after\n",
      "5 Before\n",
      "5\n",
      "5 after\n",
      "6 Before\n",
      "6\n",
      "6 after\n",
      "7 Before\n",
      "7\n",
      "7 after\n",
      "8 Before\n",
      "8\n",
      "8 after\n",
      "9 Before\n",
      "9\n",
      "9 after\n"
     ]
    }
   ],
   "source": [
    "for i in get_gen(10):\n",
    "    print(i)"
   ]
  },
  {
   "cell_type": "code",
   "execution_count": null,
   "id": "d321fd1f-84e5-44fb-83a4-234060dab4fa",
   "metadata": {},
   "outputs": [],
   "source": []
  },
  {
   "cell_type": "markdown",
   "id": "9cb1ac10-7cc1-409a-8b1c-5691a620b25b",
   "metadata": {},
   "source": [
    "# Свойства и представление тензоров"
   ]
  },
  {
   "cell_type": "code",
   "execution_count": 151,
   "id": "e9cd7e6b-6e56-48c0-a5b8-16fb6f4a084b",
   "metadata": {
    "tags": []
   },
   "outputs": [
    {
     "data": {
      "text/plain": [
       "array([0.1, 0.2, 0.3])"
      ]
     },
     "execution_count": 151,
     "metadata": {},
     "output_type": "execute_result"
    }
   ],
   "source": [
    "values = np.array([0.1, 0.2, 0.3], dtype='float64')\n",
    "values"
   ]
  },
  {
   "cell_type": "code",
   "execution_count": null,
   "id": "ee7d4907-a4cf-43a8-bd08-a77cef16d6fc",
   "metadata": {
    "tags": []
   },
   "outputs": [],
   "source": [
    "values.dtype"
   ]
  },
  {
   "cell_type": "code",
   "execution_count": null,
   "id": "d990ef1d-a06c-467e-ba20-1ddb25df71c4",
   "metadata": {
    "tags": []
   },
   "outputs": [],
   "source": [
    "values.dtype = np.int8()"
   ]
  },
  {
   "cell_type": "code",
   "execution_count": null,
   "id": "8596b6c1-b630-4762-b77a-cd0ee8730800",
   "metadata": {
    "tags": []
   },
   "outputs": [],
   "source": [
    "values"
   ]
  },
  {
   "cell_type": "code",
   "execution_count": null,
   "id": "815d8a72-10b9-4e7c-9539-b37be6747741",
   "metadata": {
    "tags": []
   },
   "outputs": [],
   "source": [
    "values.size"
   ]
  },
  {
   "cell_type": "code",
   "execution_count": null,
   "id": "76400975-0ec4-4633-8f03-bab1c1df23a7",
   "metadata": {
    "tags": []
   },
   "outputs": [],
   "source": [
    "values.dtype = np.float64()\n",
    "values"
   ]
  },
  {
   "cell_type": "code",
   "execution_count": null,
   "id": "810a5cc0-de7f-4fe9-9d3d-e257819bb8db",
   "metadata": {
    "tags": []
   },
   "outputs": [],
   "source": [
    "print(f\"{values.itemsize} byte for each element\")"
   ]
  },
  {
   "cell_type": "code",
   "execution_count": null,
   "id": "d95e3e84-7826-48f5-8744-f5228533b1bb",
   "metadata": {
    "tags": []
   },
   "outputs": [],
   "source": [
    "values.size * values.itemsize"
   ]
  },
  {
   "cell_type": "code",
   "execution_count": null,
   "id": "4f7c52b8-1ef1-456d-ad1c-a41501be43ab",
   "metadata": {
    "tags": []
   },
   "outputs": [],
   "source": [
    "values = np.ones((3, 2, 4))\n",
    "values"
   ]
  },
  {
   "cell_type": "code",
   "execution_count": null,
   "id": "a0f170b1-1f8e-4a0d-bafc-1ad4717a67f1",
   "metadata": {
    "tags": []
   },
   "outputs": [],
   "source": [
    "values.ndim"
   ]
  },
  {
   "cell_type": "code",
   "execution_count": null,
   "id": "e4cdc453-a64d-47ce-b697-5eb71333cd75",
   "metadata": {
    "tags": []
   },
   "outputs": [],
   "source": [
    "values.shape"
   ]
  },
  {
   "cell_type": "code",
   "execution_count": null,
   "id": "0ce3477c-a1cf-47cc-8a13-86df0e819bac",
   "metadata": {
    "tags": []
   },
   "outputs": [],
   "source": [
    "values.shape = 24\n",
    "values"
   ]
  },
  {
   "cell_type": "code",
   "execution_count": null,
   "id": "a9155a49-893e-4130-8093-6625612bfa7d",
   "metadata": {
    "tags": []
   },
   "outputs": [],
   "source": [
    "values.shape = (3, 8)\n",
    "values"
   ]
  },
  {
   "cell_type": "code",
   "execution_count": null,
   "id": "8b1714bc-9983-4dd5-aa4d-26c1b905b78d",
   "metadata": {},
   "outputs": [],
   "source": []
  },
  {
   "cell_type": "code",
   "execution_count": null,
   "id": "08ce37fe-517f-4be8-91f0-505f9f60d384",
   "metadata": {
    "tags": []
   },
   "outputs": [],
   "source": [
    "values.shape = (3, 2, 4)\n",
    "b = values.reshape((3,8))"
   ]
  },
  {
   "cell_type": "code",
   "execution_count": null,
   "id": "325fab46-42fa-46af-ac23-fd948734c531",
   "metadata": {
    "tags": []
   },
   "outputs": [],
   "source": [
    "values"
   ]
  },
  {
   "cell_type": "code",
   "execution_count": null,
   "id": "a3c7c596-7d9b-402b-bb9d-dc673713bd4d",
   "metadata": {
    "tags": []
   },
   "outputs": [],
   "source": [
    "b"
   ]
  },
  {
   "cell_type": "code",
   "execution_count": null,
   "id": "df9c8854-565c-474f-905e-97b6c5547098",
   "metadata": {
    "tags": []
   },
   "outputs": [],
   "source": [
    "id(values), id(b)"
   ]
  },
  {
   "cell_type": "code",
   "execution_count": null,
   "id": "2af60464-2e51-48ab-8848-8fc7f887222b",
   "metadata": {
    "tags": []
   },
   "outputs": [],
   "source": [
    "values[0,0,0] = 10"
   ]
  },
  {
   "cell_type": "code",
   "execution_count": null,
   "id": "975ab7c4-62c2-4247-9ee4-9e313130a181",
   "metadata": {
    "tags": []
   },
   "outputs": [],
   "source": [
    "values"
   ]
  },
  {
   "cell_type": "code",
   "execution_count": null,
   "id": "5012096d-a5d2-487e-8fd0-c3ef3ced80ac",
   "metadata": {
    "tags": []
   },
   "outputs": [],
   "source": [
    "b"
   ]
  },
  {
   "cell_type": "code",
   "execution_count": null,
   "id": "4729fa6f-e23d-486b-9bf4-c678f1d63aba",
   "metadata": {},
   "outputs": [],
   "source": []
  },
  {
   "cell_type": "code",
   "execution_count": null,
   "id": "23bbeceb-6ee9-4b98-b764-9a494dc65bfd",
   "metadata": {
    "tags": []
   },
   "outputs": [],
   "source": [
    "values = np.array([[1, 2, 3], [4, 5, 6], [7, 8, 9]])\n",
    "values"
   ]
  },
  {
   "cell_type": "code",
   "execution_count": null,
   "id": "335ddd3e-12d3-4e90-8f35-0a91ddb9dab2",
   "metadata": {
    "tags": []
   },
   "outputs": [],
   "source": [
    "b = values.T\n",
    "\n",
    "b"
   ]
  },
  {
   "cell_type": "code",
   "execution_count": null,
   "id": "3dcbb7ef-5e3b-425f-a1fe-896ce0b3440f",
   "metadata": {
    "tags": []
   },
   "outputs": [],
   "source": [
    "b[0,0] = -10"
   ]
  },
  {
   "cell_type": "code",
   "execution_count": null,
   "id": "a25ce3ad-351a-4a42-8cf8-a27e52e36742",
   "metadata": {
    "tags": []
   },
   "outputs": [],
   "source": [
    "b"
   ]
  },
  {
   "cell_type": "code",
   "execution_count": null,
   "id": "5088e99e-cc94-4e3b-9478-1c572711b3eb",
   "metadata": {
    "tags": []
   },
   "outputs": [],
   "source": [
    "values"
   ]
  },
  {
   "cell_type": "code",
   "execution_count": null,
   "id": "0e1b3345-2e70-4daa-8e0b-d497a9955f23",
   "metadata": {},
   "outputs": [],
   "source": []
  },
  {
   "cell_type": "code",
   "execution_count": null,
   "id": "e61ff1d6-992e-476a-9058-ed53fd460b64",
   "metadata": {
    "tags": []
   },
   "outputs": [],
   "source": [
    "values = np.array([[1,2], [3,4]])\n",
    "b = values.flatten()\n",
    "\n",
    "print(values)\n",
    "print()\n",
    "print(b)"
   ]
  },
  {
   "cell_type": "code",
   "execution_count": null,
   "id": "e95e0016-d36b-46b0-8d98-cf91d02f2e10",
   "metadata": {
    "tags": []
   },
   "outputs": [],
   "source": [
    "values[0,0] = -5"
   ]
  },
  {
   "cell_type": "code",
   "execution_count": null,
   "id": "5f176f18-8c5c-4bc7-8953-0c8c1e175779",
   "metadata": {
    "tags": []
   },
   "outputs": [],
   "source": [
    "print(values)\n",
    "print()\n",
    "print(b)"
   ]
  },
  {
   "cell_type": "code",
   "execution_count": null,
   "id": "5ddb6b17-b103-403d-b7c2-09c885c8b902",
   "metadata": {
    "tags": []
   },
   "outputs": [],
   "source": [
    "values = np.array([[1,2], [3,4]])\n",
    "values"
   ]
  },
  {
   "cell_type": "code",
   "execution_count": null,
   "id": "74dc7483-6ae0-4186-83e1-d81bcf597aed",
   "metadata": {
    "tags": []
   },
   "outputs": [],
   "source": [
    "b = values.view()"
   ]
  },
  {
   "cell_type": "code",
   "execution_count": null,
   "id": "48909148-53cb-45da-bfa8-5e90e27ff8c9",
   "metadata": {
    "tags": []
   },
   "outputs": [],
   "source": [
    "b"
   ]
  },
  {
   "cell_type": "code",
   "execution_count": null,
   "id": "53bab8a4-bc44-43b8-b58a-c93546500e01",
   "metadata": {
    "tags": []
   },
   "outputs": [],
   "source": [
    "values[0,0] = -5\n",
    "\n",
    "print(values)\n",
    "print()\n",
    "print(b)"
   ]
  },
  {
   "cell_type": "code",
   "execution_count": null,
   "id": "1dcabf97-4e6b-4924-a992-c5f83f26138c",
   "metadata": {},
   "outputs": [],
   "source": []
  },
  {
   "cell_type": "code",
   "execution_count": null,
   "id": "0b3a54b2-8fb4-42b7-8631-978ac1a02b43",
   "metadata": {
    "tags": []
   },
   "outputs": [],
   "source": [
    "values = np.array([[1,2], [3,4]])\n",
    "b = values\n",
    "\n",
    "values.shape = (4,)"
   ]
  },
  {
   "cell_type": "code",
   "execution_count": null,
   "id": "a26f2ff8-9554-4228-a1be-ff7d0a20b633",
   "metadata": {
    "tags": []
   },
   "outputs": [],
   "source": [
    "print(values)\n",
    "print(b)"
   ]
  },
  {
   "cell_type": "code",
   "execution_count": null,
   "id": "f93adce5-f43a-44b6-928f-c4eafeae5c86",
   "metadata": {
    "tags": []
   },
   "outputs": [],
   "source": [
    "values = np.array([[1,2], [3,4]])\n",
    "b = values.view()\n",
    "\n",
    "values.shape = (4,)"
   ]
  },
  {
   "cell_type": "code",
   "execution_count": null,
   "id": "4bc33460-7acb-4a89-b7ce-8008e5818106",
   "metadata": {
    "tags": []
   },
   "outputs": [],
   "source": [
    "values"
   ]
  },
  {
   "cell_type": "code",
   "execution_count": null,
   "id": "f3a55cfd-c4d6-42cc-9e31-ab4312a0d765",
   "metadata": {
    "tags": []
   },
   "outputs": [],
   "source": [
    "b"
   ]
  },
  {
   "cell_type": "code",
   "execution_count": null,
   "id": "9f2a3066-5e17-422f-b552-2377e829808f",
   "metadata": {},
   "outputs": [],
   "source": []
  },
  {
   "cell_type": "code",
   "execution_count": null,
   "id": "4dffe4a7-b068-45c0-9dc1-bd43b7ce8144",
   "metadata": {
    "tags": []
   },
   "outputs": [],
   "source": [
    "values = np.array([1,2,3,4])\n",
    "b = np.array(values)\n",
    "\n",
    "values[0] = -10\n",
    "\n",
    "print(values)\n",
    "print(b)"
   ]
  },
  {
   "cell_type": "code",
   "execution_count": null,
   "id": "a39c1bd2-6019-4cfa-ae34-2dcee6b93d88",
   "metadata": {
    "tags": []
   },
   "outputs": [],
   "source": [
    "values = np.array([1,2,3,4])\n",
    "b = np.copy(values)\n",
    "\n",
    "values[0] = -10\n",
    "\n",
    "print(values)\n",
    "print(b)"
   ]
  },
  {
   "cell_type": "code",
   "execution_count": null,
   "id": "10d94d4d-ccff-4698-b245-d8dd33bac136",
   "metadata": {
    "tags": []
   },
   "outputs": [],
   "source": [
    "values = np.array([1,2,3,4])\n",
    "b = values.copy()\n",
    "\n",
    "values[0] = -10\n",
    "\n",
    "print(values)\n",
    "print(b)"
   ]
  },
  {
   "cell_type": "markdown",
   "id": "dc7b7fb9-7e9e-4c07-b4a9-76b5effb6d5d",
   "metadata": {},
   "source": [
    "# Изменение формы массивов"
   ]
  },
  {
   "cell_type": "code",
   "execution_count": 2,
   "id": "91dcb40d-b0f7-42bc-aa4d-36ed9dadfc3d",
   "metadata": {
    "ExecuteTime": {
     "end_time": "2023-10-19T16:21:03.461166600Z",
     "start_time": "2023-10-19T16:21:02.301095400Z"
    }
   },
   "outputs": [
    {
     "data": {
      "text/plain": "array([0, 1, 2, 3, 4, 5, 6, 7, 8, 9])"
     },
     "execution_count": 2,
     "metadata": {},
     "output_type": "execute_result"
    }
   ],
   "source": [
    "import numpy as np\n",
    "a = np.arange(10)\n",
    "a"
   ]
  },
  {
   "cell_type": "code",
   "execution_count": 3,
   "id": "318f3283-2b4d-4a64-9818-53ee3cca2c28",
   "metadata": {
    "tags": [],
    "ExecuteTime": {
     "end_time": "2023-10-19T16:21:03.462696800Z",
     "start_time": "2023-10-19T16:21:02.497710100Z"
    }
   },
   "outputs": [
    {
     "data": {
      "text/plain": "array([[0, 1, 2, 3, 4],\n       [5, 6, 7, 8, 9]])"
     },
     "execution_count": 3,
     "metadata": {},
     "output_type": "execute_result"
    }
   ],
   "source": [
    "b = a.reshape(2,5)\n",
    "b"
   ]
  },
  {
   "cell_type": "code",
   "execution_count": 4,
   "id": "3f89bd16-6e15-4607-aea6-c2fda317b62c",
   "metadata": {
    "tags": [],
    "ExecuteTime": {
     "end_time": "2023-10-19T16:21:03.463721400Z",
     "start_time": "2023-10-19T16:21:02.501121500Z"
    }
   },
   "outputs": [
    {
     "data": {
      "text/plain": "array([0, 1, 2, 3, 4, 5, 6, 7, 8, 9])"
     },
     "execution_count": 4,
     "metadata": {},
     "output_type": "execute_result"
    }
   ],
   "source": [
    "a"
   ]
  },
  {
   "cell_type": "code",
   "execution_count": 5,
   "id": "6320bda8-baa6-4b21-9121-10d5b6af37c6",
   "metadata": {
    "tags": [],
    "ExecuteTime": {
     "end_time": "2023-10-19T16:21:03.463721400Z",
     "start_time": "2023-10-19T16:21:02.521282400Z"
    }
   },
   "outputs": [
    {
     "name": "stdout",
     "output_type": "stream",
     "text": [
      "[-3  1  2  3  4  5  6  7  8  9]\n",
      "\n",
      "[[-3  1  2  3  4]\n",
      " [ 5  6  7  8  9]]\n"
     ]
    }
   ],
   "source": [
    "a[0] = -3\n",
    "\n",
    "print(a)\n",
    "print()\n",
    "print(b)"
   ]
  },
  {
   "cell_type": "code",
   "execution_count": 6,
   "id": "ba863e21-63cb-4174-809f-267d439173d2",
   "metadata": {
    "tags": [],
    "ExecuteTime": {
     "end_time": "2023-10-19T16:21:03.464738400Z",
     "start_time": "2023-10-19T16:21:02.532587400Z"
    }
   },
   "outputs": [
    {
     "ename": "ValueError",
     "evalue": "cannot reshape array of size 10 into shape (9,)",
     "output_type": "error",
     "traceback": [
      "\u001B[1;31m---------------------------------------------------------------------------\u001B[0m",
      "\u001B[1;31mValueError\u001B[0m                                Traceback (most recent call last)",
      "Cell \u001B[1;32mIn[6], line 1\u001B[0m\n\u001B[1;32m----> 1\u001B[0m c \u001B[38;5;241m=\u001B[39m \u001B[43ma\u001B[49m\u001B[38;5;241;43m.\u001B[39;49m\u001B[43mreshape\u001B[49m\u001B[43m(\u001B[49m\u001B[38;5;241;43m9\u001B[39;49m\u001B[43m)\u001B[49m\n",
      "\u001B[1;31mValueError\u001B[0m: cannot reshape array of size 10 into shape (9,)"
     ]
    }
   ],
   "source": [
    "c = a.reshape(9)"
   ]
  },
  {
   "cell_type": "code",
   "execution_count": 7,
   "id": "e60907fe-25b7-448b-a6e7-d1c37a6e5505",
   "metadata": {
    "tags": [],
    "ExecuteTime": {
     "end_time": "2023-10-19T16:21:09.975043400Z",
     "start_time": "2023-10-19T16:21:09.434951800Z"
    }
   },
   "outputs": [
    {
     "ename": "ValueError",
     "evalue": "cannot reshape array of size 10 into shape (3,3)",
     "output_type": "error",
     "traceback": [
      "\u001B[1;31m---------------------------------------------------------------------------\u001B[0m",
      "\u001B[1;31mValueError\u001B[0m                                Traceback (most recent call last)",
      "Cell \u001B[1;32mIn[7], line 1\u001B[0m\n\u001B[1;32m----> 1\u001B[0m \u001B[43ma\u001B[49m\u001B[38;5;241;43m.\u001B[39;49m\u001B[43mshape\u001B[49m \u001B[38;5;241m=\u001B[39m (\u001B[38;5;241m3\u001B[39m,\u001B[38;5;241m3\u001B[39m)\n",
      "\u001B[1;31mValueError\u001B[0m: cannot reshape array of size 10 into shape (3,3)"
     ]
    }
   ],
   "source": [
    "a.shape = (3,3)"
   ]
  },
  {
   "cell_type": "code",
   "execution_count": 8,
   "id": "1bc73ed2-2433-4cc5-9864-f227e0dc6d38",
   "metadata": {
    "tags": [],
    "ExecuteTime": {
     "end_time": "2023-10-19T16:21:12.700173500Z",
     "start_time": "2023-10-19T16:21:12.484651900Z"
    }
   },
   "outputs": [
    {
     "data": {
      "text/plain": "array([[-3,  1],\n       [ 2,  3],\n       [ 4,  5],\n       [ 6,  7],\n       [ 8,  9]])"
     },
     "execution_count": 8,
     "metadata": {},
     "output_type": "execute_result"
    }
   ],
   "source": [
    "a.shape = (-1, 2)\n",
    "a"
   ]
  },
  {
   "cell_type": "code",
   "execution_count": 9,
   "id": "74e33028-bed6-41fd-8f24-671008948e40",
   "metadata": {
    "tags": [],
    "ExecuteTime": {
     "end_time": "2023-10-19T16:21:15.967382300Z",
     "start_time": "2023-10-19T16:21:15.832411Z"
    }
   },
   "outputs": [
    {
     "data": {
      "text/plain": "array([[-3,  1,  2,  3,  4],\n       [ 5,  6,  7,  8,  9]])"
     },
     "execution_count": 9,
     "metadata": {},
     "output_type": "execute_result"
    }
   ],
   "source": [
    "b.reshape(2, -1)"
   ]
  },
  {
   "cell_type": "code",
   "execution_count": 10,
   "id": "83caf289-5f17-4eef-9ec6-077dd18cdba2",
   "metadata": {
    "tags": [],
    "ExecuteTime": {
     "end_time": "2023-10-19T16:21:17.570615Z",
     "start_time": "2023-10-19T16:21:17.429907300Z"
    }
   },
   "outputs": [
    {
     "data": {
      "text/plain": "array([-3,  1,  2,  3,  4,  5,  6,  7,  8,  9])"
     },
     "execution_count": 10,
     "metadata": {},
     "output_type": "execute_result"
    }
   ],
   "source": [
    "a.ravel()"
   ]
  },
  {
   "cell_type": "code",
   "execution_count": null,
   "id": "de126a0c-16ef-4556-b8f9-6bf7dd473125",
   "metadata": {
    "tags": []
   },
   "outputs": [],
   "source": [
    "a.shape = -1\n",
    "\n",
    "a"
   ]
  },
  {
   "cell_type": "code",
   "execution_count": null,
   "id": "90c5f0f2-9624-412f-bebc-88ae4318af82",
   "metadata": {
    "tags": []
   },
   "outputs": [],
   "source": [
    "a.resize(2, 5)\n",
    "\n",
    "a"
   ]
  },
  {
   "cell_type": "code",
   "execution_count": null,
   "id": "8f0937b3-6126-4065-8abc-4533e64dbf80",
   "metadata": {
    "tags": []
   },
   "outputs": [],
   "source": [
    "a = np.arange(10)\n",
    "a.resize(3, 3, refcheck=False)"
   ]
  },
  {
   "cell_type": "code",
   "execution_count": null,
   "id": "1b90b0e3-2e74-4ca4-b0bf-f36c39685d9c",
   "metadata": {
    "tags": []
   },
   "outputs": [],
   "source": [
    "a"
   ]
  },
  {
   "cell_type": "code",
   "execution_count": null,
   "id": "c0ce7186-7f81-493d-8a1e-78d91e2fa51d",
   "metadata": {
    "tags": []
   },
   "outputs": [],
   "source": [
    "a.resize(4,5, refcheck=False)"
   ]
  },
  {
   "cell_type": "code",
   "execution_count": null,
   "id": "1c5f16d7-8342-4133-a9f9-f6923b9951f6",
   "metadata": {
    "tags": []
   },
   "outputs": [],
   "source": [
    "a"
   ]
  },
  {
   "cell_type": "code",
   "execution_count": null,
   "id": "19b1de80-ee00-4f4e-9093-81fad1a1f746",
   "metadata": {},
   "outputs": [],
   "source": []
  },
  {
   "cell_type": "code",
   "execution_count": null,
   "id": "3c818b58-5d3d-438d-8dc4-e5d628d9e216",
   "metadata": {
    "tags": []
   },
   "outputs": [],
   "source": [
    "a = np.arange(9).reshape((3,3))\n",
    "a"
   ]
  },
  {
   "cell_type": "code",
   "execution_count": null,
   "id": "371866fe-20bb-42cd-aed1-5903b1f76606",
   "metadata": {
    "tags": []
   },
   "outputs": [],
   "source": [
    "a.T"
   ]
  },
  {
   "cell_type": "code",
   "execution_count": null,
   "id": "9fe98f81-2bf9-4a32-a191-55292bcf2ad4",
   "metadata": {
    "tags": []
   },
   "outputs": [],
   "source": [
    "np.arange(10).T"
   ]
  },
  {
   "cell_type": "code",
   "execution_count": null,
   "id": "4658dde2-4186-4448-bd40-0fec38da763a",
   "metadata": {
    "tags": []
   },
   "outputs": [],
   "source": [
    "a = np.arange(10).reshape((1,-1))\n",
    "a"
   ]
  },
  {
   "cell_type": "code",
   "execution_count": null,
   "id": "001486a1-baa2-4350-b767-289278f395a2",
   "metadata": {
    "tags": []
   },
   "outputs": [],
   "source": [
    "a.T"
   ]
  },
  {
   "cell_type": "code",
   "execution_count": null,
   "id": "dc4ed608-9d0d-479c-8d76-ad6ee284964d",
   "metadata": {
    "tags": []
   },
   "outputs": [],
   "source": [
    "x = np.arange(32).reshape((8,2,2))\n",
    "x.shape"
   ]
  },
  {
   "cell_type": "code",
   "execution_count": null,
   "id": "aa09b260-3280-4095-9441-4c6e0f54d088",
   "metadata": {
    "tags": []
   },
   "outputs": [],
   "source": [
    "x4 = np.expand_dims(x, axis=0)\n",
    "x4.shape"
   ]
  },
  {
   "cell_type": "code",
   "execution_count": null,
   "id": "c4942e8c-78e5-4303-b18b-5fab280219b6",
   "metadata": {
    "tags": []
   },
   "outputs": [],
   "source": [
    "x4 = np.expand_dims(x, axis=1)\n",
    "x4.shape"
   ]
  },
  {
   "cell_type": "code",
   "execution_count": null,
   "id": "d62f61ac-4ad7-42e0-b7c9-561d3f9cddcc",
   "metadata": {
    "tags": []
   },
   "outputs": [],
   "source": [
    "x4 = np.expand_dims(x, axis=-1)\n",
    "x4.shape"
   ]
  },
  {
   "cell_type": "code",
   "execution_count": null,
   "id": "95991ca4-3a60-4e4a-bdc0-01c5c6bc0fab",
   "metadata": {
    "tags": []
   },
   "outputs": [],
   "source": [
    "x4 = x[None, :, :, :]\n",
    "x4.shape"
   ]
  },
  {
   "cell_type": "code",
   "execution_count": null,
   "id": "1e8b95e1-ad6d-4c3e-aa03-6134b39b81bb",
   "metadata": {
    "tags": []
   },
   "outputs": [],
   "source": [
    "x4 = x[:, :, None, :]\n",
    "x4.shape"
   ]
  },
  {
   "cell_type": "code",
   "execution_count": null,
   "id": "39c99980-037e-416f-8d0f-330cb7b2572c",
   "metadata": {
    "tags": []
   },
   "outputs": [],
   "source": [
    "x4 = x[None, :]\n",
    "x4.shape"
   ]
  },
  {
   "cell_type": "code",
   "execution_count": null,
   "id": "62fcd9c0-8133-434d-be7d-bbbd8a03440d",
   "metadata": {
    "tags": []
   },
   "outputs": [],
   "source": [
    "x4 = x[np.newaxis, :]\n",
    "x4.shape"
   ]
  },
  {
   "cell_type": "code",
   "execution_count": null,
   "id": "e7427d13-6462-491c-8823-04bf86c60b4b",
   "metadata": {
    "tags": []
   },
   "outputs": [],
   "source": [
    "x4 = x[:, np.newaxis, :]\n",
    "x4.shape"
   ]
  },
  {
   "cell_type": "code",
   "execution_count": null,
   "id": "f44b9062-2eb2-42d1-a6ca-c831d0c88af7",
   "metadata": {
    "tags": []
   },
   "outputs": [],
   "source": [
    "x4 = x[np.newaxis, :, np.newaxis, :]\n",
    "x4.shape"
   ]
  },
  {
   "cell_type": "code",
   "execution_count": null,
   "id": "05ac1f96-a3fe-4bfb-828f-2b1b4ac97dcd",
   "metadata": {},
   "outputs": [],
   "source": []
  },
  {
   "cell_type": "code",
   "execution_count": null,
   "id": "07c7ccfd-3cba-414d-a589-0f89602e2a4a",
   "metadata": {
    "tags": []
   },
   "outputs": [],
   "source": [
    "x4 = np.expand_dims(x, axis=0)\n",
    "x44 = np.append(x4, x4, axis=0)\n",
    "x44.shape"
   ]
  },
  {
   "cell_type": "code",
   "execution_count": null,
   "id": "79480cd0-17db-4f51-b0f2-808586d8d764",
   "metadata": {
    "tags": []
   },
   "outputs": [],
   "source": [
    "b = np.delete(x44, 0, axis=0)\n",
    "b.shape"
   ]
  },
  {
   "cell_type": "code",
   "execution_count": null,
   "id": "c9be30a4-7b11-4f32-ab05-7ceea7f99610",
   "metadata": {
    "tags": []
   },
   "outputs": [],
   "source": [
    "b.squeeze().shape"
   ]
  },
  {
   "cell_type": "code",
   "execution_count": null,
   "id": "50f57021-d2c0-47bf-a139-a33da146f15c",
   "metadata": {
    "tags": []
   },
   "outputs": [],
   "source": [
    "b.squeeze(axis=0).shape"
   ]
  },
  {
   "cell_type": "code",
   "execution_count": null,
   "id": "7f415bc3-ee95-4932-a882-92685427b758",
   "metadata": {
    "tags": []
   },
   "outputs": [],
   "source": [
    "b.squeeze(axis=1).shape"
   ]
  },
  {
   "cell_type": "code",
   "execution_count": null,
   "id": "4bc9da35-34b5-4276-a6b5-1d69a9524923",
   "metadata": {},
   "outputs": [],
   "source": []
  },
  {
   "cell_type": "markdown",
   "id": "0258f194-c08a-42a0-b5a8-101199b85e59",
   "metadata": {},
   "source": [
    "# Объединение и разделение массивов"
   ]
  },
  {
   "cell_type": "code",
   "execution_count": 11,
   "id": "820fd26b-49fb-4126-970e-039c0af6a0f7",
   "metadata": {
    "tags": [],
    "ExecuteTime": {
     "end_time": "2023-10-19T18:16:20.622602Z",
     "start_time": "2023-10-19T18:16:20.520509300Z"
    }
   },
   "outputs": [],
   "source": [
    "import numpy as np"
   ]
  },
  {
   "cell_type": "code",
   "execution_count": 12,
   "id": "21705fa7-db98-4c18-ae55-b672d5d04057",
   "metadata": {
    "tags": [],
    "ExecuteTime": {
     "end_time": "2023-10-19T18:16:21.756177700Z",
     "start_time": "2023-10-19T18:16:21.625369300Z"
    }
   },
   "outputs": [],
   "source": [
    "a = np.array([[1,2], [3,4]])\n",
    "b = np.array([[-1,-2], [-3,-4]])"
   ]
  },
  {
   "cell_type": "code",
   "execution_count": 13,
   "id": "33e00500-af9b-4ed5-b03c-153492dee6d7",
   "metadata": {
    "tags": [],
    "ExecuteTime": {
     "end_time": "2023-10-19T18:16:24.771930Z",
     "start_time": "2023-10-19T18:16:24.664050300Z"
    }
   },
   "outputs": [
    {
     "data": {
      "text/plain": "array([[ 1,  2],\n       [ 3,  4],\n       [-1, -2],\n       [-3, -4]])"
     },
     "execution_count": 13,
     "metadata": {},
     "output_type": "execute_result"
    }
   ],
   "source": [
    "np.vstack([a,b])"
   ]
  },
  {
   "cell_type": "code",
   "execution_count": 14,
   "id": "9912e498-ceb2-4926-8342-56d13926ece5",
   "metadata": {
    "tags": [],
    "ExecuteTime": {
     "end_time": "2023-10-19T18:16:32.891192700Z",
     "start_time": "2023-10-19T18:16:32.796797100Z"
    }
   },
   "outputs": [
    {
     "data": {
      "text/plain": "array([[ 1,  2, -1, -2],\n       [ 3,  4, -3, -4]])"
     },
     "execution_count": 14,
     "metadata": {},
     "output_type": "execute_result"
    }
   ],
   "source": [
    "np.hstack([a,b])"
   ]
  },
  {
   "cell_type": "code",
   "execution_count": 19,
   "id": "358fb522-be2b-40e2-a87c-6631d6d5ca40",
   "metadata": {
    "tags": [],
    "ExecuteTime": {
     "end_time": "2023-10-19T18:18:28.607506700Z",
     "start_time": "2023-10-19T18:18:28.509047800Z"
    }
   },
   "outputs": [
    {
     "data": {
      "text/plain": "(array([[[0., 1., 2., 3., 4.],\n         [5., 6., 7., 8., 9.]]]),\n array([[[10., 11., 12., 13., 14.],\n         [15., 16., 17., 18., 19.]]]))"
     },
     "execution_count": 19,
     "metadata": {},
     "output_type": "execute_result"
    }
   ],
   "source": [
    "a = np.fromiter(range(10), dtype='float').reshape(1,2,5)\n",
    "b = np.fromiter(range(10, 20), dtype='float').reshape(1,2,5)\n",
    "\n",
    "a, b"
   ]
  },
  {
   "cell_type": "code",
   "execution_count": 26,
   "id": "c8f50b89-b074-4c70-8d1c-027f443d075c",
   "metadata": {
    "tags": [],
    "ExecuteTime": {
     "end_time": "2023-10-19T18:20:34.542355900Z",
     "start_time": "2023-10-19T18:20:34.438194100Z"
    }
   },
   "outputs": [
    {
     "data": {
      "text/plain": "array([[[ 0.,  1.,  2.,  3.,  4.],\n        [ 5.,  6.,  7.,  8.,  9.]],\n\n       [[10., 11., 12., 13., 14.],\n        [15., 16., 17., 18., 19.]]])"
     },
     "execution_count": 26,
     "metadata": {},
     "output_type": "execute_result"
    }
   ],
   "source": [
    "np.vstack([a,b])"
   ]
  },
  {
   "cell_type": "code",
   "execution_count": 23,
   "id": "b2ba9f8c-ddd5-401d-aadf-bd3b7e47c72d",
   "metadata": {
    "tags": [],
    "ExecuteTime": {
     "end_time": "2023-10-19T18:19:32.193253500Z",
     "start_time": "2023-10-19T18:19:32.073586400Z"
    }
   },
   "outputs": [
    {
     "data": {
      "text/plain": "array([[[ 0.,  1.,  2.,  3.,  4.],\n        [ 5.,  6.,  7.,  8.,  9.],\n        [10., 11., 12., 13., 14.],\n        [15., 16., 17., 18., 19.]]])"
     },
     "execution_count": 23,
     "metadata": {},
     "output_type": "execute_result"
    }
   ],
   "source": [
    "np.hstack([a,b])"
   ]
  },
  {
   "cell_type": "code",
   "execution_count": null,
   "id": "85539714-eb42-4e59-9bbc-9ab554b69e74",
   "metadata": {},
   "outputs": [],
   "source": []
  },
  {
   "cell_type": "code",
   "execution_count": null,
   "id": "2cb583ed-3a48-4aa7-9ba0-aab566a66cdb",
   "metadata": {
    "tags": []
   },
   "outputs": [],
   "source": [
    "a = np.fromstring('1 2 3 4', sep=' ')\n",
    "b = np.fromstring('-1 -2 -3 -4', sep=' ')\n"
   ]
  },
  {
   "cell_type": "code",
   "execution_count": 24,
   "id": "ff0672ae-8c28-4de8-8a9a-be0fd20765fb",
   "metadata": {
    "tags": [],
    "ExecuteTime": {
     "end_time": "2023-10-19T18:20:05.858270400Z",
     "start_time": "2023-10-19T18:20:05.765099Z"
    }
   },
   "outputs": [
    {
     "data": {
      "text/plain": "array([[[ 0.,  1.,  2.,  3.,  4.],\n        [ 5.,  6.,  7.,  8.,  9.],\n        [10., 11., 12., 13., 14.],\n        [15., 16., 17., 18., 19.]]])"
     },
     "execution_count": 24,
     "metadata": {},
     "output_type": "execute_result"
    }
   ],
   "source": [
    "np.column_stack([a,b])"
   ]
  },
  {
   "cell_type": "code",
   "execution_count": 25,
   "id": "0f58046d-864d-4cc8-abb1-39539afb20f1",
   "metadata": {
    "tags": [],
    "ExecuteTime": {
     "end_time": "2023-10-19T18:20:19.627846400Z",
     "start_time": "2023-10-19T18:20:19.536541100Z"
    }
   },
   "outputs": [
    {
     "data": {
      "text/plain": "array([[[ 0.,  1.,  2.,  3.,  4.],\n        [ 5.,  6.,  7.,  8.,  9.]],\n\n       [[10., 11., 12., 13., 14.],\n        [15., 16., 17., 18., 19.]]])"
     },
     "execution_count": 25,
     "metadata": {},
     "output_type": "execute_result"
    }
   ],
   "source": [
    "np.row_stack([a,b])"
   ]
  },
  {
   "cell_type": "code",
   "execution_count": null,
   "id": "6d1784ed-7855-445b-a6c0-595b0aa1bdf6",
   "metadata": {},
   "outputs": [],
   "source": []
  },
  {
   "cell_type": "code",
   "execution_count": null,
   "id": "ee5377bd-b43a-4539-97b6-3cd620bdac19",
   "metadata": {
    "tags": []
   },
   "outputs": [],
   "source": [
    "a = np.fromiter(range(10), dtype='float').reshape(1,2,5)\n",
    "b = np.fromiter(range(10, 20), dtype='float').reshape(1,2,5)\n",
    "\n",
    "a.shape, b.shape"
   ]
  },
  {
   "cell_type": "code",
   "execution_count": null,
   "id": "69dce817-7f79-4763-b432-69757ddc6fe3",
   "metadata": {
    "tags": []
   },
   "outputs": [],
   "source": [
    "np.concatenate([a,b], axis=0).shape"
   ]
  },
  {
   "cell_type": "code",
   "execution_count": null,
   "id": "1d0929a3-3c0b-43b2-8db1-c8411f20b6c9",
   "metadata": {
    "tags": []
   },
   "outputs": [],
   "source": [
    "np.concatenate([a,b], axis=1).shape"
   ]
  },
  {
   "cell_type": "code",
   "execution_count": null,
   "id": "3d07b308-aaf6-446f-8a1a-4e009cd77be6",
   "metadata": {
    "tags": []
   },
   "outputs": [],
   "source": [
    "np.concatenate([a,b], axis=2).shape"
   ]
  },
  {
   "cell_type": "code",
   "execution_count": null,
   "id": "0786ccbd-4ada-4dfc-9107-d99507b635b0",
   "metadata": {},
   "outputs": [],
   "source": []
  },
  {
   "cell_type": "code",
   "execution_count": null,
   "id": "8408c278-4a39-429e-9cb7-74876d9f223b",
   "metadata": {
    "tags": []
   },
   "outputs": [],
   "source": [
    "np.r_[[1,2,3], 4]"
   ]
  },
  {
   "cell_type": "code",
   "execution_count": null,
   "id": "aae19581-6db4-462a-9456-08d175e404e1",
   "metadata": {
    "tags": []
   },
   "outputs": [],
   "source": [
    "np.r_[[[1,2,3], [1,2,3]], [[4,5,6]]]"
   ]
  },
  {
   "cell_type": "code",
   "execution_count": null,
   "id": "ce6d2568-d2d0-4af9-9fd1-5f265f1b85c8",
   "metadata": {
    "tags": []
   },
   "outputs": [],
   "source": [
    "np.c_[[[1,2,3]], [[4]]]"
   ]
  },
  {
   "cell_type": "code",
   "execution_count": null,
   "id": "ea026276-81f5-4a57-80ec-2802e1736171",
   "metadata": {
    "tags": []
   },
   "outputs": [],
   "source": [
    "np.c_[[[1,2,3]], [[4]]].shape"
   ]
  },
  {
   "cell_type": "code",
   "execution_count": null,
   "id": "70724415-5426-4759-8411-f5978c36edce",
   "metadata": {
    "tags": []
   },
   "outputs": [],
   "source": [
    "np.split(np.arange(10), 2)"
   ]
  },
  {
   "cell_type": "code",
   "execution_count": null,
   "id": "eadaf463-3f00-4ac3-aa74-495df1f28d22",
   "metadata": {
    "tags": []
   },
   "outputs": [],
   "source": [
    "np.split(np.arange(11), 2)"
   ]
  },
  {
   "cell_type": "code",
   "execution_count": null,
   "id": "041a399b-f5b3-4763-845d-c1d494bba624",
   "metadata": {},
   "outputs": [],
   "source": []
  },
  {
   "cell_type": "code",
   "execution_count": null,
   "id": "3f2678a1-91de-4f21-8cd4-712a4cb60592",
   "metadata": {
    "tags": []
   },
   "outputs": [],
   "source": [
    "a = np.fromiter(range(18), dtype='float').reshape(3,3,2)"
   ]
  },
  {
   "cell_type": "code",
   "execution_count": null,
   "id": "4852a7d0-786c-4142-a8f9-9525a1206abd",
   "metadata": {
    "tags": []
   },
   "outputs": [],
   "source": [
    "values = np.array_split(a, 2, axis=-1)\n",
    "\n",
    "values[0].shape, values[1].shape"
   ]
  },
  {
   "cell_type": "code",
   "execution_count": null,
   "id": "ec70c75f-466f-4db8-ba5c-334e1e7b55eb",
   "metadata": {},
   "outputs": [],
   "source": []
  },
  {
   "cell_type": "markdown",
   "id": "f9ac1be4-b063-403f-a6c3-53f455a6155f",
   "metadata": {},
   "source": [
    "# индексация, срезы, итерирование массивов"
   ]
  },
  {
   "cell_type": "code",
   "execution_count": null,
   "id": "1b88bc51-c872-40c1-a2ea-6e4a76592946",
   "metadata": {
    "tags": []
   },
   "outputs": [],
   "source": [
    "a = np.arange(12)"
   ]
  },
  {
   "cell_type": "code",
   "execution_count": null,
   "id": "48a5b680-55de-43aa-876d-27d454a1f2a1",
   "metadata": {
    "tags": []
   },
   "outputs": [],
   "source": [
    "a"
   ]
  },
  {
   "cell_type": "code",
   "execution_count": null,
   "id": "5aeac4a1-f076-4600-ac29-25ac4df32303",
   "metadata": {
    "tags": []
   },
   "outputs": [],
   "source": [
    "a[2]"
   ]
  },
  {
   "cell_type": "code",
   "execution_count": null,
   "id": "f8c41b9e-36c8-4ddd-b604-bed2096e5f8e",
   "metadata": {
    "tags": []
   },
   "outputs": [],
   "source": [
    "a[0]"
   ]
  },
  {
   "cell_type": "code",
   "execution_count": null,
   "id": "c188b5ea-ce22-44df-9f18-c973cb65b429",
   "metadata": {
    "tags": []
   },
   "outputs": [],
   "source": [
    "a[-1]"
   ]
  },
  {
   "cell_type": "code",
   "execution_count": null,
   "id": "e65b07b9-a2fb-4afd-83d9-eb008c1013e9",
   "metadata": {
    "tags": []
   },
   "outputs": [],
   "source": [
    "a[-2]"
   ]
  },
  {
   "cell_type": "code",
   "execution_count": null,
   "id": "35300fd8-03c2-4add-891e-96b55a7a524a",
   "metadata": {
    "tags": []
   },
   "outputs": [],
   "source": [
    "a[100]"
   ]
  },
  {
   "cell_type": "code",
   "execution_count": null,
   "id": "a64b910d-f7ce-4394-9e66-3557c8a3f329",
   "metadata": {
    "tags": []
   },
   "outputs": [],
   "source": [
    "a[0] = 100\n",
    "\n",
    "a"
   ]
  },
  {
   "cell_type": "code",
   "execution_count": null,
   "id": "934c074e-f7ad-4685-849b-f28cd22378d6",
   "metadata": {
    "tags": []
   },
   "outputs": [],
   "source": [
    "a[1:3]"
   ]
  },
  {
   "cell_type": "code",
   "execution_count": null,
   "id": "7f593dc2-bd05-4bb0-bc7e-380f3fe935de",
   "metadata": {
    "tags": []
   },
   "outputs": [],
   "source": [
    "b = a[1:3]\n",
    "b"
   ]
  },
  {
   "cell_type": "code",
   "execution_count": null,
   "id": "4596cd8e-3349-45cb-a765-67858dad6595",
   "metadata": {
    "tags": []
   },
   "outputs": [],
   "source": [
    "b[0]= -100"
   ]
  },
  {
   "cell_type": "code",
   "execution_count": null,
   "id": "88d59d1c-2cd9-4543-aee0-8b7f192180ab",
   "metadata": {
    "tags": []
   },
   "outputs": [],
   "source": [
    "b"
   ]
  },
  {
   "cell_type": "code",
   "execution_count": null,
   "id": "4eb60d33-179d-4e4c-9e3f-d4e3ac833bf9",
   "metadata": {
    "tags": []
   },
   "outputs": [],
   "source": [
    "a"
   ]
  },
  {
   "cell_type": "code",
   "execution_count": null,
   "id": "e2e9c9f5-31e8-40f4-ae59-79f4182920a3",
   "metadata": {
    "tags": []
   },
   "outputs": [],
   "source": [
    "a[3:]"
   ]
  },
  {
   "cell_type": "code",
   "execution_count": null,
   "id": "2eeb92ec-90c8-4aeb-8c59-ee4183cbb58b",
   "metadata": {
    "tags": []
   },
   "outputs": [],
   "source": [
    "a[4:-1]"
   ]
  },
  {
   "cell_type": "code",
   "execution_count": null,
   "id": "8719c1fb-f266-4338-a439-261d98c5c75b",
   "metadata": {
    "tags": []
   },
   "outputs": [],
   "source": [
    "a[1:6:2]"
   ]
  },
  {
   "cell_type": "code",
   "execution_count": null,
   "id": "beccad0f-4199-4be5-b612-38aa8d79f106",
   "metadata": {
    "tags": []
   },
   "outputs": [],
   "source": [
    "a[::2]"
   ]
  },
  {
   "cell_type": "code",
   "execution_count": null,
   "id": "1a7d1a3e-1a66-4e6e-b876-108732f7c867",
   "metadata": {
    "tags": []
   },
   "outputs": [],
   "source": [
    "a[::-1]"
   ]
  },
  {
   "cell_type": "code",
   "execution_count": null,
   "id": "80151ffd-9521-49ed-9af1-c3479bbc9de7",
   "metadata": {
    "tags": []
   },
   "outputs": [],
   "source": [
    "a[:4] = [-1,-2,-3,-4]\n",
    "a"
   ]
  },
  {
   "cell_type": "code",
   "execution_count": null,
   "id": "9bdb1bef-7a7c-49df-b165-b10f316b15af",
   "metadata": {
    "tags": []
   },
   "outputs": [],
   "source": [
    "for el in a:\n",
    "    print(el ,end=' ', sep=' ')"
   ]
  },
  {
   "cell_type": "code",
   "execution_count": null,
   "id": "86d2ee4f-797e-4b0b-b790-dc9a3825f7ce",
   "metadata": {
    "tags": []
   },
   "outputs": [],
   "source": [
    "[el/2 for el in a]"
   ]
  },
  {
   "cell_type": "code",
   "execution_count": null,
   "id": "6218c15d-4370-4c02-a149-548f9cfa67e7",
   "metadata": {},
   "outputs": [],
   "source": []
  },
  {
   "cell_type": "code",
   "execution_count": null,
   "id": "9c25ad10-3f2d-4e17-b50f-e4d25263d175",
   "metadata": {
    "tags": []
   },
   "outputs": [],
   "source": [
    "x = np.array([[1,2,3], [10, 20, 30], [100,200,300]])\n",
    "x"
   ]
  },
  {
   "cell_type": "code",
   "execution_count": null,
   "id": "d74831e8-27ff-410f-8cda-0a16c4d57ba2",
   "metadata": {
    "tags": []
   },
   "outputs": [],
   "source": [
    "x[1,1]"
   ]
  },
  {
   "cell_type": "code",
   "execution_count": null,
   "id": "1ddadaeb-fbeb-4d0b-a37a-d989d3d15da0",
   "metadata": {
    "tags": []
   },
   "outputs": [],
   "source": [
    "x[-1,-1]"
   ]
  },
  {
   "cell_type": "code",
   "execution_count": null,
   "id": "eef34dd5-1f79-4d1d-881a-f2633ac5e559",
   "metadata": {
    "tags": []
   },
   "outputs": [],
   "source": [
    "x[0]"
   ]
  },
  {
   "cell_type": "code",
   "execution_count": null,
   "id": "79155b49-422e-4ec3-8525-5546373f5080",
   "metadata": {
    "tags": []
   },
   "outputs": [],
   "source": [
    "x[:, 1]"
   ]
  },
  {
   "cell_type": "code",
   "execution_count": null,
   "id": "ffe3b410-b945-42a3-ad3c-dac9b9d49d69",
   "metadata": {
    "tags": []
   },
   "outputs": [],
   "source": [
    "for row in x:\n",
    "    for val in row:\n",
    "        print(val, end=\" \")\n",
    "    print()"
   ]
  },
  {
   "cell_type": "code",
   "execution_count": null,
   "id": "c8ef2fcb-f32c-4d09-b216-02ff54d9d42c",
   "metadata": {},
   "outputs": [],
   "source": [
    "for el in x.flat:\n",
    "    print(el, end=\" \")"
   ]
  },
  {
   "cell_type": "code",
   "execution_count": null,
   "id": "29400717-eca3-4646-aa20-4a93045e3e31",
   "metadata": {},
   "outputs": [],
   "source": []
  },
  {
   "cell_type": "code",
   "execution_count": null,
   "id": "69b1f6ca-7b02-4feb-bef6-cf77370cbef6",
   "metadata": {
    "tags": []
   },
   "outputs": [],
   "source": [
    "a = np.arange(1, 82).reshape(3,3,3,3)\n",
    "a.shape"
   ]
  },
  {
   "cell_type": "code",
   "execution_count": null,
   "id": "b0866d1d-64b7-49ec-8509-235da804a567",
   "metadata": {
    "tags": []
   },
   "outputs": [],
   "source": [
    "a[1,2,0,1]"
   ]
  },
  {
   "cell_type": "code",
   "execution_count": null,
   "id": "264cd947-6b4c-4b28-ba68-de159911ad1b",
   "metadata": {},
   "outputs": [],
   "source": []
  },
  {
   "cell_type": "code",
   "execution_count": null,
   "id": "c996f121-a100-4cf0-aa00-3a41f7c9a91a",
   "metadata": {
    "tags": []
   },
   "outputs": [],
   "source": [
    "a = np.arange(10, 20)\n",
    "a"
   ]
  },
  {
   "cell_type": "code",
   "execution_count": null,
   "id": "7acac8db-f800-4f44-910d-69ac6419f249",
   "metadata": {
    "tags": []
   },
   "outputs": [],
   "source": [
    "a[[0, 3, 4]]"
   ]
  },
  {
   "cell_type": "code",
   "execution_count": null,
   "id": "de07b846-da36-4821-821c-f99644c249ce",
   "metadata": {
    "tags": []
   },
   "outputs": [],
   "source": [
    "b = a[[0, 3, 4]]\n",
    "b"
   ]
  },
  {
   "cell_type": "code",
   "execution_count": null,
   "id": "67acd5f4-a97c-44f3-b441-f351fa506a28",
   "metadata": {
    "tags": []
   },
   "outputs": [],
   "source": [
    "b[0] = -100\n",
    "\n",
    "b"
   ]
  },
  {
   "cell_type": "code",
   "execution_count": null,
   "id": "5bf1c499-2231-4f90-82d7-3f880dd34ee2",
   "metadata": {
    "tags": []
   },
   "outputs": [],
   "source": [
    "a"
   ]
  },
  {
   "cell_type": "code",
   "execution_count": null,
   "id": "b944c93c-30d6-4b5d-913b-525d9877dfc6",
   "metadata": {},
   "outputs": [],
   "source": []
  },
  {
   "cell_type": "code",
   "execution_count": null,
   "id": "b85ecaac-8dbc-4cd2-a570-1a0b2ad64da3",
   "metadata": {
    "tags": []
   },
   "outputs": [],
   "source": [
    "a[[0, 3, 9]] = -1\n",
    "\n",
    "a"
   ]
  },
  {
   "cell_type": "code",
   "execution_count": null,
   "id": "f09a327b-5d87-467e-a8cd-301fa8db18e3",
   "metadata": {},
   "outputs": [],
   "source": []
  },
  {
   "cell_type": "code",
   "execution_count": null,
   "id": "c728d20e-910c-4bee-8d74-f96304a2ea2a",
   "metadata": {
    "tags": []
   },
   "outputs": [],
   "source": [
    "indx = [0, 1, 9]\n",
    "\n",
    "a[indx]"
   ]
  },
  {
   "cell_type": "code",
   "execution_count": null,
   "id": "19c3a78f-0b7e-410e-88f2-997667ec0c8a",
   "metadata": {},
   "outputs": [],
   "source": []
  },
  {
   "cell_type": "code",
   "execution_count": null,
   "id": "7ace60c7-370a-47dd-b135-9958cf3171f2",
   "metadata": {
    "tags": []
   },
   "outputs": [],
   "source": [
    "print(a)\n",
    "a[[True, False, False, True, False, False, False, False, False, False]]"
   ]
  },
  {
   "cell_type": "code",
   "execution_count": null,
   "id": "5f68aca0-3f9d-4976-882f-df0a6827c144",
   "metadata": {},
   "outputs": [],
   "source": []
  },
  {
   "cell_type": "code",
   "execution_count": null,
   "id": "5934c571-a3fe-48a8-b3e3-4b82fa7692f3",
   "metadata": {
    "tags": []
   },
   "outputs": [],
   "source": [
    "print(a > 5)\n",
    "a[a > 5]"
   ]
  },
  {
   "cell_type": "code",
   "execution_count": null,
   "id": "eb5a451e-3db3-43f8-9ea9-468a991877c7",
   "metadata": {},
   "outputs": [],
   "source": []
  },
  {
   "cell_type": "markdown",
   "id": "2824f52e-05e6-40a5-b7c5-dd250699ae28",
   "metadata": {},
   "source": [
    "# Базовые математические операции"
   ]
  },
  {
   "cell_type": "code",
   "execution_count": null,
   "id": "9846c479-b26d-4df0-89c6-8f4e56d723e1",
   "metadata": {
    "tags": []
   },
   "outputs": [],
   "source": [
    "lst = [1,2,3]\n",
    "a = np.array([1,2,3])"
   ]
  },
  {
   "cell_type": "code",
   "execution_count": null,
   "id": "136e65cb-5ad9-4bd4-bee7-5387fd2bb357",
   "metadata": {
    "tags": []
   },
   "outputs": [],
   "source": [
    "lst * 2"
   ]
  },
  {
   "cell_type": "code",
   "execution_count": null,
   "id": "152556b6-6023-4403-8469-82989d5cecd8",
   "metadata": {
    "tags": []
   },
   "outputs": [],
   "source": [
    "a * 2"
   ]
  },
  {
   "cell_type": "code",
   "execution_count": null,
   "id": "6b82fe49-29d3-4539-a75c-ad6ae09029eb",
   "metadata": {
    "tags": []
   },
   "outputs": [],
   "source": [
    "-a "
   ]
  },
  {
   "cell_type": "code",
   "execution_count": null,
   "id": "3ece3256-7f9c-4abd-b27a-b633827a1dcb",
   "metadata": {
    "tags": []
   },
   "outputs": [],
   "source": [
    "a - 3"
   ]
  },
  {
   "cell_type": "code",
   "execution_count": null,
   "id": "e5f9984d-f354-45bb-867a-b30d51084512",
   "metadata": {
    "tags": []
   },
   "outputs": [],
   "source": [
    "a + 2"
   ]
  },
  {
   "cell_type": "code",
   "execution_count": null,
   "id": "caeaee16-5ee5-4718-a15f-b4216cddb065",
   "metadata": {
    "tags": []
   },
   "outputs": [],
   "source": [
    "2 + a"
   ]
  },
  {
   "cell_type": "code",
   "execution_count": null,
   "id": "18b7f8ec-95c1-4b3c-bacb-ad2b140b69ef",
   "metadata": {
    "tags": []
   },
   "outputs": [],
   "source": [
    "a * 5"
   ]
  },
  {
   "cell_type": "code",
   "execution_count": null,
   "id": "70937a33-9dac-4835-8c65-54c2c0925849",
   "metadata": {
    "tags": []
   },
   "outputs": [],
   "source": [
    "a / 5"
   ]
  },
  {
   "cell_type": "code",
   "execution_count": null,
   "id": "0dc66f97-7f81-4015-bf66-68766457ea3b",
   "metadata": {
    "tags": []
   },
   "outputs": [],
   "source": [
    "a // 2"
   ]
  },
  {
   "cell_type": "code",
   "execution_count": null,
   "id": "b4c72c40-47cc-43e5-9ee8-4e975dab85ed",
   "metadata": {
    "tags": []
   },
   "outputs": [],
   "source": [
    "a ** 2"
   ]
  },
  {
   "cell_type": "code",
   "execution_count": null,
   "id": "5b87e09b-b12e-465b-b603-9b32c53b2487",
   "metadata": {
    "tags": []
   },
   "outputs": [],
   "source": [
    "a % 2"
   ]
  },
  {
   "cell_type": "code",
   "execution_count": null,
   "id": "6061bf8c-edb3-42ff-ba0c-78fc99241a70",
   "metadata": {
    "tags": []
   },
   "outputs": [],
   "source": [
    "b = np.array([3,4,5])"
   ]
  },
  {
   "cell_type": "code",
   "execution_count": null,
   "id": "a86a044b-7fb2-4427-8044-9e7871d52e0c",
   "metadata": {
    "tags": []
   },
   "outputs": [],
   "source": [
    "a - b"
   ]
  },
  {
   "cell_type": "code",
   "execution_count": null,
   "id": "e61320e3-7782-4e2b-b3f1-d2b707e7279e",
   "metadata": {
    "tags": []
   },
   "outputs": [],
   "source": [
    "a + b, b + a"
   ]
  },
  {
   "cell_type": "code",
   "execution_count": null,
   "id": "f50ff526-23e5-4713-9782-1a4e5492f345",
   "metadata": {
    "tags": []
   },
   "outputs": [],
   "source": [
    "a * b, b * a"
   ]
  },
  {
   "cell_type": "code",
   "execution_count": null,
   "id": "ab848bb9-8a8b-48c7-8136-e32aee58d307",
   "metadata": {
    "tags": []
   },
   "outputs": [],
   "source": [
    "a / b"
   ]
  },
  {
   "cell_type": "code",
   "execution_count": null,
   "id": "87ff94df-b795-40e2-8206-85644e7d04d3",
   "metadata": {
    "tags": []
   },
   "outputs": [],
   "source": [
    "b ** a"
   ]
  },
  {
   "cell_type": "code",
   "execution_count": null,
   "id": "398b23a0-7f66-433f-838f-106e3b3c5786",
   "metadata": {
    "tags": []
   },
   "outputs": [],
   "source": [
    "b = np.array([3,4,5,6])"
   ]
  },
  {
   "cell_type": "code",
   "execution_count": null,
   "id": "2d614da4-af69-49c9-a5a7-f44573144463",
   "metadata": {
    "tags": []
   },
   "outputs": [],
   "source": [
    "a + b"
   ]
  },
  {
   "cell_type": "code",
   "execution_count": null,
   "id": "64acfdd0-4163-4bd7-ac71-01921ef77168",
   "metadata": {},
   "outputs": [],
   "source": []
  },
  {
   "cell_type": "code",
   "execution_count": null,
   "id": "42544b81-7cda-4d9f-8798-72a8d589b96a",
   "metadata": {
    "tags": []
   },
   "outputs": [],
   "source": [
    "b = np.arange(1, 7).reshape(2,3)\n",
    "b"
   ]
  },
  {
   "cell_type": "code",
   "execution_count": null,
   "id": "aa6f7c3c-5528-4225-ab61-9a58a18ae500",
   "metadata": {
    "tags": []
   },
   "outputs": [],
   "source": [
    "a + b"
   ]
  },
  {
   "cell_type": "code",
   "execution_count": null,
   "id": "957a8110-7431-4dfb-8843-8f7412feb870",
   "metadata": {},
   "outputs": [],
   "source": []
  },
  {
   "cell_type": "code",
   "execution_count": null,
   "id": "3b25d173-91ad-46d4-b8f2-16b6a04093d2",
   "metadata": {
    "tags": []
   },
   "outputs": [],
   "source": [
    "a = np.arange(1, 19).reshape(3, 3, 2)\n",
    "b = np.ones((3,2))"
   ]
  },
  {
   "cell_type": "code",
   "execution_count": null,
   "id": "a0a413a0-961e-496e-9c32-0a7287c7c874",
   "metadata": {
    "tags": []
   },
   "outputs": [],
   "source": [
    "a - b"
   ]
  },
  {
   "cell_type": "code",
   "execution_count": null,
   "id": "9df6d511-f839-4e0e-bab2-9e12cb87de29",
   "metadata": {
    "tags": []
   },
   "outputs": [],
   "source": [
    "(a - b).shape"
   ]
  },
  {
   "cell_type": "code",
   "execution_count": null,
   "id": "daf67017-ac76-4eb4-93f9-da153853c481",
   "metadata": {},
   "outputs": [],
   "source": []
  },
  {
   "cell_type": "code",
   "execution_count": null,
   "id": "128b509e-a2e6-4d36-8ca8-0d8815761fbe",
   "metadata": {
    "tags": []
   },
   "outputs": [],
   "source": [
    "a = np.array([1,2,3,4])\n",
    "a"
   ]
  },
  {
   "cell_type": "code",
   "execution_count": null,
   "id": "a4de7793-f18e-443b-bbe3-6367ea69f463",
   "metadata": {
    "tags": []
   },
   "outputs": [],
   "source": [
    "a += 4\n",
    "a"
   ]
  },
  {
   "cell_type": "code",
   "execution_count": null,
   "id": "909013be-509a-4bb2-a77e-3fa1081a5b46",
   "metadata": {},
   "outputs": [],
   "source": []
  },
  {
   "cell_type": "code",
   "execution_count": null,
   "id": "b8455d71-a469-4b67-8f32-3164d2d32f29",
   "metadata": {
    "tags": []
   },
   "outputs": [],
   "source": [
    "a = np.array([1,2,3,4])\n",
    "b = np.array([0.2, 0.3,0.4, 0.5])\n",
    "\n",
    "a, b"
   ]
  },
  {
   "cell_type": "code",
   "execution_count": null,
   "id": "9b6e2a85-37b9-43c9-b3d9-58691e25b348",
   "metadata": {
    "tags": []
   },
   "outputs": [],
   "source": [
    "a + b"
   ]
  },
  {
   "cell_type": "code",
   "execution_count": null,
   "id": "3cc5225c-7a92-426c-a99a-41985168bb0a",
   "metadata": {
    "tags": []
   },
   "outputs": [],
   "source": [
    "a += b"
   ]
  },
  {
   "cell_type": "code",
   "execution_count": null,
   "id": "3a6233db-2408-4ef5-88ee-b6b62dd35f8d",
   "metadata": {},
   "outputs": [],
   "source": []
  },
  {
   "cell_type": "markdown",
   "id": "5727323b-5102-4ad7-8956-79c54304916d",
   "metadata": {},
   "source": [
    "# Булевы операции и функции, inf, nan"
   ]
  },
  {
   "cell_type": "code",
   "execution_count": null,
   "id": "ea154160-25b8-48db-a010-dfa04b9285ad",
   "metadata": {},
   "outputs": [],
   "source": [
    "a = np.array([1,2,3,10,20,30])\n",
    "a"
   ]
  },
  {
   "cell_type": "code",
   "execution_count": null,
   "id": "deadacc6-d21b-434b-830f-a705c0536991",
   "metadata": {
    "tags": []
   },
   "outputs": [],
   "source": [
    "a[a > 5]"
   ]
  },
  {
   "cell_type": "code",
   "execution_count": null,
   "id": "b8bad073-90a1-44ce-a36c-d833ed46862a",
   "metadata": {
    "tags": []
   },
   "outputs": [],
   "source": [
    "a > 5"
   ]
  },
  {
   "cell_type": "code",
   "execution_count": null,
   "id": "8e7a886f-39f5-4fd3-a374-83d794cebcbe",
   "metadata": {
    "tags": []
   },
   "outputs": [],
   "source": [
    "b = np.array([1,2,3,4,5,6])\n",
    "b"
   ]
  },
  {
   "cell_type": "code",
   "execution_count": null,
   "id": "57bcbbfa-a920-48b5-bfd1-edb773e65255",
   "metadata": {
    "tags": []
   },
   "outputs": [],
   "source": [
    "a == b"
   ]
  },
  {
   "cell_type": "code",
   "execution_count": null,
   "id": "b07a4d53-8b57-49e0-8c84-29e781566881",
   "metadata": {
    "tags": []
   },
   "outputs": [],
   "source": [
    "a != b"
   ]
  },
  {
   "cell_type": "code",
   "execution_count": null,
   "id": "4b6f2e0e-0229-4a63-917a-6c2f344c60ff",
   "metadata": {
    "tags": []
   },
   "outputs": [],
   "source": [
    "a != 2 "
   ]
  },
  {
   "cell_type": "code",
   "execution_count": null,
   "id": "e33473cb-981b-43de-9f2e-935be9233c85",
   "metadata": {
    "tags": []
   },
   "outputs": [],
   "source": [
    "np.greater(a, b)"
   ]
  },
  {
   "cell_type": "code",
   "execution_count": null,
   "id": "89b87729-9d79-4d87-a8de-4e751957cd7a",
   "metadata": {
    "tags": []
   },
   "outputs": [],
   "source": [
    "np.equal(a, b)"
   ]
  },
  {
   "cell_type": "code",
   "execution_count": null,
   "id": "0a6f37e0-93d3-4e8f-9ee6-a2271492f7cf",
   "metadata": {
    "tags": []
   },
   "outputs": [],
   "source": [
    "if (a == b): print(\"Wow\")"
   ]
  },
  {
   "cell_type": "code",
   "execution_count": null,
   "id": "ffd15ddb-095b-4da7-abb2-39323129f634",
   "metadata": {
    "tags": []
   },
   "outputs": [],
   "source": [
    "a == b"
   ]
  },
  {
   "cell_type": "code",
   "execution_count": null,
   "id": "21d6540e-fc43-4d14-9926-6ca7715c6753",
   "metadata": {
    "tags": []
   },
   "outputs": [],
   "source": [
    "res = \"Wow\" if np.array_equal(a,b) else \"Yeah\"\n",
    "res"
   ]
  },
  {
   "cell_type": "code",
   "execution_count": null,
   "id": "7bba13a1-0c14-4868-aeb7-bd44b04aeec9",
   "metadata": {
    "tags": []
   },
   "outputs": [],
   "source": [
    "res = \"Wow\" if np.all(a == b) else \"Yeah\"\n",
    "res"
   ]
  },
  {
   "cell_type": "code",
   "execution_count": null,
   "id": "9f25a277-5313-4094-996a-9e5b98f41b4c",
   "metadata": {
    "tags": []
   },
   "outputs": [],
   "source": [
    "res = \"Wow\" if np.any(a == b) else \"Yeah\"\n",
    "res"
   ]
  },
  {
   "cell_type": "code",
   "execution_count": null,
   "id": "dd49fd72-89d5-4a03-b15f-a47eacf9a2da",
   "metadata": {
    "tags": []
   },
   "outputs": [],
   "source": [
    "res = \"Wow\" if all(a == b) else \"Yeah\"\n",
    "res"
   ]
  },
  {
   "cell_type": "code",
   "execution_count": null,
   "id": "ae833ed0-f9a7-4a79-98c7-1b3501644dbc",
   "metadata": {
    "tags": []
   },
   "outputs": [],
   "source": [
    "res = \"Wow\" if any(a == b) else \"Yeah\"\n",
    "res"
   ]
  },
  {
   "cell_type": "code",
   "execution_count": null,
   "id": "0ea72be6-6cee-4a81-a930-4b979028b302",
   "metadata": {},
   "outputs": [],
   "source": []
  },
  {
   "cell_type": "code",
   "execution_count": null,
   "id": "6532cbe2-fdb6-49a7-87d2-3a2e191de6d0",
   "metadata": {
    "tags": []
   },
   "outputs": [],
   "source": [
    "a / 0"
   ]
  },
  {
   "cell_type": "code",
   "execution_count": null,
   "id": "149f4bda-2daa-4864-a82f-aa9ca0bb2e76",
   "metadata": {
    "tags": []
   },
   "outputs": [],
   "source": [
    "b = np.array([1,2, np.inf])\n",
    "b"
   ]
  },
  {
   "cell_type": "code",
   "execution_count": null,
   "id": "b4709bcf-02a4-4bb2-aee2-734e61e96495",
   "metadata": {
    "tags": []
   },
   "outputs": [],
   "source": [
    "b * 0"
   ]
  },
  {
   "cell_type": "code",
   "execution_count": null,
   "id": "d0fd2339-1cb0-48b9-bfd6-07bf11752310",
   "metadata": {
    "tags": []
   },
   "outputs": [],
   "source": [
    "(b * 0).sum()"
   ]
  },
  {
   "cell_type": "code",
   "execution_count": null,
   "id": "7059545a-fdf1-41b1-a392-10f683f3f0e7",
   "metadata": {
    "tags": []
   },
   "outputs": [],
   "source": [
    "b = np.array([1,2, np.nan, np.inf, -np.inf])\n",
    "b"
   ]
  },
  {
   "cell_type": "code",
   "execution_count": null,
   "id": "a505de9a-eaa6-4f4e-bb00-c1bda4f5b6e9",
   "metadata": {
    "tags": []
   },
   "outputs": [],
   "source": [
    "np.isinf(b)"
   ]
  },
  {
   "cell_type": "code",
   "execution_count": null,
   "id": "e6a770e0-a133-4de9-883f-dfcee606a889",
   "metadata": {
    "tags": []
   },
   "outputs": [],
   "source": [
    "np.isnan(b)"
   ]
  },
  {
   "cell_type": "code",
   "execution_count": null,
   "id": "d3430567-12b7-41b9-911b-b078015faee1",
   "metadata": {
    "tags": []
   },
   "outputs": [],
   "source": [
    "b[np.isinf(b)]"
   ]
  },
  {
   "cell_type": "code",
   "execution_count": null,
   "id": "de7696b4-7d90-4f13-94d6-862e707a2b6c",
   "metadata": {
    "tags": []
   },
   "outputs": [],
   "source": [
    "b[~np.isinf(b)]"
   ]
  },
  {
   "cell_type": "code",
   "execution_count": null,
   "id": "ea88f918-ab1c-43c0-8307-d5094d8635eb",
   "metadata": {
    "tags": []
   },
   "outputs": [],
   "source": [
    "np.isfinite(b), b[np.isfinite(b)]"
   ]
  },
  {
   "cell_type": "code",
   "execution_count": null,
   "id": "480898a2-4508-4484-9ef9-c64241543e5c",
   "metadata": {
    "tags": []
   },
   "outputs": [],
   "source": [
    "a = np.array([1 + 2j, 3-4j, 5])\n",
    "a"
   ]
  },
  {
   "cell_type": "code",
   "execution_count": null,
   "id": "8748e997-d68b-40fc-b91f-c02ae0be6923",
   "metadata": {
    "tags": []
   },
   "outputs": [],
   "source": [
    "np.iscomplex(a)"
   ]
  },
  {
   "cell_type": "code",
   "execution_count": null,
   "id": "364af175-9fa8-4d17-83c7-c41f80399916",
   "metadata": {
    "tags": []
   },
   "outputs": [],
   "source": [
    "np.isreal(a)"
   ]
  },
  {
   "cell_type": "code",
   "execution_count": null,
   "id": "0a6300d1-5ce7-44e2-98a3-aded3ee3383b",
   "metadata": {},
   "outputs": [],
   "source": []
  },
  {
   "cell_type": "code",
   "execution_count": null,
   "id": "e884a8c1-7166-4bb6-a4ca-db9d5556e9ef",
   "metadata": {
    "tags": []
   },
   "outputs": [],
   "source": [
    "x = np.array([True, False, True, False, ])\n",
    "y = np.array([True, True, False, False, ])\n",
    "\n",
    "x, y"
   ]
  },
  {
   "cell_type": "code",
   "execution_count": null,
   "id": "6fb6f639-7a75-4850-801b-d3bcff254f0b",
   "metadata": {
    "tags": []
   },
   "outputs": [],
   "source": [
    "np.logical_and(x, y)"
   ]
  },
  {
   "cell_type": "code",
   "execution_count": null,
   "id": "6f63504b-ea94-4073-93e4-d820f078ae86",
   "metadata": {
    "tags": []
   },
   "outputs": [],
   "source": [
    "x & y"
   ]
  },
  {
   "cell_type": "code",
   "execution_count": null,
   "id": "ce31eca8-5707-46df-b0f2-9398cf9085b8",
   "metadata": {
    "tags": []
   },
   "outputs": [],
   "source": [
    "np.logical_or(x, y)"
   ]
  },
  {
   "cell_type": "code",
   "execution_count": null,
   "id": "48a5b5e4-16a9-48c3-a261-084bd78e6d8d",
   "metadata": {
    "tags": []
   },
   "outputs": [],
   "source": [
    "x | y"
   ]
  },
  {
   "cell_type": "code",
   "execution_count": null,
   "id": "873f5968-88d9-4ddf-98eb-fb74d28e4efd",
   "metadata": {
    "tags": []
   },
   "outputs": [],
   "source": [
    "np.logical_not(x)"
   ]
  },
  {
   "cell_type": "code",
   "execution_count": null,
   "id": "3553c079-f2dc-45ee-aec1-20ade4e00570",
   "metadata": {
    "tags": []
   },
   "outputs": [],
   "source": [
    "~x"
   ]
  },
  {
   "cell_type": "code",
   "execution_count": null,
   "id": "1d95ba2c-4595-40f3-a68d-fde9febeb862",
   "metadata": {
    "tags": []
   },
   "outputs": [],
   "source": [
    "x = np.array([1, 0, 1, 0, ])\n",
    "y = np.array([1, 1, 0, 0, ])\n",
    "\n",
    "x, y"
   ]
  },
  {
   "cell_type": "code",
   "execution_count": null,
   "id": "8ea59b02-c067-4697-b561-bde0c749710d",
   "metadata": {
    "tags": []
   },
   "outputs": [],
   "source": [
    "x & y"
   ]
  },
  {
   "cell_type": "code",
   "execution_count": null,
   "id": "bfa29c2b-6112-4498-80cb-a6c33e286995",
   "metadata": {},
   "outputs": [],
   "source": []
  },
  {
   "cell_type": "markdown",
   "id": "ebc4a43e-d47e-4a07-a84f-430fda3fe369",
   "metadata": {},
   "source": [
    "# Базовые математические функции"
   ]
  },
  {
   "cell_type": "code",
   "execution_count": null,
   "id": "b93d7115-23dc-4f1c-9958-715b2a440c3a",
   "metadata": {},
   "outputs": [],
   "source": [
    "a = np.array([1, 2, 3, 10, 20, 30])\n",
    "a"
   ]
  },
  {
   "cell_type": "code",
   "execution_count": null,
   "id": "909ae280-69cc-4ac9-afef-1b140ef754a9",
   "metadata": {
    "tags": []
   },
   "outputs": [],
   "source": [
    "a.sum(), np.sum(a)"
   ]
  },
  {
   "cell_type": "code",
   "execution_count": null,
   "id": "13878a6e-ebec-4992-bacb-954346fa6afa",
   "metadata": {
    "tags": []
   },
   "outputs": [],
   "source": [
    "a.mean(), np.mean(a)"
   ]
  },
  {
   "cell_type": "code",
   "execution_count": null,
   "id": "0dfea6f0-28d9-412f-8b1f-b4b871cff018",
   "metadata": {
    "tags": []
   },
   "outputs": [],
   "source": [
    "a.max(), np.max(a)"
   ]
  },
  {
   "cell_type": "code",
   "execution_count": null,
   "id": "f8a9171b-3375-44f2-885b-17d9fe648363",
   "metadata": {
    "tags": []
   },
   "outputs": [],
   "source": [
    "a.min(), np.min(a)"
   ]
  },
  {
   "cell_type": "code",
   "execution_count": null,
   "id": "c6cef823-88f8-4e36-a813-359275f86472",
   "metadata": {
    "tags": []
   },
   "outputs": [],
   "source": [
    "a = np.arange(10).reshape(2,5)\n",
    "a"
   ]
  },
  {
   "cell_type": "code",
   "execution_count": null,
   "id": "d73796fe-b106-44ce-b5fa-75ee172d0f2c",
   "metadata": {
    "tags": []
   },
   "outputs": [],
   "source": [
    "a.sum(), a.mean()"
   ]
  },
  {
   "cell_type": "code",
   "execution_count": null,
   "id": "d63e8bc0-de4e-4319-8d83-f0e18da1b79f",
   "metadata": {
    "tags": []
   },
   "outputs": [],
   "source": [
    "a.sum(axis=0)"
   ]
  },
  {
   "cell_type": "code",
   "execution_count": null,
   "id": "4bc7ce89-cb67-4eb3-bfff-1dff6435e0d8",
   "metadata": {
    "tags": []
   },
   "outputs": [],
   "source": [
    "a = np.array([-1,-2,2,1])"
   ]
  },
  {
   "cell_type": "code",
   "execution_count": null,
   "id": "1147f6a6-229f-4c78-a47e-6c53d9e58e48",
   "metadata": {
    "tags": []
   },
   "outputs": [],
   "source": [
    "np.abs(a)"
   ]
  },
  {
   "cell_type": "code",
   "execution_count": null,
   "id": "f1d019ae-b4de-49c0-ad81-be47f1fa2054",
   "metadata": {
    "tags": []
   },
   "outputs": [],
   "source": [
    "np.abs(3)"
   ]
  },
  {
   "cell_type": "code",
   "execution_count": null,
   "id": "a66db490-1ff6-4afd-ae44-068b1ebefd5f",
   "metadata": {
    "tags": []
   },
   "outputs": [],
   "source": [
    "np.log2(a)"
   ]
  },
  {
   "cell_type": "code",
   "execution_count": null,
   "id": "b9d5791d-5acd-48ca-9ac0-f72f5024f15b",
   "metadata": {
    "tags": []
   },
   "outputs": [],
   "source": [
    "np.argmax(a)"
   ]
  },
  {
   "cell_type": "code",
   "execution_count": null,
   "id": "faf8a13b-ca40-4e2a-9e5c-e6b77748ccc0",
   "metadata": {
    "tags": []
   },
   "outputs": [],
   "source": [
    "np.argmin(a)"
   ]
  },
  {
   "cell_type": "code",
   "execution_count": null,
   "id": "d85c28f5-9ba1-41ec-a99f-f12cc305b315",
   "metadata": {
    "tags": []
   },
   "outputs": [],
   "source": [
    "np.round(0.335, 2)"
   ]
  },
  {
   "cell_type": "code",
   "execution_count": null,
   "id": "ebe62fc2-90cd-4a3a-84e3-5bfc2c10f3a6",
   "metadata": {},
   "outputs": [],
   "source": [
    "np.sin\n",
    "np.cos\n",
    "np.tan\n",
    "np.arcsin\n",
    "np.arccos\n",
    "np.arctan\n",
    "\n",
    "np.median\n",
    "np.var\n",
    "np.std\n",
    "np.cov\n",
    "np.corrcoef\n",
    "np.correlate"
   ]
  },
  {
   "cell_type": "code",
   "execution_count": null,
   "id": "68e5e426-6069-4f93-868c-9da0b769adbf",
   "metadata": {},
   "outputs": [],
   "source": []
  },
  {
   "cell_type": "code",
   "execution_count": null,
   "id": "1d838d80-2d24-4d1e-bec3-cd15fa29d05f",
   "metadata": {
    "tags": []
   },
   "outputs": [],
   "source": [
    "np.random.random()"
   ]
  },
  {
   "cell_type": "code",
   "execution_count": null,
   "id": "7429e475-8011-49ab-8980-9144ba5f88fc",
   "metadata": {
    "tags": []
   },
   "outputs": [],
   "source": [
    "np.random.randint(1, 10)"
   ]
  },
  {
   "cell_type": "code",
   "execution_count": null,
   "id": "a86a43f8-f82f-45c2-8d2f-3392488d771f",
   "metadata": {
    "tags": []
   },
   "outputs": [],
   "source": [
    "np.random.randint(1, 10, size=3)"
   ]
  },
  {
   "cell_type": "code",
   "execution_count": null,
   "id": "84e8272c-82a9-451a-8a21-120bb103015a",
   "metadata": {
    "tags": []
   },
   "outputs": [],
   "source": [
    "np.random.randn(2)"
   ]
  },
  {
   "cell_type": "code",
   "execution_count": null,
   "id": "545341b6-e5c8-4fc1-b5d0-8d2e7780b98c",
   "metadata": {
    "tags": []
   },
   "outputs": [],
   "source": [
    "np.random.randn(2,3)"
   ]
  },
  {
   "cell_type": "code",
   "execution_count": null,
   "id": "54361368-d9f7-4e5f-923f-8f7f8f6616d7",
   "metadata": {
    "tags": []
   },
   "outputs": [],
   "source": [
    "np.random.seed(42)\n",
    "np.random.randn(2,3)"
   ]
  },
  {
   "cell_type": "code",
   "execution_count": null,
   "id": "e7b6067d-626d-43a4-afb4-97123477f8ef",
   "metadata": {
    "tags": []
   },
   "outputs": [],
   "source": [
    "a = np.random.randn(5)\n",
    "a"
   ]
  },
  {
   "cell_type": "code",
   "execution_count": null,
   "id": "c7ed27f9-8520-4ae4-a5e5-ecd5a1381dd8",
   "metadata": {
    "tags": []
   },
   "outputs": [],
   "source": [
    "np.random.shuffle(a)"
   ]
  },
  {
   "cell_type": "code",
   "execution_count": null,
   "id": "9d486ee2-2cc6-4907-9150-a1f831b3ee2f",
   "metadata": {
    "tags": []
   },
   "outputs": [],
   "source": [
    "a"
   ]
  },
  {
   "cell_type": "code",
   "execution_count": null,
   "id": "f3e5f3d3-aee9-4468-b09e-bc661a909d79",
   "metadata": {
    "tags": []
   },
   "outputs": [],
   "source": [
    "np.random.permutation(a)"
   ]
  },
  {
   "cell_type": "code",
   "execution_count": null,
   "id": "98478e1b-b8f4-4b69-ac63-42936590f266",
   "metadata": {},
   "outputs": [],
   "source": []
  },
  {
   "cell_type": "markdown",
   "id": "8e919c92-41a9-47be-b1e3-f6d629add54b",
   "metadata": {},
   "source": [
    "# Элементы линейной алгебры"
   ]
  },
  {
   "cell_type": "code",
   "execution_count": null,
   "id": "29308f42-02cc-4afc-b34b-6fe3a13f663e",
   "metadata": {},
   "outputs": [],
   "source": []
  },
  {
   "cell_type": "code",
   "execution_count": null,
   "id": "c2ddc62c-7f25-4806-9ec3-4fffedafc358",
   "metadata": {},
   "outputs": [],
   "source": []
  },
  {
   "cell_type": "code",
   "execution_count": null,
   "id": "08b0448e-3a76-444a-afad-d243def31592",
   "metadata": {},
   "outputs": [],
   "source": []
  },
  {
   "cell_type": "markdown",
   "id": "d7fe21b5-d2d2-419d-affc-02df6ca07d1b",
   "metadata": {},
   "source": [
    "# Множества и операции над ними"
   ]
  },
  {
   "cell_type": "code",
   "execution_count": null,
   "id": "ecf369eb-46ae-42f1-bc2c-009f89219789",
   "metadata": {},
   "outputs": [],
   "source": []
  },
  {
   "cell_type": "markdown",
   "id": "d96031eb-2b74-4508-ac70-1ea88428ace0",
   "metadata": {},
   "source": [
    "# Транспонирование массивов"
   ]
  },
  {
   "cell_type": "code",
   "execution_count": null,
   "id": "787c3722-2652-446b-9533-ee7df64cc26e",
   "metadata": {},
   "outputs": [],
   "source": []
  }
 ],
 "metadata": {
  "kernelspec": {
   "name": "python3",
   "language": "python",
   "display_name": "Python 3 (ipykernel)"
  },
  "language_info": {
   "codemirror_mode": {
    "name": "ipython",
    "version": 3
   },
   "file_extension": ".py",
   "mimetype": "text/x-python",
   "name": "python",
   "nbconvert_exporter": "python",
   "pygments_lexer": "ipython3",
   "version": "3.10.12"
  }
 },
 "nbformat": 4,
 "nbformat_minor": 5
}
