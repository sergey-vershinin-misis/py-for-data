{
 "cells": [
  {
   "cell_type": "markdown",
   "source": [
    "### 2. Возьмите 3 различных типа данных в питоне. Попробуйте преобразовать их в массивы numpy. Выводите результаты. В комментариях отпишите по полученному результату. Если преобразование невозможно, то также напишите почему.\n"
   ],
   "metadata": {
    "collapsed": false
   },
   "id": "dd4e1abb72952506"
  },
  {
   "cell_type": "code",
   "execution_count": 2,
   "id": "initial_id",
   "metadata": {
    "collapsed": true,
    "ExecuteTime": {
     "end_time": "2023-10-19T15:54:03.676808900Z",
     "start_time": "2023-10-19T15:54:03.448197300Z"
    }
   },
   "outputs": [
    {
     "data": {
      "text/plain": "(array([1, 2, 3]), dtype('int32'))"
     },
     "execution_count": 2,
     "metadata": {},
     "output_type": "execute_result"
    }
   ],
   "source": [
    "import numpy\n",
    "import numpy as np\n",
    "\n",
    "source = (1,2,3)\n",
    "target = np.array(source)\n",
    "target, target.dtype\n",
    "# выводится numpy-массив типа int, т.к. исходный кортеж состоял и целых чисел "
   ]
  },
  {
   "cell_type": "code",
   "execution_count": 7,
   "outputs": [
    {
     "data": {
      "text/plain": "(array([1. , 2. , 3.7]), dtype('float64'))"
     },
     "execution_count": 7,
     "metadata": {},
     "output_type": "execute_result"
    }
   ],
   "source": [
    "source = (1,2,3.7)\n",
    "target = np.array(source)\n",
    "target, target.dtype\n",
    "# выводится numpy-массив типа float, т.к. исходный кортеж содержал как целые, так и вещественные числа"
   ],
   "metadata": {
    "collapsed": false,
    "ExecuteTime": {
     "end_time": "2023-10-19T15:08:14.449528700Z",
     "start_time": "2023-10-19T15:08:14.417637400Z"
    }
   },
   "id": "8cc08ec239bdc6e1"
  },
  {
   "cell_type": "code",
   "execution_count": 8,
   "outputs": [
    {
     "data": {
      "text/plain": "(array([1, 2, 3]), dtype('int32'))"
     },
     "execution_count": 8,
     "metadata": {},
     "output_type": "execute_result"
    }
   ],
   "source": [
    "source = (1,2,3.7)\n",
    "target = np.array(source, dtype='int32')\n",
    "target, target.dtype\n",
    "# а в данном случае получится массив целых числе, полученный отбрасыванием дробной части у исходных вещественных значений, т.к. мы явно задали numpy тип элементов массив"
   ],
   "metadata": {
    "collapsed": false,
    "ExecuteTime": {
     "end_time": "2023-10-19T15:08:17.738620200Z",
     "start_time": "2023-10-19T15:08:17.706947100Z"
    }
   },
   "id": "2236f9415e778a08"
  },
  {
   "cell_type": "code",
   "execution_count": 13,
   "outputs": [
    {
     "ename": "ValueError",
     "evalue": "setting an array element with a sequence. The requested array has an inhomogeneous shape after 1 dimensions. The detected shape was (4,) + inhomogeneous part.",
     "output_type": "error",
     "traceback": [
      "\u001B[1;31m---------------------------------------------------------------------------\u001B[0m",
      "\u001B[1;31mValueError\u001B[0m                                Traceback (most recent call last)",
      "Cell \u001B[1;32mIn[13], line 2\u001B[0m\n\u001B[0;32m      1\u001B[0m source \u001B[38;5;241m=\u001B[39m ((\u001B[38;5;124m'\u001B[39m\u001B[38;5;124ma\u001B[39m\u001B[38;5;124m'\u001B[39m), (\u001B[38;5;241m2\u001B[39m), (\u001B[38;5;28;01mTrue\u001B[39;00m), ())\n\u001B[1;32m----> 2\u001B[0m target \u001B[38;5;241m=\u001B[39m \u001B[43mnp\u001B[49m\u001B[38;5;241;43m.\u001B[39;49m\u001B[43marray\u001B[49m\u001B[43m(\u001B[49m\u001B[43msource\u001B[49m\u001B[43m)\u001B[49m\n\u001B[0;32m      3\u001B[0m target, target\u001B[38;5;241m.\u001B[39mdtype\n",
      "\u001B[1;31mValueError\u001B[0m: setting an array element with a sequence. The requested array has an inhomogeneous shape after 1 dimensions. The detected shape was (4,) + inhomogeneous part."
     ]
    }
   ],
   "source": [
    "source = ('a', 2, True, ())\n",
    "target = np.array(source)\n",
    "target, source\n",
    "# а здесь np выдает ошибку, т.к. среди элементов есть пустой кортеж, который он не знает, как интерпретировать"
   ],
   "metadata": {
    "collapsed": false,
    "ExecuteTime": {
     "end_time": "2023-10-19T15:10:29.561465400Z",
     "start_time": "2023-10-19T15:10:29.498701600Z"
    }
   },
   "id": "892667875471c9d8"
  },
  {
   "cell_type": "code",
   "execution_count": 15,
   "outputs": [
    {
     "data": {
      "text/plain": "array(['a', '2', 'True'], dtype='<U11')"
     },
     "execution_count": 15,
     "metadata": {},
     "output_type": "execute_result"
    }
   ],
   "source": [
    "source = ('a', 2, True)\n",
    "target = np.array(source)\n",
    "target\n",
    "# если мы уберем из кортежа вложенный пустой кортеж, то np создаст массив строк, т.к. в исходном кортеже данные разных типов, в том числе - строка"
   ],
   "metadata": {
    "collapsed": false,
    "ExecuteTime": {
     "end_time": "2023-10-19T15:12:44.667888500Z",
     "start_time": "2023-10-19T15:12:44.619519900Z"
    }
   },
   "id": "157efb2edcd8988d"
  },
  {
   "cell_type": "markdown",
   "source": [
    "### 3. Выберите 3 различных варианта задания одномерного массива. Создайте переменные, в которые запишите эти массивы. Выводите результаты. Сверху перед каждым созданием напишите суть метода в комментариях.\n"
   ],
   "metadata": {
    "collapsed": false
   },
   "id": "625cb74c7493c2e6"
  },
  {
   "cell_type": "code",
   "execution_count": 20,
   "outputs": [
    {
     "data": {
      "text/plain": "array([15,  6, 53,  6])"
     },
     "execution_count": 20,
     "metadata": {},
     "output_type": "execute_result"
    }
   ],
   "source": [
    "# 1. создание массива из списка\n",
    "a = np.array([15, 6, 53, 6])\n",
    "a"
   ],
   "metadata": {
    "collapsed": false,
    "ExecuteTime": {
     "end_time": "2023-10-19T15:16:52.263211700Z",
     "start_time": "2023-10-19T15:16:52.161744300Z"
    }
   },
   "id": "d83d21d95809e970"
  },
  {
   "cell_type": "code",
   "execution_count": 21,
   "outputs": [
    {
     "data": {
      "text/plain": "array([1, 2, 3, 4, 5, 6, 7, 8, 9])"
     },
     "execution_count": 21,
     "metadata": {},
     "output_type": "execute_result"
    }
   ],
   "source": [
    "# 2. создание массива из итератора (в данном случае - range)\n",
    "a = np.array(range(1,10))\n",
    "a"
   ],
   "metadata": {
    "collapsed": false,
    "ExecuteTime": {
     "end_time": "2023-10-19T15:16:58.118669700Z",
     "start_time": "2023-10-19T15:16:58.039360Z"
    }
   },
   "id": "edc6e2ba311299b9"
  },
  {
   "cell_type": "code",
   "execution_count": 23,
   "outputs": [
    {
     "data": {
      "text/plain": "array([89, 66, 93, 59, 86, 49, 45, 68, 19, 90])"
     },
     "execution_count": 23,
     "metadata": {},
     "output_type": "execute_result"
    }
   ],
   "source": [
    "# 3. создание массива случайных целых чисел в диапазоне от 1 до 100, длиной 10\n",
    "a = np.random.randint(1, 100, size=10)\n",
    "a"
   ],
   "metadata": {
    "collapsed": false,
    "ExecuteTime": {
     "end_time": "2023-10-19T15:18:35.467930500Z",
     "start_time": "2023-10-19T15:18:35.404713300Z"
    }
   },
   "id": "78a75aa9b3e1b0db"
  },
  {
   "cell_type": "markdown",
   "source": [
    "### 4. Выберите 3 различных варианта задания многомерного массива (как правило, они получаются из одномерного, используя reshape). Создайте переменные, в которые запишите эти массивы. Выводите результаты. Сверху перед каждым созданием напишите суть метода в комментариях.\n"
   ],
   "metadata": {
    "collapsed": false
   },
   "id": "8fe9d0f476b96962"
  },
  {
   "cell_type": "code",
   "execution_count": 26,
   "outputs": [
    {
     "data": {
      "text/plain": "array([[ 0,  1,  2,  3],\n       [ 4,  5,  6,  7],\n       [ 8,  9, 10, 11],\n       [12, 13, 14, 15]])"
     },
     "execution_count": 26,
     "metadata": {},
     "output_type": "execute_result"
    }
   ],
   "source": [
    "# 1. создаем одномерный массив из 16 элементов и преобразуем его в квадратную матрицу 4х4 вызовом reshape()\n",
    "a = np.array(range(16)).reshape(4,4)\n",
    "a"
   ],
   "metadata": {
    "collapsed": false,
    "ExecuteTime": {
     "end_time": "2023-10-19T15:20:33.822920300Z",
     "start_time": "2023-10-19T15:20:33.759300400Z"
    }
   },
   "id": "653b8924d22ff286"
  },
  {
   "cell_type": "code",
   "execution_count": 27,
   "outputs": [
    {
     "data": {
      "text/plain": "array([[1., 0., 0., 0., 0.],\n       [0., 1., 0., 0., 0.],\n       [0., 0., 1., 0., 0.],\n       [0., 0., 0., 1., 0.],\n       [0., 0., 0., 0., 1.]])"
     },
     "execution_count": 27,
     "metadata": {},
     "output_type": "execute_result"
    }
   ],
   "source": [
    "# 2. создаем квадратную единичную матрицу с помощью встроенного метода numpy\n",
    "a = np.eye(5)\n",
    "a"
   ],
   "metadata": {
    "collapsed": false,
    "ExecuteTime": {
     "end_time": "2023-10-19T15:27:04.891693500Z",
     "start_time": "2023-10-19T15:27:04.786976800Z"
    }
   },
   "id": "545d69cafb0e03ee"
  },
  {
   "cell_type": "code",
   "execution_count": 28,
   "outputs": [
    {
     "data": {
      "text/plain": "array([[1., 1., 1.],\n       [1., 1., 1.],\n       [1., 1., 1.],\n       [1., 1., 1.],\n       [1., 1., 1.]])"
     },
     "execution_count": 28,
     "metadata": {},
     "output_type": "execute_result"
    }
   ],
   "source": [
    "# 3. создаем матрицу, заполненную единицами, из 5 строк и 3 столбцов\n",
    "a = np.ones(shape = (5, 3))\n",
    "a"
   ],
   "metadata": {
    "collapsed": false,
    "ExecuteTime": {
     "end_time": "2023-10-19T15:28:39.378126600Z",
     "start_time": "2023-10-19T15:28:39.314876800Z"
    }
   },
   "id": "60c8edb6c68dffa5"
  },
  {
   "cell_type": "markdown",
   "source": [
    "### 5. Используя  np.arange создайте итератор с вещественным шагом. Выведите результат."
   ],
   "metadata": {
    "collapsed": false
   },
   "id": "441d4dc381ba1ffa"
  },
  {
   "cell_type": "code",
   "execution_count": 36,
   "outputs": [
    {
     "data": {
      "text/plain": "(array([1.1, 1.4, 1.7, 2. , 2.3, 2.6, 2.9, 3.2, 3.5, 3.8, 4.1, 4.4, 4.7,\n        5. , 5.3, 5.6, 5.9, 6.2, 6.5, 6.8, 7.1, 7.4, 7.7, 8. , 8.3, 8.6,\n        8.9, 9.2, 9.5, 9.8]),\n numpy.ndarray)"
     },
     "execution_count": 36,
     "metadata": {},
     "output_type": "execute_result"
    }
   ],
   "source": [
    "a = np.arange(1.1, 10.0, 0.3)\n",
    "a, type(a)"
   ],
   "metadata": {
    "collapsed": false,
    "ExecuteTime": {
     "end_time": "2023-10-19T15:34:51.352725400Z",
     "start_time": "2023-10-19T15:34:51.311905Z"
    }
   },
   "id": "d12a266b217a98b5"
  },
  {
   "cell_type": "markdown",
   "source": [
    "### 6. На практике зачастую требуется соединять 2 вектора в один вертикально или горизонтально. Придумайте 2 одномерных вектора. Соедините их способами, описанными ранее. Выводите результаты.  Напишите поясняющий комментарий.\n"
   ],
   "metadata": {
    "collapsed": false
   },
   "id": "7710159ba7716f27"
  },
  {
   "cell_type": "code",
   "execution_count": 25,
   "outputs": [
    {
     "data": {
      "text/plain": "array([[1, 2, 3, 4],\n       [4, 3, 2, 1]])"
     },
     "execution_count": 25,
     "metadata": {},
     "output_type": "execute_result"
    }
   ],
   "source": [
    "a = np.array((1,2,3,4))\n",
    "b = np.array((4,3,2,1))\n",
    "\n",
    "# в случае вертикального соединения вектор a берется в качестве первой строки, а b - в качестве второй, и мы получаем матрицу размером 2х4\n",
    "np.vstack((a,b))"
   ],
   "metadata": {
    "collapsed": false,
    "ExecuteTime": {
     "end_time": "2023-10-19T18:24:02.534570100Z",
     "start_time": "2023-10-19T18:24:02.474492400Z"
    }
   },
   "id": "af376e2d33748ea9"
  },
  {
   "cell_type": "code",
   "execution_count": 26,
   "outputs": [
    {
     "data": {
      "text/plain": "array([1, 2, 3, 4, 4, 3, 2, 1])"
     },
     "execution_count": 26,
     "metadata": {},
     "output_type": "execute_result"
    }
   ],
   "source": [
    "# в случае горизонтального соединения векторы a и  b сливаются в одну строку и получается вектор удвоенной длины  \n",
    "np.hstack((a,b))"
   ],
   "metadata": {
    "collapsed": false,
    "ExecuteTime": {
     "end_time": "2023-10-19T18:24:04.959420700Z",
     "start_time": "2023-10-19T18:24:04.907622500Z"
    }
   },
   "id": "9e5fb80275ec9f7a"
  },
  {
   "cell_type": "markdown",
   "source": [
    "### 7. На практике зачастую требуется соединять 2 многомерных вектора в один вертикально или горизонтально. Придумайте 2 многомерных вектора. Соедините их любым понравившимся способом в один. Выводите результаты. Напишите поясняющий комментарий.\n"
   ],
   "metadata": {
    "collapsed": false
   },
   "id": "72fe0c125e98cc7a"
  },
  {
   "cell_type": "code",
   "execution_count": 168,
   "outputs": [
    {
     "data": {
      "text/plain": "(array([[['1.1.1', '1.1.2', '1.1.3'],\n         ['1.2.1', '1.2.2', '1.2.3']],\n \n        [['2.1.1', '2.1.2', '2.1.3'],\n         ['2.2.1', '2.2.2', '2.2.3']]], dtype='<U5'),\n (2, 2, 3))"
     },
     "execution_count": 168,
     "metadata": {},
     "output_type": "execute_result"
    }
   ],
   "source": [
    "# введем два трехмерных массива. Каждый из них можно интерпретировать как две матрицы размером 2х3 уложенные друг за другом. \n",
    "# В итоге получаются трехмерные массивы размерности 2х2х3\n",
    "a1 = np.array( [[['1.1.1', '1.1.2', '1.1.3' ], \n",
    "                 ['1.2.1', '1.2.2', '1.2.3' ]], \n",
    "                [['2.1.1', '2.1.2', '2.1.3' ],\n",
    "                 ['2.2.1', '2.2.2', '2.2.3' ]]])\n",
    "\n",
    "a2 = np.array( [[['3.1.1', '3.1.2', '3.1.3' ], \n",
    "                 ['3.2.1', '3.2.2', '3.2.3' ]],\n",
    "                [['4.1.1', '4.1.2', '4.1.3' ], \n",
    "                 ['4.2.1', '4.2.2', '4.2.3' ]]])\n",
    "\n",
    "a1, a1.shape\n"
   ],
   "metadata": {
    "collapsed": false,
    "ExecuteTime": {
     "end_time": "2023-10-20T06:03:46.979841800Z",
     "start_time": "2023-10-20T06:03:46.924315100Z"
    }
   },
   "id": "40fe48dc42846ae"
  },
  {
   "cell_type": "code",
   "execution_count": 169,
   "outputs": [
    {
     "data": {
      "text/plain": "(array([[['3.1.1', '3.1.2', '3.1.3'],\n         ['3.2.1', '3.2.2', '3.2.3']],\n \n        [['4.1.1', '4.1.2', '4.1.3'],\n         ['4.2.1', '4.2.2', '4.2.3']]], dtype='<U5'),\n (2, 2, 3))"
     },
     "execution_count": 169,
     "metadata": {},
     "output_type": "execute_result"
    }
   ],
   "source": [
    "a2, a2.shape"
   ],
   "metadata": {
    "collapsed": false,
    "ExecuteTime": {
     "end_time": "2023-10-20T06:03:48.401854300Z",
     "start_time": "2023-10-20T06:03:48.345236600Z"
    }
   },
   "id": "27248f59746cb8a3"
  },
  {
   "cell_type": "code",
   "execution_count": 170,
   "outputs": [
    {
     "data": {
      "text/plain": "(array([[['1.1.1', '1.1.2', '1.1.3'],\n         ['1.2.1', '1.2.2', '1.2.3']],\n \n        [['2.1.1', '2.1.2', '2.1.3'],\n         ['2.2.1', '2.2.2', '2.2.3']],\n \n        [['3.1.1', '3.1.2', '3.1.3'],\n         ['3.2.1', '3.2.2', '3.2.3']],\n \n        [['4.1.1', '4.1.2', '4.1.3'],\n         ['4.2.1', '4.2.2', '4.2.3']]], dtype='<U5'),\n (4, 2, 3))"
     },
     "execution_count": 170,
     "metadata": {},
     "output_type": "execute_result"
    }
   ],
   "source": [
    "# в результате соединения двух массивов через vstack получается, \n",
    "# что две матрицы 2х3 из а1 помещаются за такими же двумя матрицами из а2 \n",
    "r = np.vstack( (a1, a2) )\n",
    "r, r.shape"
   ],
   "metadata": {
    "collapsed": false,
    "ExecuteTime": {
     "end_time": "2023-10-20T06:03:50.508939800Z",
     "start_time": "2023-10-20T06:03:50.453424800Z"
    }
   },
   "id": "4420199197aa7e2f"
  },
  {
   "cell_type": "code",
   "execution_count": 171,
   "outputs": [
    {
     "data": {
      "text/plain": "(array([[['1.1.1', '1.1.2', '1.1.3'],\n         ['1.2.1', '1.2.2', '1.2.3'],\n         ['3.1.1', '3.1.2', '3.1.3'],\n         ['3.2.1', '3.2.2', '3.2.3']],\n \n        [['2.1.1', '2.1.2', '2.1.3'],\n         ['2.2.1', '2.2.2', '2.2.3'],\n         ['4.1.1', '4.1.2', '4.1.3'],\n         ['4.2.1', '4.2.2', '4.2.3']]], dtype='<U5'),\n (2, 4, 3))"
     },
     "execution_count": 171,
     "metadata": {},
     "output_type": "execute_result"
    }
   ],
   "source": [
    "# при соединении массивов через hstack слияние происходит по второму измерению, что приводит к тому, \n",
    "# что к строкам первой матрицы в а1 добавляются строки первой матрицы в a2, образуя матрицу 4х4, а \n",
    "# к строкам второй матрицы в а1 добавляются строки второй матрицы в а2. В результате получаем две матрицы \n",
    "# 4х4, расположенные одна за другой\n",
    "r = np.hstack( (a1, a2) )\n",
    "r, r.shape"
   ],
   "metadata": {
    "collapsed": false,
    "ExecuteTime": {
     "end_time": "2023-10-20T07:12:27.456687100Z",
     "start_time": "2023-10-20T07:12:27.376111200Z"
    }
   },
   "id": "8f298b1252a31aa5"
  },
  {
   "cell_type": "markdown",
   "source": [
    "### 8. Придумайте любую систему линейных уравнений. И попробуйте решить ее двумя способами, представленными в лекции. Выводите результаты. Если будет возникать ошибка, то попробуйте в комментариях объяснить, почему она возникает."
   ],
   "metadata": {
    "collapsed": false
   },
   "id": "711c31d37b142b3b"
  },
  {
   "cell_type": "code",
   "execution_count": 61,
   "outputs": [],
   "source": [
    "# Определяем матрицу СЛАУ A и столбец свободных членов B\n",
    "A = np.array([[4, 2, 1],\n",
    "              [1, -2, 2], \n",
    "              [0, 1, 3]])\n",
    "\n",
    "B = np.array([21, \n",
    "              9, \n",
    "              17])\n"
   ],
   "metadata": {
    "collapsed": false,
    "ExecuteTime": {
     "end_time": "2023-10-19T18:58:38.233175300Z",
     "start_time": "2023-10-19T18:58:38.170977900Z"
    }
   },
   "id": "a6cd0a115d72d076"
  },
  {
   "cell_type": "code",
   "execution_count": 62,
   "outputs": [
    {
     "data": {
      "text/plain": "array([3., 2., 5.])"
     },
     "execution_count": 62,
     "metadata": {},
     "output_type": "execute_result"
    }
   ],
   "source": [
    "# решаем через метод linalg.solve() \n",
    "np.linalg.solve(A, B)"
   ],
   "metadata": {
    "collapsed": false,
    "ExecuteTime": {
     "end_time": "2023-10-19T18:58:38.753011200Z",
     "start_time": "2023-10-19T18:58:38.668970100Z"
    }
   },
   "id": "46d47aa2995bc1df"
  },
  {
   "cell_type": "code",
   "execution_count": 63,
   "outputs": [
    {
     "data": {
      "text/plain": "array([3., 2., 5.])"
     },
     "execution_count": 63,
     "metadata": {},
     "output_type": "execute_result"
    }
   ],
   "source": [
    "# или же находим обратную матрицу и умножаем ее слева на B\n",
    "Ainv  = np.linalg.inv(A)\n",
    "X = Ainv @ B\n",
    "X"
   ],
   "metadata": {
    "collapsed": false,
    "ExecuteTime": {
     "end_time": "2023-10-19T18:58:39.102963300Z",
     "start_time": "2023-10-19T18:58:39.046103700Z"
    }
   },
   "id": "5b5950f73513f0e8"
  },
  {
   "cell_type": "markdown",
   "source": [
    "### 9. Придумайте один одномерный массив. Поменяйте у него тип на различные 3 раза. Сохраните все действия в переменные. Выводите промежуточные результаты. Напишите поясняющие комментарии. Словарь с всевозможными типами данных в numpy рассматривался в лекции и есть в ноутбуке.\n"
   ],
   "metadata": {
    "collapsed": false
   },
   "id": "3a4a823b44529a7d"
  },
  {
   "cell_type": "code",
   "execution_count": 79,
   "outputs": [
    {
     "data": {
      "text/plain": "(array([1.2, 3.8, 5.2, 6.1], dtype=float32), dtype('float32'), (4,))"
     },
     "execution_count": 79,
     "metadata": {},
     "output_type": "execute_result"
    }
   ],
   "source": [
    "# создадим массив из 4 вещественных чисел и попробуем с ним поэкспериментировать \n",
    "a = np.array([1.2, 3.8, 5.2 , 6.1], dtype='float32')\n",
    "a, a.dtype, a.shape"
   ],
   "metadata": {
    "collapsed": false,
    "ExecuteTime": {
     "end_time": "2023-10-19T19:38:45.470382800Z",
     "start_time": "2023-10-19T19:38:45.401965500Z"
    }
   },
   "id": "e64a0b41c8078a14"
  },
  {
   "cell_type": "code",
   "execution_count": 80,
   "outputs": [
    {
     "data": {
      "text/plain": "(array([1, 3, 5, 6]), (4,))"
     },
     "execution_count": 80,
     "metadata": {},
     "output_type": "execute_result"
    }
   ],
   "source": [
    "#преобразуем его в массив целых чисел\n",
    "b = np.array(a, dtype='int32')\n",
    "# в результате видим, что все дробные части просто были отброшены\n",
    "b, b.shape"
   ],
   "metadata": {
    "collapsed": false,
    "ExecuteTime": {
     "end_time": "2023-10-19T19:38:47.166460600Z",
     "start_time": "2023-10-19T19:38:47.106025800Z"
    }
   },
   "id": "380649209b7dca1b"
  },
  {
   "cell_type": "code",
   "execution_count": 81,
   "outputs": [
    {
     "data": {
      "text/plain": "(array(['1.2', '3.8', '5.2', '6.1'], dtype='<U32'), (4,))"
     },
     "execution_count": 81,
     "metadata": {},
     "output_type": "execute_result"
    }
   ],
   "source": [
    "# аналогично мы можем превратить его в массив строковых представлений для исходных чисел\n",
    "b = np.array(a, dtype='str')\n",
    "b, b.shape"
   ],
   "metadata": {
    "collapsed": false,
    "ExecuteTime": {
     "end_time": "2023-10-19T19:39:35.923601500Z",
     "start_time": "2023-10-19T19:39:35.861381800Z"
    }
   },
   "id": "cef3d9ad9d11952"
  },
  {
   "cell_type": "code",
   "execution_count": 82,
   "outputs": [
    {
     "data": {
      "text/plain": "(array([-26214,  16281,  13107,  16499,  26214,  16550,  13107,  16579],\n       dtype=int16),\n (8,))"
     },
     "execution_count": 82,
     "metadata": {},
     "output_type": "execute_result"
    }
   ],
   "source": [
    "# а теперь попробуем просто сменить у массива dtype (возьмем копию массива, т.к. нам еще потребуется исходный массив)\n",
    "b = a.copy()\n",
    "b.dtype = 'int16'\n",
    "# при смене исходного float32 на int16 видим, что не только изменились элементы массива, но их количество. Оно удвоилось, что связано\n",
    "# с тем, что int16 занимает 2 байта, а float32 - 4 байта. В результате на каждый 4 байтный исходный элемент образовалось по паре 2-байтных int16\n",
    "# а в качестве значений мы видим половины байтовых представлений исходных чисел, отображенных как целые числа (т.к. int)\n",
    "# связано это с тем, что область памяти, занимаемой исходным массивом осталась неизменной - она просто стала интерпретироваться по-другому, через \n",
    "# \"призму\" другого типа\n",
    "b, b.shape"
   ],
   "metadata": {
    "collapsed": false,
    "ExecuteTime": {
     "end_time": "2023-10-19T19:40:26.853160900Z",
     "start_time": "2023-10-19T19:40:26.760998300Z"
    }
   },
   "id": "b49089a39b6771d7"
  },
  {
   "cell_type": "markdown",
   "source": [
    "### 10. Придумайте многомерный вектор, у которого одна или несколько осей будут иметь 1 элемент. Попробуйте убрать эти оси из вектора. Какой метод вы использовали? Как он работает?\n"
   ],
   "metadata": {
    "collapsed": false
   },
   "id": "c14b7b3a07391234"
  },
  {
   "cell_type": "code",
   "execution_count": 84,
   "outputs": [
    {
     "data": {
      "text/plain": "(1, 2, 3)"
     },
     "execution_count": 84,
     "metadata": {},
     "output_type": "execute_result"
    }
   ],
   "source": [
    "# определим следующий массив и посмотрим на его размерность\n",
    "a = np.array( [[['1.1.1', '1.1.2', '1.1.3' ], \n",
    "                ['1.2.1', '1.2.2', '1.2.3' ]]] )\n",
    "a.shape"
   ],
   "metadata": {
    "collapsed": false,
    "ExecuteTime": {
     "end_time": "2023-10-19T19:45:37.366268700Z",
     "start_time": "2023-10-19T19:45:37.307257400Z"
    }
   },
   "id": "32698f9c4d9ff7ca"
  },
  {
   "cell_type": "code",
   "execution_count": 86,
   "outputs": [
    {
     "data": {
      "text/plain": "(array([['1.1.1', '1.1.2', '1.1.3'],\n        ['1.2.1', '1.2.2', '1.2.3']], dtype='<U5'),\n (2, 3))"
     },
     "execution_count": 86,
     "metadata": {},
     "output_type": "execute_result"
    }
   ],
   "source": [
    "# видим, что по первой размерности из трех у него всего один элемент. Удалим эту размерность\n",
    "b = a.squeeze()\n",
    "# при выводе мы увидим, что первая размерность массива удалилась и он стал двумерным \n",
    "b, b.shape"
   ],
   "metadata": {
    "collapsed": false,
    "ExecuteTime": {
     "end_time": "2023-10-19T19:46:31.996429900Z",
     "start_time": "2023-10-19T19:46:31.931855500Z"
    }
   },
   "id": "fffb03aabce64a66"
  },
  {
   "cell_type": "code",
   "execution_count": 87,
   "outputs": [
    {
     "data": {
      "text/plain": "(1, 1, 3)"
     },
     "execution_count": 87,
     "metadata": {},
     "output_type": "execute_result"
    }
   ],
   "source": [
    "# а теперь возьмем массив с одним элементов в двух из трех измерений \n",
    "a = np.array( [[['1.1.1', '1.1.2', '1.1.3' ]]] )\n",
    "a.shape"
   ],
   "metadata": {
    "collapsed": false,
    "ExecuteTime": {
     "end_time": "2023-10-19T19:47:35.351479400Z",
     "start_time": "2023-10-19T19:47:35.293007600Z"
    }
   },
   "id": "f37383a8be8094f7"
  },
  {
   "cell_type": "code",
   "execution_count": 88,
   "outputs": [
    {
     "data": {
      "text/plain": "(3,)"
     },
     "execution_count": 88,
     "metadata": {},
     "output_type": "execute_result"
    }
   ],
   "source": [
    "# видим, что squize удаляет оба измерения с одним элементом\n",
    "b = a.squeeze()\n",
    "b.shape"
   ],
   "metadata": {
    "collapsed": false,
    "ExecuteTime": {
     "end_time": "2023-10-19T19:48:15.368670500Z",
     "start_time": "2023-10-19T19:48:15.311353300Z"
    }
   },
   "id": "824ec9d9d6014df1"
  },
  {
   "cell_type": "code",
   "execution_count": 89,
   "outputs": [
    {
     "data": {
      "text/plain": "(1, 3)"
     },
     "execution_count": 89,
     "metadata": {},
     "output_type": "execute_result"
    }
   ],
   "source": [
    "# однако, мы можем задать то измерение, которое хотим удалить.\n",
    "b = a.squeeze(axis=0)\n",
    "b.shape"
   ],
   "metadata": {
    "collapsed": false,
    "ExecuteTime": {
     "end_time": "2023-10-19T19:49:10.445927100Z",
     "start_time": "2023-10-19T19:49:10.382365300Z"
    }
   },
   "id": "9494d281336f7836"
  },
  {
   "cell_type": "markdown",
   "source": [
    "### 11. Создайте многомерный вектор. Добавьте одну или несколько фиктивных осей в разные части размерностей этого вектора. Какой метод вы использовали? Какие методы еще есть? \n"
   ],
   "metadata": {
    "collapsed": false
   },
   "id": "64941939eee24e97"
  },
  {
   "cell_type": "code",
   "execution_count": 90,
   "outputs": [
    {
     "data": {
      "text/plain": "(3,)"
     },
     "execution_count": 90,
     "metadata": {},
     "output_type": "execute_result"
    }
   ],
   "source": [
    "# возьмем одномерный массив\n",
    "a = np.array([1,2,3])\n",
    "a.shape"
   ],
   "metadata": {
    "collapsed": false,
    "ExecuteTime": {
     "end_time": "2023-10-19T19:50:33.245017900Z",
     "start_time": "2023-10-19T19:50:33.180360800Z"
    }
   },
   "id": "3e6b6e0441876cba"
  },
  {
   "cell_type": "code",
   "execution_count": 92,
   "outputs": [
    {
     "data": {
      "text/plain": "(array([[1],\n        [2],\n        [3]]),\n (3, 1))"
     },
     "execution_count": 92,
     "metadata": {},
     "output_type": "execute_result"
    }
   ],
   "source": [
    "# добавим к нему второе измерение с помощью expand_dims\n",
    "b = np.expand_dims(a, axis=1)\n",
    "# видим, что теперь элементы стали элементами строк\n",
    "b, b.shape"
   ],
   "metadata": {
    "collapsed": false,
    "ExecuteTime": {
     "end_time": "2023-10-19T19:51:51.001860100Z",
     "start_time": "2023-10-19T19:51:50.935593600Z"
    }
   },
   "id": "e02ffb610efeb59c"
  },
  {
   "cell_type": "code",
   "execution_count": 96,
   "outputs": [
    {
     "data": {
      "text/plain": "(array([[[1]],\n \n        [[2]],\n \n        [[3]]]),\n (3, 1, 1))"
     },
     "execution_count": 96,
     "metadata": {},
     "output_type": "execute_result"
    }
   ],
   "source": [
    "# но можно добавить новое измерение и другим способом - указав в срезе np.newaxis один или несколько раз\n",
    "b = a[:, np.newaxis, np.newaxis]\n",
    "b, b.shape"
   ],
   "metadata": {
    "collapsed": false,
    "ExecuteTime": {
     "end_time": "2023-10-19T19:54:47.367733800Z",
     "start_time": "2023-10-19T19:54:47.290870600Z"
    }
   },
   "id": "65d3f6df257e4ed8"
  },
  {
   "cell_type": "code",
   "execution_count": 95,
   "outputs": [
    {
     "data": {
      "text/plain": "(array([[1, 2, 3]]), (1, 3))"
     },
     "execution_count": 95,
     "metadata": {},
     "output_type": "execute_result"
    }
   ],
   "source": [
    "b = a[np.newaxis, :]\n",
    "b, b.shape"
   ],
   "metadata": {
    "collapsed": false,
    "ExecuteTime": {
     "end_time": "2023-10-19T19:54:30.591301200Z",
     "start_time": "2023-10-19T19:54:30.534842500Z"
    }
   },
   "id": "31717afa4eda7b13"
  },
  {
   "cell_type": "markdown",
   "source": [
    "### 12. Возьмите математические тождества из ноутбука 1_linal.ipynb. Придумайте матрицы и проверьте все тождества на корректность. Выводите результаты."
   ],
   "metadata": {
    "collapsed": false
   },
   "id": "504d7f3754aff69a"
  },
  {
   "cell_type": "code",
   "execution_count": 173,
   "outputs": [
    {
     "data": {
      "text/plain": "(array([[1, 3, 5],\n        [6, 6, 3],\n        [1, 0, 5]]),\n array([[1, 6, 1],\n        [3, 6, 0],\n        [5, 3, 5]]))"
     },
     "execution_count": 173,
     "metadata": {},
     "output_type": "execute_result"
    }
   ],
   "source": [
    "A = np.array([\n",
    "    [1, 3, 5],\n",
    "    [6, 6, 3],\n",
    "    [1, 0, 5]\n",
    "])\n",
    "\n",
    "B = A.transpose()\n",
    "\n",
    "A, B\n"
   ],
   "metadata": {
    "collapsed": false,
    "ExecuteTime": {
     "end_time": "2023-10-20T07:16:29.054293800Z",
     "start_time": "2023-10-20T07:16:28.951239800Z"
    }
   },
   "id": "abd0c266d94366e7"
  },
  {
   "cell_type": "markdown",
   "source": [
    "1. $AB \\neq BA$ (в общем случае)"
   ],
   "metadata": {
    "collapsed": false
   },
   "id": "e16a68f426c9ceea"
  },
  {
   "cell_type": "code",
   "execution_count": 174,
   "outputs": [
    {
     "data": {
      "text/plain": "False"
     },
     "execution_count": 174,
     "metadata": {},
     "output_type": "execute_result"
    }
   ],
   "source": [
    "((A @ B) == (B @ A)).all()"
   ],
   "metadata": {
    "collapsed": false,
    "ExecuteTime": {
     "end_time": "2023-10-20T07:16:31.401542600Z",
     "start_time": "2023-10-20T07:16:31.323787900Z"
    }
   },
   "id": "6680b72f5d85a592"
  },
  {
   "cell_type": "markdown",
   "source": [
    "2. $AA^{-1} = A^{-1}A = I$"
   ],
   "metadata": {
    "collapsed": false
   },
   "id": "6fcb4b8973ad0054"
  },
  {
   "cell_type": "code",
   "execution_count": 175,
   "outputs": [
    {
     "data": {
      "text/plain": "(True, True)"
     },
     "execution_count": 175,
     "metadata": {},
     "output_type": "execute_result"
    }
   ],
   "source": [
    "Ainv = np.linalg.inv(A)\n",
    "(((A @ Ainv) - (Ainv @ A)) < 0.0001).all(), (((A @ Ainv) - np.eye(3)) < 0.0001).all()"
   ],
   "metadata": {
    "collapsed": false,
    "ExecuteTime": {
     "end_time": "2023-10-20T07:16:34.475124Z",
     "start_time": "2023-10-20T07:16:34.399782300Z"
    }
   },
   "id": "14b4471a5d654328"
  },
  {
   "cell_type": "markdown",
   "source": [
    "3. $A + (-A) = A - A = 0$"
   ],
   "metadata": {
    "collapsed": false
   },
   "id": "b487cf765979ed1f"
  },
  {
   "cell_type": "code",
   "execution_count": 176,
   "outputs": [
    {
     "data": {
      "text/plain": "(True, True)"
     },
     "execution_count": 176,
     "metadata": {},
     "output_type": "execute_result"
    }
   ],
   "source": [
    "(A + (-1 * A) == np.zeros((3,3))).all(), (-1*A + A == np.zeros((3,3))).all() "
   ],
   "metadata": {
    "collapsed": false,
    "ExecuteTime": {
     "end_time": "2023-10-20T07:16:37.263855Z",
     "start_time": "2023-10-20T07:16:37.186119800Z"
    }
   },
   "id": "d1645295db7ca1cd"
  },
  {
   "cell_type": "markdown",
   "source": [
    "4. $ A+B = B+A $"
   ],
   "metadata": {
    "collapsed": false
   },
   "id": "fd087558cd1dae0f"
  },
  {
   "cell_type": "code",
   "execution_count": 177,
   "outputs": [
    {
     "data": {
      "text/plain": "True"
     },
     "execution_count": 177,
     "metadata": {},
     "output_type": "execute_result"
    }
   ],
   "source": [
    "((A + B) == (B + A)).all()"
   ],
   "metadata": {
    "collapsed": false,
    "ExecuteTime": {
     "end_time": "2023-10-20T07:16:38.997485Z",
     "start_time": "2023-10-20T07:16:38.908766700Z"
    }
   },
   "id": "fd5267b7d3ae6e42"
  },
  {
   "cell_type": "markdown",
   "source": [
    "5. $ A+(B+C) = (A+B)+C $\n"
   ],
   "metadata": {
    "collapsed": false
   },
   "id": "dc57e50197c80bca"
  },
  {
   "cell_type": "code",
   "execution_count": 178,
   "outputs": [
    {
     "data": {
      "text/plain": "True"
     },
     "execution_count": 178,
     "metadata": {},
     "output_type": "execute_result"
    }
   ],
   "source": [
    "C = np.random.randint(0, 5, (3,3))\n",
    "(A + (B + C) == (A + B) + C).all()"
   ],
   "metadata": {
    "collapsed": false,
    "ExecuteTime": {
     "end_time": "2023-10-20T07:16:40.723392300Z",
     "start_time": "2023-10-20T07:16:40.631510600Z"
    }
   },
   "id": "e69748c60d16bd35"
  },
  {
   "cell_type": "markdown",
   "source": [
    "6. $ (A+B)^T = A^T + B^T $\n"
   ],
   "metadata": {
    "collapsed": false
   },
   "id": "9cd0c7eae980c12a"
  },
  {
   "cell_type": "code",
   "execution_count": 179,
   "outputs": [
    {
     "data": {
      "text/plain": "True"
     },
     "execution_count": 179,
     "metadata": {},
     "output_type": "execute_result"
    }
   ],
   "source": [
    "((A + B).transpose() == A.transpose() + B.transpose()).all()"
   ],
   "metadata": {
    "collapsed": false,
    "ExecuteTime": {
     "end_time": "2023-10-20T07:16:41.995746Z",
     "start_time": "2023-10-20T07:16:41.913552100Z"
    }
   },
   "id": "25661384fca1fb37"
  },
  {
   "cell_type": "markdown",
   "source": [
    "7. $\\alpha(\\beta A) = (\\alpha \\beta)A$\n"
   ],
   "metadata": {
    "collapsed": false
   },
   "id": "98addb553277e00f"
  },
  {
   "cell_type": "code",
   "execution_count": 180,
   "outputs": [
    {
     "data": {
      "text/plain": "True"
     },
     "execution_count": 180,
     "metadata": {},
     "output_type": "execute_result"
    }
   ],
   "source": [
    "(((3.4 * (2.7 * A)) - ((3.4 * 2.7) * A)) < 0.0001).all()"
   ],
   "metadata": {
    "collapsed": false,
    "ExecuteTime": {
     "end_time": "2023-10-20T07:16:43.391266900Z",
     "start_time": "2023-10-20T07:16:43.272355700Z"
    }
   },
   "id": "5fd90e07a3d84c76"
  },
  {
   "cell_type": "markdown",
   "source": [
    "8. $ \\alpha (AB) = (\\alpha A)B = A (\\alpha B) $\n"
   ],
   "metadata": {
    "collapsed": false
   },
   "id": "eeca738da75bc9b4"
  },
  {
   "cell_type": "code",
   "execution_count": 181,
   "outputs": [
    {
     "data": {
      "text/plain": "(True, True)"
     },
     "execution_count": 181,
     "metadata": {},
     "output_type": "execute_result"
    }
   ],
   "source": [
    "(5 * (A @ B) == (5 * A) @ B).all(), ((5 * A) @ B == A @ (5 * B)).all() "
   ],
   "metadata": {
    "collapsed": false,
    "ExecuteTime": {
     "end_time": "2023-10-20T07:16:44.840982800Z",
     "start_time": "2023-10-20T07:16:44.772327500Z"
    }
   },
   "id": "217c0d5ccbda3cd6"
  },
  {
   "cell_type": "markdown",
   "source": [
    "9. $(AB)C = A(BC)$\n"
   ],
   "metadata": {
    "collapsed": false
   },
   "id": "3df2c42fe5bb4802"
  },
  {
   "cell_type": "code",
   "execution_count": 182,
   "outputs": [
    {
     "data": {
      "text/plain": "True"
     },
     "execution_count": 182,
     "metadata": {},
     "output_type": "execute_result"
    }
   ],
   "source": [
    "C = np.random.randint(0, 5, (3,3))\n",
    "((A @ B) @ C == A @ (B @ C)).all()"
   ],
   "metadata": {
    "collapsed": false,
    "ExecuteTime": {
     "end_time": "2023-10-20T07:16:46.475949100Z",
     "start_time": "2023-10-20T07:16:46.300606Z"
    }
   },
   "id": "9e3b56ece35dc86a"
  },
  {
   "cell_type": "markdown",
   "source": [
    "10. $(AB)^T = B^T A^T$\n"
   ],
   "metadata": {
    "collapsed": false
   },
   "id": "442648f4d1c77b28"
  },
  {
   "cell_type": "code",
   "execution_count": 183,
   "outputs": [
    {
     "data": {
      "text/plain": "True"
     },
     "execution_count": 183,
     "metadata": {},
     "output_type": "execute_result"
    }
   ],
   "source": [
    "((A @ B).transpose() == B.transpose() @ A.transpose()).all() "
   ],
   "metadata": {
    "collapsed": false,
    "ExecuteTime": {
     "end_time": "2023-10-20T07:16:49.160456Z",
     "start_time": "2023-10-20T07:16:49.068578700Z"
    }
   },
   "id": "c54057cc7d2c5214"
  },
  {
   "cell_type": "markdown",
   "source": [
    "12. $ A(B+C) = AB + AC $\n"
   ],
   "metadata": {
    "collapsed": false
   },
   "id": "34ce99aabd8d1899"
  },
  {
   "cell_type": "code",
   "execution_count": 184,
   "outputs": [
    {
     "data": {
      "text/plain": "True"
     },
     "execution_count": 184,
     "metadata": {},
     "output_type": "execute_result"
    }
   ],
   "source": [
    "C = np.random.randint(0, 5, (3,3))\n",
    "(A @ (B + C) == A @ B + A @ C).all()"
   ],
   "metadata": {
    "collapsed": false,
    "ExecuteTime": {
     "end_time": "2023-10-20T07:16:50.769641800Z",
     "start_time": "2023-10-20T07:16:50.679081500Z"
    }
   },
   "id": "2dac9a7bd7350a6c"
  },
  {
   "cell_type": "markdown",
   "source": [
    "13. $(A+B)C = AC + BC $\n"
   ],
   "metadata": {
    "collapsed": false
   },
   "id": "4634ce370186606"
  },
  {
   "cell_type": "code",
   "execution_count": 185,
   "outputs": [
    {
     "data": {
      "text/plain": "True"
     },
     "execution_count": 185,
     "metadata": {},
     "output_type": "execute_result"
    }
   ],
   "source": [
    "((A + B) @ C == A @ C + B @ C).all()"
   ],
   "metadata": {
    "collapsed": false,
    "ExecuteTime": {
     "end_time": "2023-10-20T07:16:52.143047800Z",
     "start_time": "2023-10-20T07:16:52.046576200Z"
    }
   },
   "id": "4b10633c62548af6"
  },
  {
   "cell_type": "markdown",
   "source": [
    "14. $ \\alpha (A+B) = \\alpha A + \\alpha B $"
   ],
   "metadata": {
    "collapsed": false
   },
   "id": "c713b3f09370f7fe"
  },
  {
   "cell_type": "code",
   "execution_count": 186,
   "outputs": [
    {
     "data": {
      "text/plain": "True"
     },
     "execution_count": 186,
     "metadata": {},
     "output_type": "execute_result"
    }
   ],
   "source": [
    "(7 * (A + B) == 7 * A + 7 * B).all()"
   ],
   "metadata": {
    "collapsed": false,
    "ExecuteTime": {
     "end_time": "2023-10-20T07:16:53.790032200Z",
     "start_time": "2023-10-20T07:16:53.718774Z"
    }
   },
   "id": "49b44af54dc3fbf3"
  },
  {
   "cell_type": "markdown",
   "source": [
    "11. $AB = BA$ (если матрицы диагональные)\n"
   ],
   "metadata": {
    "collapsed": false
   },
   "id": "c464ba4bf413c369"
  },
  {
   "cell_type": "code",
   "execution_count": 187,
   "outputs": [
    {
     "data": {
      "text/plain": "True"
     },
     "execution_count": 187,
     "metadata": {},
     "output_type": "execute_result"
    }
   ],
   "source": [
    "A = np.diag([3, 5, 6])\n",
    "B = np.diag([1, 6, 3])\n",
    "\n",
    "(A @ B == B @ A).all()"
   ],
   "metadata": {
    "collapsed": false,
    "ExecuteTime": {
     "end_time": "2023-10-20T07:16:55.839006800Z",
     "start_time": "2023-10-20T07:16:55.767513400Z"
    }
   },
   "id": "48e0ebb96d8ad6da"
  },
  {
   "cell_type": "markdown",
   "source": [
    "### 13. Реализуйте функцию умножения двух матриц. Она должна уметь проверять размерность входящих матриц на возможность умножения, делать само перемножение и выводить результат. Если умножение невозможно, то должна выдаваться ошибка с понятным текстом. Само умножение матриц сделайте через тройной цикл (для этого надо понять, как работает операция умножения (не поэлементное) с матрицами. В видео есть объяснение от меня словами. Если будет нужно дополнительно поискать, то гугл не запрещается :). При задании аргументов и определении функции (какой тип возвращает функция) используйте модуль typing (https://docs.python.org/3/library/typing.html). Также напишите docstring к вашей функции. "
   ],
   "metadata": {
    "collapsed": false
   },
   "id": "def6666d7c7dbe22"
  },
  {
   "cell_type": "code",
   "execution_count": 188,
   "outputs": [],
   "source": [
    "def multiply(left_matrix: np.ndarray , right_matrix: np.ndarray) -> np.ndarray:\n",
    "    \"\"\"\n",
    "    Выполняет умножение матриц left_matrix и right_matrix. Генерирует ValueError, если размерности матриц не удовлетворяют требованиям операции умножения\n",
    "    :param left_matrix: левая матрица размерности m x n\n",
    "    :param right_matrix: правая матрица размерности n x k\n",
    "    :return: матрица размерности m х k, полученную в результате умножения\n",
    "    \"\"\"\n",
    "    m, n = left_matrix.shape \n",
    "    if right_matrix.shape[0] != n: \n",
    "        raise ValueError('Количество строк правой матрицы не может отличаться от количества столбцов в левой')\n",
    "    n, k = right_matrix.shape                     \n",
    "    \n",
    "    res = np.zeros((m,k))\n",
    "    for i in range(m):\n",
    "        for j in range(k):\n",
    "            for l in range(n):\n",
    "                    res[i][j] += left_matrix[i][l]*right_matrix[l][j]\n",
    "    return res"
   ],
   "metadata": {
    "collapsed": false,
    "ExecuteTime": {
     "end_time": "2023-10-20T07:17:02.731296300Z",
     "start_time": "2023-10-20T07:17:02.646337Z"
    }
   },
   "id": "9db941ae0a73fe86"
  },
  {
   "cell_type": "code",
   "execution_count": 189,
   "outputs": [
    {
     "data": {
      "text/plain": "True"
     },
     "execution_count": 189,
     "metadata": {},
     "output_type": "execute_result"
    }
   ],
   "source": [
    "A = np.array([\n",
    "    [1, 2, 4, 1],\n",
    "    [2, 0, 3, 1]\n",
    "])\n",
    "\n",
    "B = np.array([\n",
    "    [4, 1],\n",
    "    [0, 3],\n",
    "    [2, 1],\n",
    "    [2, 1]\n",
    "])\n",
    "\n",
    "C1 = multiply(A, B)\n",
    "C2 = A @ B\n",
    "\n",
    "(C1 == C2).all()\n"
   ],
   "metadata": {
    "collapsed": false,
    "ExecuteTime": {
     "end_time": "2023-10-20T07:17:03.719262300Z",
     "start_time": "2023-10-20T07:17:03.638301800Z"
    }
   },
   "id": "78347f2ed2438a9f"
  },
  {
   "cell_type": "markdown",
   "source": [
    "### 14. Возьмите 2 любые матрицы. И сравните время работы вашей функции по умножению матриц из п.7 с умножением матриц из numpy с помощью магической функции %%timeit в jupyter notebook. В комментариях сделайте выводы. Напишите возможные причины получения такого результата."
   ],
   "metadata": {
    "collapsed": false
   },
   "id": "df359a6925bef94d"
  },
  {
   "cell_type": "code",
   "execution_count": 190,
   "outputs": [
    {
     "name": "stdout",
     "output_type": "stream",
     "text": [
      "79.3 µs ± 10.6 µs per loop (mean ± std. dev. of 7 runs, 10,000 loops each)\n"
     ]
    }
   ],
   "source": [
    "%%timeit\n",
    "A = np.random.randint(0, 30, (5,5))\n",
    "B = np.random.randint(0, 30, (5,5))\n",
    "multiply(A,B)\n"
   ],
   "metadata": {
    "collapsed": false,
    "ExecuteTime": {
     "end_time": "2023-10-20T07:17:16.678532Z",
     "start_time": "2023-10-20T07:17:10.240965100Z"
    }
   },
   "id": "afe25a833940c733"
  },
  {
   "cell_type": "code",
   "execution_count": 191,
   "outputs": [
    {
     "name": "stdout",
     "output_type": "stream",
     "text": [
      "8.95 µs ± 115 ns per loop (mean ± std. dev. of 7 runs, 100,000 loops each)\n"
     ]
    }
   ],
   "source": [
    "%%timeit\n",
    "A = np.random.randint(0, 30, (5,5))\n",
    "B = np.random.randint(0, 30, (5,5))\n",
    "A @ B\n"
   ],
   "metadata": {
    "collapsed": false,
    "ExecuteTime": {
     "end_time": "2023-10-20T07:17:23.964535900Z",
     "start_time": "2023-10-20T07:17:16.653460700Z"
    }
   },
   "id": "b3efe605ad198337"
  },
  {
   "cell_type": "markdown",
   "source": [
    "Результаты замера времени выполнения показывают, что операция из numpy выполняется почти на порядок быстрее. \n",
    "Причины могут быть следующими:\n",
    "- numpy написан на C, а собственный метод на python, который гораздо медленнее\n",
    "- в numpy реализация может быть оптимизирована\n",
    "- numpy может эффективнее работать с памятью в процессе выполнения операции"
   ],
   "metadata": {
    "collapsed": false
   },
   "id": "7aff87bcb62846d9"
  },
  {
   "cell_type": "markdown",
   "source": [
    "### 15. Любая матрица - это оператор в линейном пространстве. Она может поворачивать, смещать, менять масштаб у векторов, на которые воздействует. Придумайте матрицы поворота, смещения, растяжения(или сжатия) и преобразуйте 3 каких-нибудь случайных вектора. Выводите результаты. В комментариях опишите словами, что вы сделали.\n"
   ],
   "metadata": {
    "collapsed": false
   },
   "id": "e601ecafaf738424"
  },
  {
   "cell_type": "code",
   "execution_count": 231,
   "outputs": [],
   "source": [
    "# для демонстрации изменения вектора напишем функцию отображения одного или нескольких векторов на графике\n",
    "# код собран из кусков со stackoverflow и пока не очень понятен :) но задача в другом, так что пока пойдет, я думаю\n",
    "import matplotlib.pyplot as plt\n",
    "\n",
    "def do_the_plot_magic(*args):\n",
    "    x1 = [] \n",
    "    y1 = []\n",
    "    x2 = []\n",
    "    y2 = [] \n",
    "    for vector in args:\n",
    "        x1.append(0)\n",
    "        y1.append(0)\n",
    "        x2.append(vector[0])\n",
    "        y2.append(vector[1])\n",
    "    plt.quiver(x1, y1, x2, y2, angles='xy', scale_units='xy', color=['b','r','g'], scale=1)    \n",
    "    plt.xlim(-3, 3)\n",
    "    plt.ylim(-3, 3)\n",
    "    "
   ],
   "metadata": {
    "collapsed": false,
    "ExecuteTime": {
     "end_time": "2023-10-20T07:57:22.524947800Z",
     "start_time": "2023-10-20T07:57:22.439701800Z"
    }
   },
   "id": "e56d491cc079bd0a"
  },
  {
   "cell_type": "code",
   "execution_count": 236,
   "outputs": [
    {
     "data": {
      "text/plain": "<Figure size 640x480 with 1 Axes>",
      "image/png": "[encoded data removed]"
     },
     "metadata": {},
     "output_type": "display_data"
    }
   ],
   "source": [
    "# определим функцию получения матрицы поворота против часовой стрелки на угол angle\n",
    "def get_rotation_matrix(angle):\n",
    "    return np.array([\n",
    "        [np.cos(angle), - np.sin(angle)], \n",
    "        [np.sin(angle), np.cos(angle)]    \n",
    "    ])\n",
    "\n",
    "# получим матрицу поворота на 90 градусов и повернем вектор 1,1, после чего отобразим исходный и полученный вектор\n",
    "R = get_rotation_matrix(np.pi / 2)\n",
    "\n",
    "x1 = np.array([1, 1])\n",
    "x2 = R @ x1\n",
    "\n",
    "do_the_plot_magic(x1, x2)"
   ],
   "metadata": {
    "collapsed": false,
    "ExecuteTime": {
     "end_time": "2023-10-20T08:01:40.753947800Z",
     "start_time": "2023-10-20T08:01:40.653187900Z"
    }
   },
   "id": "63fc04a56db8dcb"
  },
  {
   "cell_type": "code",
   "execution_count": 238,
   "outputs": [
    {
     "data": {
      "text/plain": "<Figure size 640x480 with 1 Axes>",
      "image/png": "[encoded data removed]"
     },
     "metadata": {},
     "output_type": "display_data"
    }
   ],
   "source": [
    "# определим функцию получения матрицы растяжения  вектора на коэффициент k\n",
    "def get_stretching_matrix(k):\n",
    "    return np.array([\n",
    "        [k, 0], \n",
    "        [0, k]    \n",
    "    ])\n",
    "\n",
    "# получим матрицу растяжения с коэффициентом 2, повернем 1,1 на 90 градусов и растянем его в 2 раза, после чего отобразим исходный и полученный вектор\n",
    "S = get_stretching_matrix(2)\n",
    "\n",
    "x1 = np.array([1, 1])\n",
    "x2 = S @ R @ x1\n",
    "\n",
    "do_the_plot_magic(x1, x2)"
   ],
   "metadata": {
    "collapsed": false,
    "ExecuteTime": {
     "end_time": "2023-10-20T08:07:15.240418900Z",
     "start_time": "2023-10-20T08:07:15.127833Z"
    }
   },
   "id": "d56e7752da25595b"
  },
  {
   "cell_type": "code",
   "execution_count": 242,
   "outputs": [
    {
     "data": {
      "text/plain": "<Figure size 640x480 with 1 Axes>",
      "image/png": "[encoded data removed]"
     },
     "metadata": {},
     "output_type": "display_data"
    }
   ],
   "source": [
    "# для смещения вектора (параллельного переноса) к нему нужно прибавить другой вектор, определяющий смещение\n",
    "# определим такой вектор m, после чего сделаем перенос вектора 1,1 на m и отобразим исходный и полученные векторы\n",
    "m = np.array((-1, 1)) # смещение по x на 1 влево и по y на 1 вверх\n",
    "x1 = np.array((1,1))\n",
    "x2 = x1 + m\n",
    "\n",
    "do_the_plot_magic(x1, x2)\n",
    "# в результате видим, что x1 сдвинулся из (1,1) в (0,2). Красный вектор как раз указывает на эту точку \n",
    "# (т.к. начало его осталось в 0, то визуально это выглядит не как сдвиг всего изображения исходного вектора, а только как сдвиг его конца) "
   ],
   "metadata": {
    "collapsed": false,
    "ExecuteTime": {
     "end_time": "2023-10-20T08:12:29.341265800Z",
     "start_time": "2023-10-20T08:12:29.251833400Z"
    }
   },
   "id": "8f5cc46fccacc19d"
  },
  {
   "cell_type": "code",
   "execution_count": null,
   "outputs": [],
   "source": [],
   "metadata": {
    "collapsed": false
   },
   "id": "da4ea2487f360f53"
  }
 ],
 "metadata": {
  "kernelspec": {
   "display_name": "Python 3",
   "language": "python",
   "name": "python3"
  },
  "language_info": {
   "codemirror_mode": {
    "name": "ipython",
    "version": 2
   },
   "file_extension": ".py",
   "mimetype": "text/x-python",
   "name": "python",
   "nbconvert_exporter": "python",
   "pygments_lexer": "ipython2",
   "version": "2.7.6"
  }
 },
 "nbformat": 4,
 "nbformat_minor": 5
}
